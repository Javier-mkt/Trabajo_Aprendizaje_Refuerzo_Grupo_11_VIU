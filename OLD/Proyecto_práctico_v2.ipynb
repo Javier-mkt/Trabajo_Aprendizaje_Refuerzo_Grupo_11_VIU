{
  "cells": [
    {
      "cell_type": "markdown",
      "metadata": {
        "id": "jUehXgCyIRdq"
      },
      "source": [
        "# Actividad - Proyecto práctico\n",
        "\n",
        "\n",
        "> La actividad se desarrollará en grupos pre-definidos de 2-3 alumnos. Se debe indicar los nombres en orden alfabético (de apellidos). Recordad que esta actividad se corresponde con un 30% de la nota final de la asignatura. Se debe entregar entregar el trabajo en la presente notebook.\n",
        "*   Alumno 1: Gil Garcera, Javier\n",
        "*   Alumno 2: Palomares Mateo, Abel\n",
        "*   Alumno 3: Serrano López, Francisco Rubén\n",
        "*   Alumno 4: Vegas Romero, David\n",
        "\n",
        "\n",
        "\n",
        "\n",
        "\n"
      ]
    },
    {
      "cell_type": "markdown",
      "metadata": {
        "id": "JwpYlnjWJhS9"
      },
      "source": [
        "---\n",
        "## **PARTE 1** - Instalación y requisitos previos\n",
        "\n",
        "> Las prácticas han sido preparadas para poder realizarse en el entorno de trabajo de Google Colab. Sin embargo, esta plataforma presenta ciertas incompatibilidades a la hora de visualizar la renderización en gym. Por ello, para obtener estas visualizaciones, se deberá trasladar el entorno de trabajo a local. Por ello, el presente dosier presenta instrucciones para poder trabajar en ambos entornos. Siga los siguientes pasos para un correcto funcionamiento:\n",
        "1.   **LOCAL:** Preparar el enviroment, siguiendo las intrucciones detalladas en la sección *1.1.Preparar enviroment*.\n",
        "2.  **AMBOS:** Modificar las variables \"mount\" y \"drive_mount\" a la carpeta de trabajo en drive en el caso de estar en Colab, y ejecturar la celda *1.2.Localizar entorno de trabajo*.\n",
        "3. **COLAB:** se deberá ejecutar las celdas correspondientes al montaje de la carpeta de trabajo en Drive. Esta corresponde a la sección *1.3.Montar carpeta de datos local*.\n",
        "4.  **AMBOS:** Instalar las librerías necesarias, siguiendo la sección *1.4.Instalar librerías necesarias*.\n"
      ]
    },
    {
      "cell_type": "markdown",
      "metadata": {
        "id": "RU2BPrK2JkP0"
      },
      "source": [
        "---\n",
        "### 1.1. Preparar enviroment (solo local)\n",
        "\n",
        "\n",
        "\n",
        "> Para preparar el entorno de trabajo en local, se han seguido los siguientes pasos:\n",
        "1. En Windows, puede ser necesario instalar las C++ Build Tools. Para ello, siga los siguientes pasos: https://towardsdatascience.com/how-to-install-openai-gym-in-a-windows-environment-338969e24d30.\n",
        "2. Instalar Anaconda\n",
        "3. Siguiendo el código que se presenta comentado en la próxima celda: Crear un enviroment, cambiar la ruta de trabajo, e instalar librerías básicas.\n",
        "\n",
        "\n",
        "```\n",
        "conda create --name miar_rl python=3.8\n",
        "conda activate miar_rl\n",
        "cd \"PATH_TO_FOLDER\"\n",
        "conda install git\n",
        "pip install jupyter\n",
        "```\n",
        "\n",
        "\n",
        "4. Abrir la notebook con *jupyter-notebook*.\n",
        "\n",
        "\n",
        "\n",
        "```\n",
        "jupyter-notebook\n",
        "```\n"
      ]
    },
    {
      "cell_type": "markdown",
      "metadata": {
        "id": "w-kixNPiJqTc"
      },
      "source": [
        "---\n",
        "### 1.2. Localizar entorno de trabajo: Google colab o local"
      ]
    },
    {
      "cell_type": "code",
      "execution_count": 1,
      "metadata": {
        "id": "UncM99xIex6Q"
      },
      "outputs": [],
      "source": [
        "# ATENCIÓN!! Modificar ruta relativa a la práctica si es distinta (drive_root)\n",
        "mount='/content/gdrive'\n",
        "drive_root = mount + \"/My Drive/08_MIAR/actividades/proyecto practico_v2\"\n",
        "\n",
        "try:\n",
        "  from google.colab import drive\n",
        "  IN_COLAB=True\n",
        "except:\n",
        "  IN_COLAB=False"
      ]
    },
    {
      "cell_type": "markdown",
      "metadata": {
        "id": "8Dp_a1iBJ0tf"
      },
      "source": [
        "---\n",
        "### 1.3. Montar carpeta de datos local (solo Colab)"
      ]
    },
    {
      "cell_type": "code",
      "execution_count": 2,
      "metadata": {
        "id": "I6n7MIefJ21i",
        "colab": {
          "base_uri": "https://localhost:8080/"
        },
        "outputId": "d7390fdf-97c1-424c-cca6-50948b923f69"
      },
      "outputs": [
        {
          "output_type": "stream",
          "name": "stdout",
          "text": [
            "We're running Colab\n",
            "Colab: mounting Google drive on  /content/gdrive\n",
            "Drive already mounted at /content/gdrive; to attempt to forcibly remount, call drive.mount(\"/content/gdrive\", force_remount=True).\n",
            "\n",
            "Colab: making sure  /content/gdrive/My Drive/08_MIAR/actividades/proyecto practico_v2  exists.\n",
            "\n",
            "Colab: Changing directory to  /content/gdrive/My Drive/08_MIAR/actividades/proyecto practico_v2\n",
            "/content/gdrive/My Drive/08_MIAR/actividades/proyecto practico_v2\n",
            "Archivos en el directorio: \n",
            "['dqn_model_50000.h5', 'dqn_model_100000.h5', 'dqn_model_150000.h5', 'dqn_model_200000.h5', 'dqn_model_250000.h5', 'dqn_model_300000.h5', 'dqn_model_350000.h5', 'dqn_model_400000.h5', 'dqn_model_450000.h5', 'dqn_model_500000.h5', 'dqn_model_550000.h5', 'dqn_model_600000.h5', 'dqn_model_650000.h5', 'dqn_model_700000.h5', 'dqn_model_750000.h5', 'dqn_model_800000.h5', 'dqn_model_850000.h5', 'dqn_model_900000.h5', 'dqn_model_950000.h5', 'dqn_model_1000000.h5', 'dqn_model_1050000.h5', 'dqn_model_1100000.h5', 'dqn_model_1150000.h5', 'dqn_model_1200000.h5', 'dqn_model_1250000.h5', 'dqn_model_1300000.h5', 'dqn_model_1350000.h5', 'dqn_model_1400000.h5']\n"
          ]
        }
      ],
      "source": [
        "# Switch to the directory on the Google Drive that you want to use\n",
        "import os\n",
        "if IN_COLAB:\n",
        "  print(\"We're running Colab\")\n",
        "\n",
        "  if IN_COLAB:\n",
        "    # Mount the Google Drive at mount\n",
        "    print(\"Colab: mounting Google drive on \", mount)\n",
        "\n",
        "    drive.mount(mount)\n",
        "\n",
        "    # Create drive_root if it doesn't exist\n",
        "    create_drive_root = True\n",
        "    if create_drive_root:\n",
        "      print(\"\\nColab: making sure \", drive_root, \" exists.\")\n",
        "      os.makedirs(drive_root, exist_ok=True)\n",
        "\n",
        "    # Change to the directory\n",
        "    print(\"\\nColab: Changing directory to \", drive_root)\n",
        "    %cd $drive_root\n",
        "# Verify we're in the correct working directory\n",
        "%pwd\n",
        "print(\"Archivos en el directorio: \")\n",
        "print(os.listdir())"
      ]
    },
    {
      "cell_type": "markdown",
      "metadata": {
        "id": "i1ZSL5bpJ560"
      },
      "source": [
        "---\n",
        "### 1.4. Instalar librerías necesarias"
      ]
    },
    {
      "cell_type": "code",
      "execution_count": 3,
      "metadata": {
        "id": "UbVRjvHCJ8UF",
        "colab": {
          "base_uri": "https://localhost:8080/"
        },
        "outputId": "a0210644-41d3-46d6-ff22-f1df4ebb7bb0"
      },
      "outputs": [
        {
          "output_type": "stream",
          "name": "stdout",
          "text": [
            "Requirement already satisfied: gym==0.17.3 in /usr/local/lib/python3.11/dist-packages (0.17.3)\n",
            "Requirement already satisfied: scipy in /usr/local/lib/python3.11/dist-packages (from gym==0.17.3) (1.15.3)\n",
            "Requirement already satisfied: numpy>=1.10.4 in /usr/local/lib/python3.11/dist-packages (from gym==0.17.3) (1.23.5)\n",
            "Requirement already satisfied: pyglet<=1.5.0,>=1.4.0 in /usr/local/lib/python3.11/dist-packages (from gym==0.17.3) (1.5.0)\n",
            "Requirement already satisfied: cloudpickle<1.7.0,>=1.2.0 in /usr/local/lib/python3.11/dist-packages (from gym==0.17.3) (1.6.0)\n",
            "Requirement already satisfied: future in /usr/local/lib/python3.11/dist-packages (from pyglet<=1.5.0,>=1.4.0->gym==0.17.3) (1.0.0)\n",
            "Collecting git+https://github.com/Kojoley/atari-py.git\n",
            "  Cloning https://github.com/Kojoley/atari-py.git to /tmp/pip-req-build-f6i_3zzd\n",
            "  Running command git clone --filter=blob:none --quiet https://github.com/Kojoley/atari-py.git /tmp/pip-req-build-f6i_3zzd\n",
            "  Resolved https://github.com/Kojoley/atari-py.git to commit 86a1e05c0a95e9e6233c3a413521fdb34ca8a089\n",
            "  Preparing metadata (setup.py) ... \u001b[?25l\u001b[?25hdone\n",
            "Requirement already satisfied: numpy in /usr/local/lib/python3.11/dist-packages (from atari-py==1.2.2) (1.23.5)\n",
            "Requirement already satisfied: keras-rl2==1.0.5 in /usr/local/lib/python3.11/dist-packages (1.0.5)\n",
            "Requirement already satisfied: tensorflow in /usr/local/lib/python3.11/dist-packages (from keras-rl2==1.0.5) (2.12.0)\n",
            "Requirement already satisfied: absl-py>=1.0.0 in /usr/local/lib/python3.11/dist-packages (from tensorflow->keras-rl2==1.0.5) (1.4.0)\n",
            "Requirement already satisfied: astunparse>=1.6.0 in /usr/local/lib/python3.11/dist-packages (from tensorflow->keras-rl2==1.0.5) (1.6.3)\n",
            "Requirement already satisfied: flatbuffers>=2.0 in /usr/local/lib/python3.11/dist-packages (from tensorflow->keras-rl2==1.0.5) (25.2.10)\n",
            "Requirement already satisfied: gast<=0.4.0,>=0.2.1 in /usr/local/lib/python3.11/dist-packages (from tensorflow->keras-rl2==1.0.5) (0.4.0)\n",
            "Requirement already satisfied: google-pasta>=0.1.1 in /usr/local/lib/python3.11/dist-packages (from tensorflow->keras-rl2==1.0.5) (0.2.0)\n",
            "Requirement already satisfied: grpcio<2.0,>=1.24.3 in /usr/local/lib/python3.11/dist-packages (from tensorflow->keras-rl2==1.0.5) (1.73.0)\n",
            "Requirement already satisfied: h5py>=2.9.0 in /usr/local/lib/python3.11/dist-packages (from tensorflow->keras-rl2==1.0.5) (3.14.0)\n",
            "Requirement already satisfied: jax>=0.3.15 in /usr/local/lib/python3.11/dist-packages (from tensorflow->keras-rl2==1.0.5) (0.4.30)\n",
            "Requirement already satisfied: keras<2.13,>=2.12.0 in /usr/local/lib/python3.11/dist-packages (from tensorflow->keras-rl2==1.0.5) (2.12.0)\n",
            "Requirement already satisfied: libclang>=13.0.0 in /usr/local/lib/python3.11/dist-packages (from tensorflow->keras-rl2==1.0.5) (18.1.1)\n",
            "Requirement already satisfied: numpy<1.24,>=1.22 in /usr/local/lib/python3.11/dist-packages (from tensorflow->keras-rl2==1.0.5) (1.23.5)\n",
            "Requirement already satisfied: opt-einsum>=2.3.2 in /usr/local/lib/python3.11/dist-packages (from tensorflow->keras-rl2==1.0.5) (3.4.0)\n",
            "Requirement already satisfied: packaging in /usr/local/lib/python3.11/dist-packages (from tensorflow->keras-rl2==1.0.5) (24.2)\n",
            "Requirement already satisfied: protobuf!=4.21.0,!=4.21.1,!=4.21.2,!=4.21.3,!=4.21.4,!=4.21.5,<5.0.0dev,>=3.20.3 in /usr/local/lib/python3.11/dist-packages (from tensorflow->keras-rl2==1.0.5) (4.25.8)\n",
            "Requirement already satisfied: setuptools in /usr/local/lib/python3.11/dist-packages (from tensorflow->keras-rl2==1.0.5) (75.2.0)\n",
            "Requirement already satisfied: six>=1.12.0 in /usr/local/lib/python3.11/dist-packages (from tensorflow->keras-rl2==1.0.5) (1.17.0)\n",
            "Requirement already satisfied: tensorboard<2.13,>=2.12 in /usr/local/lib/python3.11/dist-packages (from tensorflow->keras-rl2==1.0.5) (2.12.3)\n",
            "Requirement already satisfied: tensorflow-estimator<2.13,>=2.12.0 in /usr/local/lib/python3.11/dist-packages (from tensorflow->keras-rl2==1.0.5) (2.12.0)\n",
            "Requirement already satisfied: termcolor>=1.1.0 in /usr/local/lib/python3.11/dist-packages (from tensorflow->keras-rl2==1.0.5) (3.1.0)\n",
            "Requirement already satisfied: typing-extensions>=3.6.6 in /usr/local/lib/python3.11/dist-packages (from tensorflow->keras-rl2==1.0.5) (4.14.0)\n",
            "Requirement already satisfied: wrapt<1.15,>=1.11.0 in /usr/local/lib/python3.11/dist-packages (from tensorflow->keras-rl2==1.0.5) (1.14.1)\n",
            "Requirement already satisfied: tensorflow-io-gcs-filesystem>=0.23.1 in /usr/local/lib/python3.11/dist-packages (from tensorflow->keras-rl2==1.0.5) (0.37.1)\n",
            "Requirement already satisfied: wheel<1.0,>=0.23.0 in /usr/local/lib/python3.11/dist-packages (from astunparse>=1.6.0->tensorflow->keras-rl2==1.0.5) (0.45.1)\n",
            "Requirement already satisfied: jaxlib<=0.4.30,>=0.4.27 in /usr/local/lib/python3.11/dist-packages (from jax>=0.3.15->tensorflow->keras-rl2==1.0.5) (0.4.30)\n",
            "Requirement already satisfied: ml-dtypes>=0.2.0 in /usr/local/lib/python3.11/dist-packages (from jax>=0.3.15->tensorflow->keras-rl2==1.0.5) (0.4.1)\n",
            "Requirement already satisfied: scipy>=1.9 in /usr/local/lib/python3.11/dist-packages (from jax>=0.3.15->tensorflow->keras-rl2==1.0.5) (1.15.3)\n",
            "Requirement already satisfied: google-auth<3,>=1.6.3 in /usr/local/lib/python3.11/dist-packages (from tensorboard<2.13,>=2.12->tensorflow->keras-rl2==1.0.5) (2.38.0)\n",
            "Requirement already satisfied: google-auth-oauthlib<1.1,>=0.5 in /usr/local/lib/python3.11/dist-packages (from tensorboard<2.13,>=2.12->tensorflow->keras-rl2==1.0.5) (1.0.0)\n",
            "Requirement already satisfied: markdown>=2.6.8 in /usr/local/lib/python3.11/dist-packages (from tensorboard<2.13,>=2.12->tensorflow->keras-rl2==1.0.5) (3.8.2)\n",
            "Requirement already satisfied: requests<3,>=2.21.0 in /usr/local/lib/python3.11/dist-packages (from tensorboard<2.13,>=2.12->tensorflow->keras-rl2==1.0.5) (2.32.3)\n",
            "Requirement already satisfied: tensorboard-data-server<0.8.0,>=0.7.0 in /usr/local/lib/python3.11/dist-packages (from tensorboard<2.13,>=2.12->tensorflow->keras-rl2==1.0.5) (0.7.2)\n",
            "Requirement already satisfied: werkzeug>=1.0.1 in /usr/local/lib/python3.11/dist-packages (from tensorboard<2.13,>=2.12->tensorflow->keras-rl2==1.0.5) (3.1.3)\n",
            "Requirement already satisfied: cachetools<6.0,>=2.0.0 in /usr/local/lib/python3.11/dist-packages (from google-auth<3,>=1.6.3->tensorboard<2.13,>=2.12->tensorflow->keras-rl2==1.0.5) (5.5.2)\n",
            "Requirement already satisfied: pyasn1-modules>=0.2.1 in /usr/local/lib/python3.11/dist-packages (from google-auth<3,>=1.6.3->tensorboard<2.13,>=2.12->tensorflow->keras-rl2==1.0.5) (0.4.2)\n",
            "Requirement already satisfied: rsa<5,>=3.1.4 in /usr/local/lib/python3.11/dist-packages (from google-auth<3,>=1.6.3->tensorboard<2.13,>=2.12->tensorflow->keras-rl2==1.0.5) (4.9.1)\n",
            "Requirement already satisfied: requests-oauthlib>=0.7.0 in /usr/local/lib/python3.11/dist-packages (from google-auth-oauthlib<1.1,>=0.5->tensorboard<2.13,>=2.12->tensorflow->keras-rl2==1.0.5) (2.0.0)\n",
            "Requirement already satisfied: charset-normalizer<4,>=2 in /usr/local/lib/python3.11/dist-packages (from requests<3,>=2.21.0->tensorboard<2.13,>=2.12->tensorflow->keras-rl2==1.0.5) (3.4.2)\n",
            "Requirement already satisfied: idna<4,>=2.5 in /usr/local/lib/python3.11/dist-packages (from requests<3,>=2.21.0->tensorboard<2.13,>=2.12->tensorflow->keras-rl2==1.0.5) (3.10)\n",
            "Requirement already satisfied: urllib3<3,>=1.21.1 in /usr/local/lib/python3.11/dist-packages (from requests<3,>=2.21.0->tensorboard<2.13,>=2.12->tensorflow->keras-rl2==1.0.5) (2.4.0)\n",
            "Requirement already satisfied: certifi>=2017.4.17 in /usr/local/lib/python3.11/dist-packages (from requests<3,>=2.21.0->tensorboard<2.13,>=2.12->tensorflow->keras-rl2==1.0.5) (2025.6.15)\n",
            "Requirement already satisfied: MarkupSafe>=2.1.1 in /usr/local/lib/python3.11/dist-packages (from werkzeug>=1.0.1->tensorboard<2.13,>=2.12->tensorflow->keras-rl2==1.0.5) (3.0.2)\n",
            "Requirement already satisfied: pyasn1<0.7.0,>=0.6.1 in /usr/local/lib/python3.11/dist-packages (from pyasn1-modules>=0.2.1->google-auth<3,>=1.6.3->tensorboard<2.13,>=2.12->tensorflow->keras-rl2==1.0.5) (0.6.1)\n",
            "Requirement already satisfied: oauthlib>=3.0.0 in /usr/local/lib/python3.11/dist-packages (from requests-oauthlib>=0.7.0->google-auth-oauthlib<1.1,>=0.5->tensorboard<2.13,>=2.12->tensorflow->keras-rl2==1.0.5) (3.3.1)\n",
            "Requirement already satisfied: tensorflow==2.12 in /usr/local/lib/python3.11/dist-packages (2.12.0)\n",
            "Requirement already satisfied: absl-py>=1.0.0 in /usr/local/lib/python3.11/dist-packages (from tensorflow==2.12) (1.4.0)\n",
            "Requirement already satisfied: astunparse>=1.6.0 in /usr/local/lib/python3.11/dist-packages (from tensorflow==2.12) (1.6.3)\n",
            "Requirement already satisfied: flatbuffers>=2.0 in /usr/local/lib/python3.11/dist-packages (from tensorflow==2.12) (25.2.10)\n",
            "Requirement already satisfied: gast<=0.4.0,>=0.2.1 in /usr/local/lib/python3.11/dist-packages (from tensorflow==2.12) (0.4.0)\n",
            "Requirement already satisfied: google-pasta>=0.1.1 in /usr/local/lib/python3.11/dist-packages (from tensorflow==2.12) (0.2.0)\n",
            "Requirement already satisfied: grpcio<2.0,>=1.24.3 in /usr/local/lib/python3.11/dist-packages (from tensorflow==2.12) (1.73.0)\n",
            "Requirement already satisfied: h5py>=2.9.0 in /usr/local/lib/python3.11/dist-packages (from tensorflow==2.12) (3.14.0)\n",
            "Requirement already satisfied: jax>=0.3.15 in /usr/local/lib/python3.11/dist-packages (from tensorflow==2.12) (0.4.30)\n",
            "Requirement already satisfied: keras<2.13,>=2.12.0 in /usr/local/lib/python3.11/dist-packages (from tensorflow==2.12) (2.12.0)\n",
            "Requirement already satisfied: libclang>=13.0.0 in /usr/local/lib/python3.11/dist-packages (from tensorflow==2.12) (18.1.1)\n",
            "Requirement already satisfied: numpy<1.24,>=1.22 in /usr/local/lib/python3.11/dist-packages (from tensorflow==2.12) (1.23.5)\n",
            "Requirement already satisfied: opt-einsum>=2.3.2 in /usr/local/lib/python3.11/dist-packages (from tensorflow==2.12) (3.4.0)\n",
            "Requirement already satisfied: packaging in /usr/local/lib/python3.11/dist-packages (from tensorflow==2.12) (24.2)\n",
            "Requirement already satisfied: protobuf!=4.21.0,!=4.21.1,!=4.21.2,!=4.21.3,!=4.21.4,!=4.21.5,<5.0.0dev,>=3.20.3 in /usr/local/lib/python3.11/dist-packages (from tensorflow==2.12) (4.25.8)\n",
            "Requirement already satisfied: setuptools in /usr/local/lib/python3.11/dist-packages (from tensorflow==2.12) (75.2.0)\n",
            "Requirement already satisfied: six>=1.12.0 in /usr/local/lib/python3.11/dist-packages (from tensorflow==2.12) (1.17.0)\n",
            "Requirement already satisfied: tensorboard<2.13,>=2.12 in /usr/local/lib/python3.11/dist-packages (from tensorflow==2.12) (2.12.3)\n",
            "Requirement already satisfied: tensorflow-estimator<2.13,>=2.12.0 in /usr/local/lib/python3.11/dist-packages (from tensorflow==2.12) (2.12.0)\n",
            "Requirement already satisfied: termcolor>=1.1.0 in /usr/local/lib/python3.11/dist-packages (from tensorflow==2.12) (3.1.0)\n",
            "Requirement already satisfied: typing-extensions>=3.6.6 in /usr/local/lib/python3.11/dist-packages (from tensorflow==2.12) (4.14.0)\n",
            "Requirement already satisfied: wrapt<1.15,>=1.11.0 in /usr/local/lib/python3.11/dist-packages (from tensorflow==2.12) (1.14.1)\n",
            "Requirement already satisfied: tensorflow-io-gcs-filesystem>=0.23.1 in /usr/local/lib/python3.11/dist-packages (from tensorflow==2.12) (0.37.1)\n",
            "Requirement already satisfied: wheel<1.0,>=0.23.0 in /usr/local/lib/python3.11/dist-packages (from astunparse>=1.6.0->tensorflow==2.12) (0.45.1)\n",
            "Requirement already satisfied: jaxlib<=0.4.30,>=0.4.27 in /usr/local/lib/python3.11/dist-packages (from jax>=0.3.15->tensorflow==2.12) (0.4.30)\n",
            "Requirement already satisfied: ml-dtypes>=0.2.0 in /usr/local/lib/python3.11/dist-packages (from jax>=0.3.15->tensorflow==2.12) (0.4.1)\n",
            "Requirement already satisfied: scipy>=1.9 in /usr/local/lib/python3.11/dist-packages (from jax>=0.3.15->tensorflow==2.12) (1.15.3)\n",
            "Requirement already satisfied: google-auth<3,>=1.6.3 in /usr/local/lib/python3.11/dist-packages (from tensorboard<2.13,>=2.12->tensorflow==2.12) (2.38.0)\n",
            "Requirement already satisfied: google-auth-oauthlib<1.1,>=0.5 in /usr/local/lib/python3.11/dist-packages (from tensorboard<2.13,>=2.12->tensorflow==2.12) (1.0.0)\n",
            "Requirement already satisfied: markdown>=2.6.8 in /usr/local/lib/python3.11/dist-packages (from tensorboard<2.13,>=2.12->tensorflow==2.12) (3.8.2)\n",
            "Requirement already satisfied: requests<3,>=2.21.0 in /usr/local/lib/python3.11/dist-packages (from tensorboard<2.13,>=2.12->tensorflow==2.12) (2.32.3)\n",
            "Requirement already satisfied: tensorboard-data-server<0.8.0,>=0.7.0 in /usr/local/lib/python3.11/dist-packages (from tensorboard<2.13,>=2.12->tensorflow==2.12) (0.7.2)\n",
            "Requirement already satisfied: werkzeug>=1.0.1 in /usr/local/lib/python3.11/dist-packages (from tensorboard<2.13,>=2.12->tensorflow==2.12) (3.1.3)\n",
            "Requirement already satisfied: cachetools<6.0,>=2.0.0 in /usr/local/lib/python3.11/dist-packages (from google-auth<3,>=1.6.3->tensorboard<2.13,>=2.12->tensorflow==2.12) (5.5.2)\n",
            "Requirement already satisfied: pyasn1-modules>=0.2.1 in /usr/local/lib/python3.11/dist-packages (from google-auth<3,>=1.6.3->tensorboard<2.13,>=2.12->tensorflow==2.12) (0.4.2)\n",
            "Requirement already satisfied: rsa<5,>=3.1.4 in /usr/local/lib/python3.11/dist-packages (from google-auth<3,>=1.6.3->tensorboard<2.13,>=2.12->tensorflow==2.12) (4.9.1)\n",
            "Requirement already satisfied: requests-oauthlib>=0.7.0 in /usr/local/lib/python3.11/dist-packages (from google-auth-oauthlib<1.1,>=0.5->tensorboard<2.13,>=2.12->tensorflow==2.12) (2.0.0)\n",
            "Requirement already satisfied: charset-normalizer<4,>=2 in /usr/local/lib/python3.11/dist-packages (from requests<3,>=2.21.0->tensorboard<2.13,>=2.12->tensorflow==2.12) (3.4.2)\n",
            "Requirement already satisfied: idna<4,>=2.5 in /usr/local/lib/python3.11/dist-packages (from requests<3,>=2.21.0->tensorboard<2.13,>=2.12->tensorflow==2.12) (3.10)\n",
            "Requirement already satisfied: urllib3<3,>=1.21.1 in /usr/local/lib/python3.11/dist-packages (from requests<3,>=2.21.0->tensorboard<2.13,>=2.12->tensorflow==2.12) (2.4.0)\n",
            "Requirement already satisfied: certifi>=2017.4.17 in /usr/local/lib/python3.11/dist-packages (from requests<3,>=2.21.0->tensorboard<2.13,>=2.12->tensorflow==2.12) (2025.6.15)\n",
            "Requirement already satisfied: MarkupSafe>=2.1.1 in /usr/local/lib/python3.11/dist-packages (from werkzeug>=1.0.1->tensorboard<2.13,>=2.12->tensorflow==2.12) (3.0.2)\n",
            "Requirement already satisfied: pyasn1<0.7.0,>=0.6.1 in /usr/local/lib/python3.11/dist-packages (from pyasn1-modules>=0.2.1->google-auth<3,>=1.6.3->tensorboard<2.13,>=2.12->tensorflow==2.12) (0.6.1)\n",
            "Requirement already satisfied: oauthlib>=3.0.0 in /usr/local/lib/python3.11/dist-packages (from requests-oauthlib>=0.7.0->google-auth-oauthlib<1.1,>=0.5->tensorboard<2.13,>=2.12->tensorflow==2.12) (3.3.1)\n"
          ]
        }
      ],
      "source": [
        "if IN_COLAB:\n",
        "  %pip install gym==0.17.3\n",
        "  %pip install git+https://github.com/Kojoley/atari-py.git\n",
        "  %pip install keras-rl2==1.0.5\n",
        "  %pip install tensorflow==2.12\n",
        "else:\n",
        "  %pip install gym==0.17.3\n",
        "  %pip install git+https://github.com/Kojoley/atari-py.git\n",
        "  %pip install pyglet==1.5.0\n",
        "  %pip install h5py==3.1.0\n",
        "  %pip install Pillow==9.5.0\n",
        "  %pip install keras-rl2==1.0.5\n",
        "  %pip install Keras==2.2.4\n",
        "  %pip install tensorflow==2.12.1\n",
        "  %pip install torch==2.0.1\n",
        "  %pip install tensorflow-gpu==2.5.3\n",
        "  %pip install agents==1.4.0"
      ]
    },
    {
      "cell_type": "markdown",
      "metadata": {
        "id": "4hzP_5ZuGb2X"
      },
      "source": [
        "---\n",
        "## **PARTE 2**. Enunciado\n",
        "\n",
        "Consideraciones a tener en cuenta:\n",
        "\n",
        "- El entorno sobre el que trabajaremos será _SpaceInvaders-v0_ y el algoritmo que usaremos será _DQN_.\n",
        "\n",
        "- Para nuestro ejercicio, el requisito mínimo será alcanzado cuando el agente consiga una **media de recompensa por encima de 20 puntos en modo test**. Por ello, esta media de la recompensa se calculará a partir del código de test en la última celda del notebook.\n",
        "\n",
        "Este proyecto práctico consta de tres partes:\n",
        "\n",
        "1.   Implementar la red neuronal que se usará en la solución\n",
        "2.   Implementar las distintas piezas de la solución DQN\n",
        "3.   Justificar la respuesta en relación a los resultados obtenidos\n",
        "\n",
        "**Rúbrica**: Se valorará la originalidad en la solución aportada, así como la capacidad de discutir los resultados de forma detallada. El requisito mínimo servirá para aprobar la actividad, bajo premisa de que la discusión del resultado sera apropiada.\n",
        "\n",
        "IMPORTANTE:\n",
        "\n",
        "* Si no se consigue una puntuación óptima, responder sobre la mejor puntuación obtenida.\n",
        "* Para entrenamientos largos, recordad que podéis usar checkpoints de vuestros modelos para retomar los entrenamientos. En este caso, recordad cambiar los parámetros adecuadamente (sobre todo los relacionados con el proceso de exploración).\n",
        "* Se deberá entregar unicamente el notebook y los pesos del mejor modelo en un fichero .zip, de forma organizada.\n",
        "* Cada alumno deberá de subir la solución de forma individual."
      ]
    },
    {
      "cell_type": "markdown",
      "metadata": {
        "id": "6_b3mzw8IzJP"
      },
      "source": [
        "---\n",
        "## **PARTE 3**. Desarrollo y preguntas"
      ]
    },
    {
      "cell_type": "markdown",
      "metadata": {
        "id": "duPmUNOVGb2a"
      },
      "source": [
        "#### Importar librerías"
      ]
    },
    {
      "cell_type": "code",
      "execution_count": 57,
      "metadata": {
        "id": "j3eRhgI-Gb2a"
      },
      "outputs": [],
      "source": [
        "from __future__ import division\n",
        "\n",
        "from PIL import Image\n",
        "import numpy as np\n",
        "import gym\n",
        "\n",
        "from keras.models import Sequential\n",
        "from keras.layers import Dense, Activation, Flatten, Conv2D, Permute\n",
        "from keras.optimizers import Adam\n",
        "import keras.backend as K\n",
        "\n",
        "from rl.agents.dqn import DQNAgent\n",
        "from rl.policy import LinearAnnealedPolicy, BoltzmannQPolicy, EpsGreedyQPolicy\n",
        "from rl.memory import SequentialMemory\n",
        "from rl.core import Processor\n",
        "from rl.callbacks import FileLogger, ModelIntervalCheckpoint"
      ]
    },
    {
      "cell_type": "markdown",
      "metadata": {
        "id": "f4jgQjzoGb2a"
      },
      "source": [
        "#### Configuración base"
      ]
    },
    {
      "cell_type": "code",
      "execution_count": 58,
      "metadata": {
        "id": "jwOE6I_KGb2a"
      },
      "outputs": [],
      "source": [
        "INPUT_SHAPE = (84, 84)\n",
        "WINDOW_LENGTH = 4\n",
        "\n",
        "env_name = 'SpaceInvaders-v0'\n",
        "env = gym.make(env_name)\n",
        "\n",
        "np.random.seed(123)\n",
        "env.seed(123)\n",
        "nb_actions = env.action_space.n"
      ]
    },
    {
      "cell_type": "code",
      "execution_count": 59,
      "metadata": {
        "id": "9jGEZUcpGb2a"
      },
      "outputs": [],
      "source": [
        "class AtariProcessor(Processor):\n",
        "    def process_observation(self, observation):\n",
        "        assert observation.ndim == 3  # (height, width, channel)\n",
        "        img = Image.fromarray(observation)\n",
        "        img = img.resize(INPUT_SHAPE).convert('L')\n",
        "        processed_observation = np.array(img)\n",
        "        assert processed_observation.shape == INPUT_SHAPE\n",
        "        return processed_observation.astype('uint8')\n",
        "\n",
        "    def process_state_batch(self, batch):\n",
        "        # batch: (batch_size, window_length, height, width)\n",
        "        # → lo convertimos a (batch_size, height, width, window_length)\n",
        "        return batch.transpose(0, 2, 3, 1).astype('float32') / 255.\n",
        "\n",
        "    def process_reward(self, reward):\n",
        "        return np.clip(reward, -1., 1.)\n"
      ]
    },
    {
      "cell_type": "markdown",
      "source": [
        "* Hemos modificado la función `process_state_batch` para adaptar la forma del lote de datos al formato esperado por las capas convolucionales de Keras, que es (`batch, height, width, channels`). Esto es necesario porque usamos el formato por defecto `channels_last`, donde los 4 frames apilados deben colocarse en el último eje. Sin esta transposición, la red no puede procesar correctamente las entradas, lo que genera errores o un entrenamiento incorrecto."
      ],
      "metadata": {
        "id": "txNM32yaOnR6"
      }
    },
    {
      "cell_type": "markdown",
      "metadata": {
        "id": "7yitXTADGb2b"
      },
      "source": [
        "1. Implementación de la red neuronal"
      ]
    },
    {
      "cell_type": "code",
      "execution_count": 60,
      "metadata": {
        "id": "O4GKrfWSGb2b"
      },
      "outputs": [],
      "source": [
        "def build_model(nb_actions, input_shape, window_length):\n",
        "    model = Sequential()\n",
        "\n",
        "    input_shape = input_shape + (window_length,)\n",
        "\n",
        "    model.add(Conv2D(32, (8, 8), strides=(4, 4), activation='relu', input_shape=input_shape))\n",
        "    model.add(Conv2D(64, (4, 4), strides=(2, 2), activation='relu'))\n",
        "    model.add(Conv2D(64, (3, 3), strides=(1, 1), activation='relu'))\n",
        "    model.add(Flatten())\n",
        "    model.add(Dense(512, activation='relu'))\n",
        "    model.add(Dense(256, activation='relu'))\n",
        "    model.add(Dense(nb_actions, activation='linear'))\n",
        "\n",
        "    return model"
      ]
    },
    {
      "cell_type": "markdown",
      "metadata": {
        "id": "OB9-_5HPGb2b"
      },
      "source": [
        "2. Implementación de la solución DQN"
      ]
    },
    {
      "cell_type": "code",
      "execution_count": 61,
      "metadata": {
        "id": "foSlxWH1Gb2b"
      },
      "outputs": [],
      "source": [
        "def build_agent(model, nb_actions):\n",
        "\n",
        "    policy = LinearAnnealedPolicy(\n",
        "        EpsGreedyQPolicy(),\n",
        "        attr='eps',\n",
        "        value_max=1,\n",
        "        value_min=0.1,\n",
        "        nb_steps=int(0.75 * 2000000),  # 75% del total\n",
        "        value_test=0.05\n",
        "        )\n",
        "\n",
        "    memory = SequentialMemory(limit=1000000, window_length=WINDOW_LENGTH)\n",
        "\n",
        "    dqn = DQNAgent(model=model,\n",
        "                   memory=memory,\n",
        "                   policy=policy,\n",
        "                   nb_actions=nb_actions,\n",
        "                   nb_steps_warmup=1000,\n",
        "                   gamma=0.99,\n",
        "                   target_model_update=10000,\n",
        "                   train_interval=4,\n",
        "                   delta_clip=1.0,\n",
        "                   enable_double_dqn=True,\n",
        "                   enable_dueling_network=True,\n",
        "                   dueling_type='avg',\n",
        "                   processor=AtariProcessor()\n",
        "                   )\n",
        "    return dqn"
      ]
    },
    {
      "cell_type": "markdown",
      "source": [
        "**Compilación y definición del callback para guardar el modelo**"
      ],
      "metadata": {
        "id": "FPGEfGQVjLyd"
      }
    },
    {
      "cell_type": "code",
      "source": [
        "from keras.callbacks import Callback\n",
        "import os\n",
        "\n",
        "class SaveModelCallback(Callback):\n",
        "    def __init__(self, dqn, prefix='dqn_model', interval=50000):\n",
        "        super().__init__()\n",
        "        self.dqn = dqn\n",
        "        self.prefix = prefix\n",
        "        self.interval = interval\n",
        "        self.steps = 0\n",
        "\n",
        "    def on_step_end(self, step, logs={}):\n",
        "        self.steps += 1\n",
        "        if self.steps % self.interval == 0:\n",
        "            filename = f'{self.prefix}_{self.steps}.h5'\n",
        "            print(f\"\\nGuardando modelo en {filename}\")\n",
        "            self.dqn.model.save(filename)\n",
        "\n",
        "# Crear callback\n",
        "save_model_callback = SaveModelCallback(None, prefix='dqn_model', interval=50000)\n"
      ],
      "metadata": {
        "id": "CCIC7fwyjJrq"
      },
      "execution_count": 62,
      "outputs": []
    },
    {
      "cell_type": "markdown",
      "source": [
        "**Entrenamiento del agente (Reanudándolo automáticamente desde el ultimo modelo guardado en caso de que se haya quedado a medias)**"
      ],
      "metadata": {
        "id": "GQiNgqWqjRKg"
      }
    },
    {
      "cell_type": "code",
      "source": [
        "import re\n",
        "\n",
        "# Parámetros\n",
        "TOTAL_STEPS = 2000000\n",
        "MODEL_PREFIX = \"dqn_model\"\n",
        "MODEL_DIR = \".\"  # Carpeta actual\n",
        "\n",
        "# Buscar el último modelo guardado\n",
        "def find_latest_model(prefix, directory):\n",
        "    pattern = re.compile(rf\"{re.escape(prefix)}_(\\d+)\\.h5\")\n",
        "    saved_models = []\n",
        "    for fname in os.listdir(directory):\n",
        "        match = pattern.match(fname)\n",
        "        if match:\n",
        "            saved_models.append((int(match.group(1)), os.path.join(directory, fname)))\n",
        "    if saved_models:\n",
        "        saved_models.sort(reverse=True)  # el más reciente primero\n",
        "        return saved_models[0]  # (step, path)\n",
        "    return None\n",
        "\n",
        "# Crear modelo y agente\n",
        "model = build_model(nb_actions, INPUT_SHAPE, WINDOW_LENGTH)\n",
        "dqn = build_agent(model, nb_actions)\n",
        "\n",
        "# Compilar antes de cargar pesos\n",
        "dqn.compile(Adam(learning_rate=0.00025), metrics=['mae'])\n",
        "\n",
        "# Cargar el modelo si existe y ajustar steps restantes\n",
        "last_model = find_latest_model(MODEL_PREFIX, MODEL_DIR)\n",
        "if last_model:\n",
        "    last_step, model_path = last_model\n",
        "    print(f\"Cargando pesos desde: {model_path}\")\n",
        "    dqn.load_weights(model_path)  # ahora sí, después de compilar\n",
        "    remaining_steps = TOTAL_STEPS - last_step\n",
        "else:\n",
        "    print(\"No se encontró ningún modelo anterior. Entrenando desde cero.\")\n",
        "    remaining_steps = TOTAL_STEPS\n",
        "\n",
        "# Asignar callback\n",
        "save_model_callback.dqn = dqn\n",
        "\n",
        "# Establecer el paso actual para continuar desde donde se quedó\n",
        "dqn.step = last_step\n",
        "\n",
        "# Entrenamiento\n",
        "dqn.fit(env,\n",
        "        nb_steps=remaining_steps,\n",
        "        log_interval=10000,\n",
        "        callbacks=[save_model_callback])\n",
        "\n",
        "# Guardar pesos finales\n",
        "dqn.save_weights(\"dqn_weights_final.h5\", overwrite=True)"
      ],
      "metadata": {
        "colab": {
          "base_uri": "https://localhost:8080/"
        },
        "id": "DJj2PxtGjPUa",
        "outputId": "ec1c0dbf-b4a5-4a5d-9f95-a8b8418beee8"
      },
      "execution_count": 40,
      "outputs": [
        {
          "output_type": "stream",
          "name": "stdout",
          "text": [
            "Cargando pesos desde: ./dqn_model_1400000.h5\n",
            "Training for 600000 steps ...\n",
            "Interval 1 (0 steps performed)\n"
          ]
        },
        {
          "output_type": "stream",
          "name": "stderr",
          "text": [
            "/usr/local/lib/python3.11/dist-packages/keras/engine/training_v1.py:2359: UserWarning: `Model.state_updates` will be removed in a future version. This property should not be used in TensorFlow 2.0, as `updates` are applied automatically.\n",
            "  updates=self.state_updates,\n"
          ]
        },
        {
          "output_type": "stream",
          "name": "stdout",
          "text": [
            "  997/10000 [=>............................] - ETA: 47s - reward: 0.0140"
          ]
        },
        {
          "output_type": "stream",
          "name": "stderr",
          "text": [
            "/usr/local/lib/python3.11/dist-packages/keras/engine/training_v1.py:2359: UserWarning: `Model.state_updates` will be removed in a future version. This property should not be used in TensorFlow 2.0, as `updates` are applied automatically.\n",
            "  updates=self.state_updates,\n"
          ]
        },
        {
          "output_type": "stream",
          "name": "stdout",
          "text": [
            "10000/10000 [==============================] - 325s 32ms/step - reward: 0.0170\n",
            "13 episodes - episode_reward: 13.077 [2.000, 23.000] - loss: 0.009 - mae: 1.858 - mean_q: 2.244 - mean_eps: 0.165 - ale.lives: 2.136\n",
            "\n",
            "Interval 2 (10000 steps performed)\n",
            "10000/10000 [==============================] - 354s 35ms/step - reward: 0.0187\n",
            "13 episodes - episode_reward: 14.308 [6.000, 23.000] - loss: 0.008 - mae: 1.832 - mean_q: 2.211 - mean_eps: 0.159 - ale.lives: 1.952\n",
            "\n",
            "Interval 3 (20000 steps performed)\n",
            "10000/10000 [==============================] - 350s 35ms/step - reward: 0.0185\n",
            "13 episodes - episode_reward: 13.615 [6.000, 23.000] - loss: 0.009 - mae: 1.840 - mean_q: 2.221 - mean_eps: 0.152 - ale.lives: 2.051\n",
            "\n",
            "Interval 4 (30000 steps performed)\n",
            "10000/10000 [==============================] - 353s 35ms/step - reward: 0.0180\n",
            "14 episodes - episode_reward: 13.500 [6.000, 20.000] - loss: 0.009 - mae: 1.864 - mean_q: 2.251 - mean_eps: 0.145 - ale.lives: 2.070\n",
            "\n",
            "Interval 5 (40000 steps performed)\n",
            " 9997/10000 [============================>.] - ETA: 0s - reward: 0.0186\n",
            "Guardando modelo en dqn_model_50000.h5\n",
            "10000/10000 [==============================] - 358s 36ms/step - reward: 0.0186\n",
            "12 episodes - episode_reward: 14.583 [2.000, 24.000] - loss: 0.009 - mae: 1.857 - mean_q: 2.243 - mean_eps: 0.138 - ale.lives: 2.153\n",
            "\n",
            "Interval 6 (50000 steps performed)\n",
            "10000/10000 [==============================] - 359s 36ms/step - reward: 0.0178\n",
            "12 episodes - episode_reward: 14.917 [5.000, 27.000] - loss: 0.009 - mae: 1.865 - mean_q: 2.252 - mean_eps: 0.131 - ale.lives: 2.034\n",
            "\n",
            "Interval 7 (60000 steps performed)\n",
            "10000/10000 [==============================] - 358s 36ms/step - reward: 0.0205\n",
            "12 episodes - episode_reward: 16.167 [7.000, 23.000] - loss: 0.009 - mae: 1.871 - mean_q: 2.259 - mean_eps: 0.124 - ale.lives: 2.115\n",
            "\n",
            "Interval 8 (70000 steps performed)\n",
            "10000/10000 [==============================] - 359s 36ms/step - reward: 0.0185\n",
            "13 episodes - episode_reward: 15.000 [4.000, 28.000] - loss: 0.009 - mae: 1.877 - mean_q: 2.265 - mean_eps: 0.117 - ale.lives: 2.099\n",
            "\n",
            "Interval 9 (80000 steps performed)\n",
            "10000/10000 [==============================] - 359s 36ms/step - reward: 0.0199\n",
            "12 episodes - episode_reward: 17.000 [7.000, 25.000] - loss: 0.009 - mae: 1.893 - mean_q: 2.283 - mean_eps: 0.110 - ale.lives: 2.105\n",
            "\n",
            "Interval 10 (90000 steps performed)\n",
            " 9997/10000 [============================>.] - ETA: 0s - reward: 0.0178\n",
            "Guardando modelo en dqn_model_100000.h5\n",
            "10000/10000 [==============================] - 360s 36ms/step - reward: 0.0178\n",
            "14 episodes - episode_reward: 12.929 [4.000, 20.000] - loss: 0.009 - mae: 1.880 - mean_q: 2.268 - mean_eps: 0.103 - ale.lives: 2.089\n",
            "\n",
            "Interval 11 (100000 steps performed)\n",
            "10000/10000 [==============================] - 362s 36ms/step - reward: 0.0171\n",
            "12 episodes - episode_reward: 13.583 [5.000, 24.000] - loss: 0.010 - mae: 1.892 - mean_q: 2.281 - mean_eps: 0.100 - ale.lives: 2.060\n",
            "\n",
            "Interval 12 (110000 steps performed)\n",
            "10000/10000 [==============================] - 359s 36ms/step - reward: 0.0164\n",
            "12 episodes - episode_reward: 13.417 [3.000, 21.000] - loss: 0.010 - mae: 1.881 - mean_q: 2.268 - mean_eps: 0.100 - ale.lives: 2.151\n",
            "\n",
            "Interval 13 (120000 steps performed)\n",
            "10000/10000 [==============================] - 358s 36ms/step - reward: 0.0183\n",
            "13 episodes - episode_reward: 14.769 [2.000, 25.000] - loss: 0.010 - mae: 1.878 - mean_q: 2.264 - mean_eps: 0.100 - ale.lives: 2.007\n",
            "\n",
            "Interval 14 (130000 steps performed)\n",
            "10000/10000 [==============================] - 367s 37ms/step - reward: 0.0178\n",
            "13 episodes - episode_reward: 14.000 [6.000, 23.000] - loss: 0.009 - mae: 1.868 - mean_q: 2.250 - mean_eps: 0.100 - ale.lives: 2.066\n",
            "\n",
            "Interval 15 (140000 steps performed)\n",
            " 9997/10000 [============================>.] - ETA: 0s - reward: 0.0168\n",
            "Guardando modelo en dqn_model_150000.h5\n",
            "10000/10000 [==============================] - 372s 37ms/step - reward: 0.0168\n",
            "14 episodes - episode_reward: 12.000 [3.000, 26.000] - loss: 0.010 - mae: 1.866 - mean_q: 2.246 - mean_eps: 0.100 - ale.lives: 2.092\n",
            "\n",
            "Interval 16 (150000 steps performed)\n",
            "10000/10000 [==============================] - 364s 36ms/step - reward: 0.0172\n",
            "11 episodes - episode_reward: 14.364 [6.000, 24.000] - loss: 0.010 - mae: 1.861 - mean_q: 2.240 - mean_eps: 0.100 - ale.lives: 1.946\n",
            "\n",
            "Interval 17 (160000 steps performed)\n",
            "10000/10000 [==============================] - 361s 36ms/step - reward: 0.0183\n",
            "15 episodes - episode_reward: 12.733 [3.000, 27.000] - loss: 0.010 - mae: 1.856 - mean_q: 2.235 - mean_eps: 0.100 - ale.lives: 2.140\n",
            "\n",
            "Interval 18 (170000 steps performed)\n",
            "10000/10000 [==============================] - 366s 37ms/step - reward: 0.0180\n",
            "16 episodes - episode_reward: 10.750 [6.000, 17.000] - loss: 0.010 - mae: 1.848 - mean_q: 2.223 - mean_eps: 0.100 - ale.lives: 2.100\n",
            "\n",
            "Interval 19 (180000 steps performed)\n",
            "10000/10000 [==============================] - 366s 37ms/step - reward: 0.0182\n",
            "13 episodes - episode_reward: 14.846 [5.000, 25.000] - loss: 0.010 - mae: 1.835 - mean_q: 2.207 - mean_eps: 0.100 - ale.lives: 2.023\n",
            "\n",
            "Interval 20 (190000 steps performed)\n",
            " 9997/10000 [============================>.] - ETA: 0s - reward: 0.0206\n",
            "Guardando modelo en dqn_model_200000.h5\n",
            "10000/10000 [==============================] - 368s 37ms/step - reward: 0.0206\n",
            "12 episodes - episode_reward: 17.333 [5.000, 26.000] - loss: 0.010 - mae: 1.833 - mean_q: 2.205 - mean_eps: 0.100 - ale.lives: 2.067\n",
            "\n",
            "Interval 21 (200000 steps performed)\n",
            "10000/10000 [==============================] - 367s 37ms/step - reward: 0.0162\n",
            "13 episodes - episode_reward: 12.615 [3.000, 22.000] - loss: 0.010 - mae: 1.827 - mean_q: 2.198 - mean_eps: 0.100 - ale.lives: 2.030\n",
            "\n",
            "Interval 22 (210000 steps performed)\n",
            "10000/10000 [==============================] - 370s 37ms/step - reward: 0.0179\n",
            "13 episodes - episode_reward: 13.077 [5.000, 23.000] - loss: 0.010 - mae: 1.849 - mean_q: 2.223 - mean_eps: 0.100 - ale.lives: 2.013\n",
            "\n",
            "Interval 23 (220000 steps performed)\n",
            "10000/10000 [==============================] - 367s 37ms/step - reward: 0.0170\n",
            "12 episodes - episode_reward: 14.917 [7.000, 22.000] - loss: 0.010 - mae: 1.837 - mean_q: 2.209 - mean_eps: 0.100 - ale.lives: 2.102\n",
            "\n",
            "Interval 24 (230000 steps performed)\n",
            "10000/10000 [==============================] - 367s 37ms/step - reward: 0.0192\n",
            "14 episodes - episode_reward: 13.714 [5.000, 27.000] - loss: 0.011 - mae: 1.826 - mean_q: 2.196 - mean_eps: 0.100 - ale.lives: 2.147\n",
            "\n",
            "Interval 25 (240000 steps performed)\n",
            " 9997/10000 [============================>.] - ETA: 0s - reward: 0.0173\n",
            "Guardando modelo en dqn_model_250000.h5\n",
            "10000/10000 [==============================] - 371s 37ms/step - reward: 0.0173\n",
            "13 episodes - episode_reward: 13.231 [7.000, 20.000] - loss: 0.011 - mae: 1.830 - mean_q: 2.200 - mean_eps: 0.100 - ale.lives: 2.163\n",
            "\n",
            "Interval 26 (250000 steps performed)\n",
            "10000/10000 [==============================] - 371s 37ms/step - reward: 0.0175\n",
            "13 episodes - episode_reward: 12.846 [4.000, 21.000] - loss: 0.011 - mae: 1.829 - mean_q: 2.198 - mean_eps: 0.100 - ale.lives: 2.243\n",
            "\n",
            "Interval 27 (260000 steps performed)\n",
            "10000/10000 [==============================] - 374s 37ms/step - reward: 0.0179\n",
            "11 episodes - episode_reward: 15.091 [6.000, 38.000] - loss: 0.011 - mae: 1.837 - mean_q: 2.207 - mean_eps: 0.100 - ale.lives: 2.066\n",
            "\n",
            "Interval 28 (270000 steps performed)\n",
            "10000/10000 [==============================] - 372s 37ms/step - reward: 0.0188\n",
            "14 episodes - episode_reward: 14.357 [6.000, 25.000] - loss: 0.011 - mae: 1.840 - mean_q: 2.211 - mean_eps: 0.100 - ale.lives: 2.075\n",
            "\n",
            "Interval 29 (280000 steps performed)\n",
            "10000/10000 [==============================] - 376s 38ms/step - reward: 0.0186\n",
            "14 episodes - episode_reward: 13.929 [6.000, 23.000] - loss: 0.011 - mae: 1.827 - mean_q: 2.194 - mean_eps: 0.100 - ale.lives: 2.068\n",
            "\n",
            "Interval 30 (290000 steps performed)\n",
            " 9997/10000 [============================>.] - ETA: 0s - reward: 0.0191\n",
            "Guardando modelo en dqn_model_300000.h5\n",
            "10000/10000 [==============================] - 377s 38ms/step - reward: 0.0191\n",
            "14 episodes - episode_reward: 12.786 [4.000, 21.000] - loss: 0.011 - mae: 1.817 - mean_q: 2.182 - mean_eps: 0.100 - ale.lives: 2.041\n",
            "\n",
            "Interval 31 (300000 steps performed)\n",
            "10000/10000 [==============================] - 384s 38ms/step - reward: 0.0188\n",
            "14 episodes - episode_reward: 13.786 [6.000, 28.000] - loss: 0.012 - mae: 1.824 - mean_q: 2.191 - mean_eps: 0.100 - ale.lives: 2.083\n",
            "\n",
            "Interval 32 (310000 steps performed)\n",
            "10000/10000 [==============================] - 382s 38ms/step - reward: 0.0176\n",
            "14 episodes - episode_reward: 13.071 [7.000, 31.000] - loss: 0.011 - mae: 1.818 - mean_q: 2.184 - mean_eps: 0.100 - ale.lives: 2.068\n",
            "\n",
            "Interval 33 (320000 steps performed)\n",
            "10000/10000 [==============================] - 388s 39ms/step - reward: 0.0197\n",
            "12 episodes - episode_reward: 15.833 [7.000, 23.000] - loss: 0.012 - mae: 1.827 - mean_q: 2.193 - mean_eps: 0.100 - ale.lives: 2.269\n",
            "\n",
            "Interval 34 (330000 steps performed)\n",
            "10000/10000 [==============================] - 390s 39ms/step - reward: 0.0204\n",
            "14 episodes - episode_reward: 14.714 [5.000, 29.000] - loss: 0.011 - mae: 1.835 - mean_q: 2.203 - mean_eps: 0.100 - ale.lives: 2.150\n",
            "\n",
            "Interval 35 (340000 steps performed)\n",
            " 9997/10000 [============================>.] - ETA: 0s - reward: 0.0186\n",
            "Guardando modelo en dqn_model_350000.h5\n",
            "10000/10000 [==============================] - 391s 39ms/step - reward: 0.0186\n",
            "13 episodes - episode_reward: 13.692 [8.000, 23.000] - loss: 0.012 - mae: 1.830 - mean_q: 2.196 - mean_eps: 0.100 - ale.lives: 2.091\n",
            "\n",
            "Interval 36 (350000 steps performed)\n",
            "10000/10000 [==============================] - 394s 39ms/step - reward: 0.0190\n",
            "11 episodes - episode_reward: 17.091 [6.000, 31.000] - loss: 0.012 - mae: 1.834 - mean_q: 2.202 - mean_eps: 0.100 - ale.lives: 2.217\n",
            "\n",
            "Interval 37 (360000 steps performed)\n",
            "10000/10000 [==============================] - 395s 40ms/step - reward: 0.0194\n",
            "12 episodes - episode_reward: 16.500 [4.000, 25.000] - loss: 0.012 - mae: 1.836 - mean_q: 2.205 - mean_eps: 0.100 - ale.lives: 2.150\n",
            "\n",
            "Interval 38 (370000 steps performed)\n",
            "10000/10000 [==============================] - 396s 40ms/step - reward: 0.0203\n",
            "12 episodes - episode_reward: 16.750 [7.000, 30.000] - loss: 0.012 - mae: 1.840 - mean_q: 2.208 - mean_eps: 0.100 - ale.lives: 2.162\n",
            "\n",
            "Interval 39 (380000 steps performed)\n",
            "10000/10000 [==============================] - 397s 40ms/step - reward: 0.0192\n",
            "10 episodes - episode_reward: 18.600 [7.000, 29.000] - loss: 0.012 - mae: 1.838 - mean_q: 2.206 - mean_eps: 0.100 - ale.lives: 2.123\n",
            "\n",
            "Interval 40 (390000 steps performed)\n",
            " 9997/10000 [============================>.] - ETA: 0s - reward: 0.0179\n",
            "Guardando modelo en dqn_model_400000.h5\n",
            "10000/10000 [==============================] - 397s 40ms/step - reward: 0.0180\n",
            "13 episodes - episode_reward: 13.923 [9.000, 20.000] - loss: 0.012 - mae: 1.821 - mean_q: 2.186 - mean_eps: 0.100 - ale.lives: 2.188\n",
            "\n",
            "Interval 41 (400000 steps performed)\n",
            "10000/10000 [==============================] - 398s 40ms/step - reward: 0.0186\n",
            "11 episodes - episode_reward: 18.182 [7.000, 30.000] - loss: 0.011 - mae: 1.828 - mean_q: 2.196 - mean_eps: 0.100 - ale.lives: 2.115\n",
            "\n",
            "Interval 42 (410000 steps performed)\n",
            "10000/10000 [==============================] - 400s 40ms/step - reward: 0.0157\n",
            "13 episodes - episode_reward: 12.385 [2.000, 22.000] - loss: 0.012 - mae: 1.849 - mean_q: 2.220 - mean_eps: 0.100 - ale.lives: 1.937\n",
            "\n",
            "Interval 43 (420000 steps performed)\n",
            "10000/10000 [==============================] - 402s 40ms/step - reward: 0.0186\n",
            "12 episodes - episode_reward: 15.000 [8.000, 25.000] - loss: 0.012 - mae: 1.841 - mean_q: 2.211 - mean_eps: 0.100 - ale.lives: 2.013\n",
            "\n",
            "Interval 44 (430000 steps performed)\n",
            "10000/10000 [==============================] - 406s 41ms/step - reward: 0.0184\n",
            "12 episodes - episode_reward: 15.833 [6.000, 32.000] - loss: 0.011 - mae: 1.835 - mean_q: 2.204 - mean_eps: 0.100 - ale.lives: 2.107\n",
            "\n",
            "Interval 45 (440000 steps performed)\n",
            " 9997/10000 [============================>.] - ETA: 0s - reward: 0.0181\n",
            "Guardando modelo en dqn_model_450000.h5\n",
            "10000/10000 [==============================] - 411s 41ms/step - reward: 0.0181\n",
            "12 episodes - episode_reward: 14.500 [3.000, 29.000] - loss: 0.012 - mae: 1.827 - mean_q: 2.193 - mean_eps: 0.100 - ale.lives: 2.230\n",
            "\n",
            "Interval 46 (450000 steps performed)\n",
            "10000/10000 [==============================] - 406s 41ms/step - reward: 0.0204\n",
            "11 episodes - episode_reward: 18.909 [6.000, 31.000] - loss: 0.012 - mae: 1.843 - mean_q: 2.212 - mean_eps: 0.100 - ale.lives: 2.049\n",
            "\n",
            "Interval 47 (460000 steps performed)\n",
            "10000/10000 [==============================] - 411s 41ms/step - reward: 0.0183\n",
            "11 episodes - episode_reward: 15.364 [7.000, 26.000] - loss: 0.012 - mae: 1.831 - mean_q: 2.199 - mean_eps: 0.100 - ale.lives: 2.050\n",
            "\n",
            "Interval 48 (470000 steps performed)\n",
            "10000/10000 [==============================] - 409s 41ms/step - reward: 0.0203\n",
            "12 episodes - episode_reward: 18.250 [6.000, 31.000] - loss: 0.012 - mae: 1.829 - mean_q: 2.195 - mean_eps: 0.100 - ale.lives: 1.995\n",
            "\n",
            "Interval 49 (480000 steps performed)\n",
            "10000/10000 [==============================] - 415s 42ms/step - reward: 0.0193\n",
            "13 episodes - episode_reward: 14.846 [4.000, 33.000] - loss: 0.012 - mae: 1.823 - mean_q: 2.187 - mean_eps: 0.100 - ale.lives: 2.038\n",
            "\n",
            "Interval 50 (490000 steps performed)\n",
            " 9997/10000 [============================>.] - ETA: 0s - reward: 0.0208\n",
            "Guardando modelo en dqn_model_500000.h5\n",
            "10000/10000 [==============================] - 421s 42ms/step - reward: 0.0208\n",
            "14 episodes - episode_reward: 13.786 [5.000, 21.000] - loss: 0.012 - mae: 1.819 - mean_q: 2.183 - mean_eps: 0.100 - ale.lives: 2.157\n",
            "\n",
            "Interval 51 (500000 steps performed)\n",
            "10000/10000 [==============================] - 420s 42ms/step - reward: 0.0214\n",
            "14 episodes - episode_reward: 15.286 [6.000, 28.000] - loss: 0.012 - mae: 1.825 - mean_q: 2.190 - mean_eps: 0.100 - ale.lives: 2.030\n",
            "\n",
            "Interval 52 (510000 steps performed)\n",
            "10000/10000 [==============================] - 424s 42ms/step - reward: 0.0204\n",
            "11 episodes - episode_reward: 19.818 [9.000, 29.000] - loss: 0.012 - mae: 1.827 - mean_q: 2.192 - mean_eps: 0.100 - ale.lives: 2.309\n",
            "\n",
            "Interval 53 (520000 steps performed)\n",
            "10000/10000 [==============================] - 427s 43ms/step - reward: 0.0204\n",
            "12 episodes - episode_reward: 17.167 [8.000, 30.000] - loss: 0.012 - mae: 1.815 - mean_q: 2.178 - mean_eps: 0.100 - ale.lives: 2.004\n",
            "\n",
            "Interval 54 (530000 steps performed)\n",
            "10000/10000 [==============================] - 430s 43ms/step - reward: 0.0195\n",
            "12 episodes - episode_reward: 15.083 [8.000, 24.000] - loss: 0.012 - mae: 1.821 - mean_q: 2.185 - mean_eps: 0.100 - ale.lives: 2.020\n",
            "\n",
            "Interval 55 (540000 steps performed)\n",
            " 9997/10000 [============================>.] - ETA: 0s - reward: 0.0203\n",
            "Guardando modelo en dqn_model_550000.h5\n",
            "10000/10000 [==============================] - 432s 43ms/step - reward: 0.0203\n",
            "12 episodes - episode_reward: 17.167 [5.000, 28.000] - loss: 0.012 - mae: 1.816 - mean_q: 2.180 - mean_eps: 0.100 - ale.lives: 2.164\n",
            "\n",
            "Interval 56 (550000 steps performed)\n",
            "10000/10000 [==============================] - 439s 44ms/step - reward: 0.0205\n",
            "13 episodes - episode_reward: 16.077 [10.000, 28.000] - loss: 0.013 - mae: 1.823 - mean_q: 2.188 - mean_eps: 0.100 - ale.lives: 2.118\n",
            "\n",
            "Interval 57 (560000 steps performed)\n",
            "10000/10000 [==============================] - 439s 44ms/step - reward: 0.0212\n",
            "12 episodes - episode_reward: 17.583 [6.000, 34.000] - loss: 0.012 - mae: 1.810 - mean_q: 2.172 - mean_eps: 0.100 - ale.lives: 2.122\n",
            "\n",
            "Interval 58 (570000 steps performed)\n",
            "10000/10000 [==============================] - 438s 44ms/step - reward: 0.0204\n",
            "12 episodes - episode_reward: 15.917 [7.000, 30.000] - loss: 0.012 - mae: 1.802 - mean_q: 2.163 - mean_eps: 0.100 - ale.lives: 2.082\n",
            "\n",
            "Interval 59 (580000 steps performed)\n",
            "10000/10000 [==============================] - 444s 44ms/step - reward: 0.0211\n",
            "12 episodes - episode_reward: 18.750 [8.000, 31.000] - loss: 0.012 - mae: 1.807 - mean_q: 2.168 - mean_eps: 0.100 - ale.lives: 2.018\n",
            "\n",
            "Interval 60 (590000 steps performed)\n",
            " 9997/10000 [============================>.] - ETA: 0s - reward: 0.0206\n",
            "Guardando modelo en dqn_model_600000.h5\n",
            "10000/10000 [==============================] - 444s 44ms/step - reward: 0.0206\n",
            "done, took 23223.132 seconds\n"
          ]
        }
      ]
    },
    {
      "cell_type": "code",
      "execution_count": 73,
      "metadata": {
        "id": "OHYryKd1Gb2b",
        "colab": {
          "base_uri": "https://localhost:8080/"
        },
        "outputId": "e90a95f9-5456-4498-e48e-e8e9ecdcfc27"
      },
      "outputs": [
        {
          "output_type": "stream",
          "name": "stdout",
          "text": [
            "Testing for 10 episodes ...\n",
            "Episode 1: reward: 4.000, steps: 649\n",
            "Episode 2: reward: 2.000, steps: 537\n",
            "Episode 3: reward: 1.000, steps: 493\n",
            "Episode 4: reward: 1.000, steps: 627\n",
            "Episode 5: reward: 3.000, steps: 537\n",
            "Episode 6: reward: 2.000, steps: 551\n",
            "Episode 7: reward: 13.000, steps: 992\n",
            "Episode 8: reward: 2.000, steps: 524\n",
            "Episode 9: reward: 1.000, steps: 625\n",
            "Episode 10: reward: 9.000, steps: 803\n",
            "Media de la recompensa obtenida en 10 episodios: 4.1\n",
            "Desviación estandar de la recompensa obtenida en 10 episodios: 1.374772708486752\n"
          ]
        }
      ],
      "source": [
        "# Testing part to calculate the mean reward\n",
        "weights_filename = 'dqn_weights_final.h5'.format(env_name)\n",
        "dqn.load_weights(weights_filename)\n",
        "dqn.test(env, nb_episodes=10, visualize=False)\n",
        "recompensas = history.history.get('episode_reward', [])\n",
        "print(f\"Media de la recompensa obtenida en 10 episodios: {np.mean(np.array(recompensas))}\")\n",
        "print(f\"Desviación estandar de la recompensa obtenida en 10 episodios: {np.std(np.array(recompensas))}\")"
      ]
    },
    {
      "cell_type": "markdown",
      "metadata": {
        "id": "-NAlu8b1Gb2b"
      },
      "source": [
        "3. Justificación de los parámetros seleccionados y de los resultados obtenidos"
      ]
    },
    {
      "cell_type": "markdown",
      "metadata": {
        "id": "ANFQiicXK3sO"
      },
      "source": [
        "---"
      ]
    }
  ],
  "metadata": {
    "colab": {
      "provenance": [],
      "machine_shape": "hm",
      "gpuType": "T4"
    },
    "kernelspec": {
      "display_name": "Python 3",
      "name": "python3"
    },
    "language_info": {
      "codemirror_mode": {
        "name": "ipython",
        "version": 3
      },
      "file_extension": ".py",
      "mimetype": "text/x-python",
      "name": "python",
      "nbconvert_exporter": "python",
      "pygments_lexer": "ipython3",
      "version": "3.8.20"
    },
    "accelerator": "GPU"
  },
  "nbformat": 4,
  "nbformat_minor": 0
}
