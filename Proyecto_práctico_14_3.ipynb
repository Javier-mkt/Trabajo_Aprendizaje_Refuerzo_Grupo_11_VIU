{
 "cells": [
  {
   "cell_type": "markdown",
   "metadata": {
    "id": "jUehXgCyIRdq"
   },
   "source": [
    "# Actividad - Proyecto práctico\n",
    "\n",
    "\n",
    "> La actividad se desarrollará en grupos pre-definidos de 2-3 alumnos. Se debe indicar los nombres en orden alfabético (de apellidos). Recordad que esta actividad se corresponde con un 30% de la nota final de la asignatura. Se debe entregar entregar el trabajo en la presente notebook.\n",
    "*   Alumno 1: Gil Garcera, Javier \n",
    "*   Alumno 2: Palomares Mateo, Abel \n",
    "*   Alumno 3: Serrano López, Francisco Rubén \n",
    "*   Alumno 4: Vegas Romero, David \n",
    "\n",
    "\n",
    "\n",
    "\n",
    "\n"
   ]
  },
  {
   "cell_type": "markdown",
   "metadata": {
    "id": "JwpYlnjWJhS9"
   },
   "source": [
    "---\n",
    "## **PARTE 1** - Instalación y requisitos previos\n",
    "\n",
    "> Las prácticas han sido preparadas para poder realizarse en el entorno de trabajo de Google Colab. Sin embargo, esta plataforma presenta ciertas incompatibilidades a la hora de visualizar la renderización en gym. Por ello, para obtener estas visualizaciones, se deberá trasladar el entorno de trabajo a local. Por ello, el presente dosier presenta instrucciones para poder trabajar en ambos entornos. Siga los siguientes pasos para un correcto funcionamiento:\n",
    "1.   **LOCAL:** Preparar el enviroment, siguiendo las intrucciones detalladas en la sección *1.1.Preparar enviroment*.\n",
    "2.  **AMBOS:** Modificar las variables \"mount\" y \"drive_mount\" a la carpeta de trabajo en drive en el caso de estar en Colab, y ejecturar la celda *1.2.Localizar entorno de trabajo*.\n",
    "3. **COLAB:** se deberá ejecutar las celdas correspondientes al montaje de la carpeta de trabajo en Drive. Esta corresponde a la sección *1.3.Montar carpeta de datos local*.\n",
    "4.  **AMBOS:** Instalar las librerías necesarias, siguiendo la sección *1.4.Instalar librerías necesarias*.\n"
   ]
  },
  {
   "cell_type": "markdown",
   "metadata": {
    "id": "RU2BPrK2JkP0"
   },
   "source": [
    "---\n",
    "### 1.1. Preparar enviroment (solo local)\n",
    "\n",
    "\n",
    "\n",
    "> Para preparar el entorno de trabajo en local, se han seguido los siguientes pasos:\n",
    "1. En Windows, puede ser necesario instalar las C++ Build Tools. Para ello, siga los siguientes pasos: https://towardsdatascience.com/how-to-install-openai-gym-in-a-windows-environment-338969e24d30.\n",
    "2. Instalar Anaconda\n",
    "3. Siguiendo el código que se presenta comentado en la próxima celda: Crear un enviroment, cambiar la ruta de trabajo, e instalar librerías básicas.\n",
    "\n",
    "\n",
    "```\n",
    "conda create --name miar_rl python=3.8\n",
    "conda activate miar_rl\n",
    "cd \"PATH_TO_FOLDER\"\n",
    "conda install git\n",
    "pip install jupyter\n",
    "```\n",
    "\n",
    "\n",
    "4. Abrir la notebook con *jupyter-notebook*.\n",
    "\n",
    "\n",
    "\n",
    "```\n",
    "jupyter-notebook\n",
    "```\n"
   ]
  },
  {
   "cell_type": "markdown",
   "metadata": {
    "id": "w-kixNPiJqTc"
   },
   "source": [
    "---\n",
    "### 1.2. Localizar entorno de trabajo: Google colab o local"
   ]
  },
  {
   "cell_type": "code",
   "execution_count": 1,
   "metadata": {
    "id": "S_YDFwZ-JscI"
   },
   "outputs": [],
   "source": [
    "# ATENCIÓN!! Modificar ruta relativa a la práctica si es distinta (drive_root)\n",
    "mount='/content/gdrive'\n",
    "drive_root = mount + \"/My Drive/08_MIAR/actividades/proyecto practico\"\n",
    "\n",
    "try:\n",
    "  from google.colab import drive\n",
    "  IN_COLAB=True\n",
    "except:\n",
    "  IN_COLAB=False"
   ]
  },
  {
   "cell_type": "markdown",
   "metadata": {
    "id": "8Dp_a1iBJ0tf"
   },
   "source": [
    "---\n",
    "### 1.3. Montar carpeta de datos local (solo Colab)"
   ]
  },
  {
   "cell_type": "code",
   "execution_count": 2,
   "metadata": {
    "id": "I6n7MIefJ21i"
   },
   "outputs": [
    {
     "name": "stdout",
     "output_type": "stream",
     "text": [
      "Archivos en el directorio: \n",
      "['dqn_SpaceInvaders-v0_weights_1000000.h5f.data-00000-of-00001', 'dqn_SpaceInvaders-v0_weights_1500000.h5f.index', 'alternativa_google_collab.txt', 'dqn_SpaceInvaders-v0_weights.h5f.data-00000-of-00001', 'README.md', 'dqn_SpaceInvaders-v0_weights_250000.h5f.index', '.gitignore', 'dqn_SpaceInvaders-v0_weights_750000.h5f.index', 'Proyecto_práctico.ipynb', 'dqn_SpaceInvaders-v0_weights.h5f.index', 'dqn_SpaceInvaders-v0_log.json', 'dqn_SpaceInvaders-v0_weights_1750000.h5f.data-00000-of-00001', 'dqn_SpaceInvaders-v0_weights_500000.h5f.index', 'Proyecto_práctico_local.ipynb', 'dqn_SpaceInvaders-v0_weights_750000.h5f.data-00000-of-00001', 'Proyecto_práctico_BoltzmannQPolicy_17.ipynb', 'dqn_SpaceInvaders-v0_weights_250000.h5f.data-00000-of-00001', 'dqn_SpaceInvaders-v0_weights_1500000.h5f.data-00000-of-00001', 'dqn_SpaceInvaders-v0_weights_1000000.h5f.index', 'dqn_SpaceInvaders-v0_weights_1750000.h5f.index', '.ipynb_checkpoints', 'dqn_SpaceInvaders-v0_weights_1250000.h5f.index', 'dqn_SpaceInvaders-v0_weights_500000.h5f.data-00000-of-00001', 'checkpoint', 'dqn_SpaceInvaders-v0_weights_1250000.h5f.data-00000-of-00001']\n"
     ]
    }
   ],
   "source": [
    "# Switch to the directory on the Google Drive that you want to use\n",
    "import os\n",
    "if IN_COLAB:\n",
    "  print(\"We're running Colab\")\n",
    "\n",
    "  if IN_COLAB:\n",
    "    # Mount the Google Drive at mount\n",
    "    print(\"Colab: mounting Google drive on \", mount)\n",
    "\n",
    "    drive.mount(mount)\n",
    "\n",
    "    # Create drive_root if it doesn't exist\n",
    "    create_drive_root = True\n",
    "    if create_drive_root:\n",
    "      print(\"\\nColab: making sure \", drive_root, \" exists.\")\n",
    "      os.makedirs(drive_root, exist_ok=True)\n",
    "\n",
    "    # Change to the directory\n",
    "    print(\"\\nColab: Changing directory to \", drive_root)\n",
    "    %cd $drive_root\n",
    "# Verify we're in the correct working directory\n",
    "%pwd\n",
    "print(\"Archivos en el directorio: \")\n",
    "print(os.listdir())"
   ]
  },
  {
   "cell_type": "markdown",
   "metadata": {
    "id": "i1ZSL5bpJ560"
   },
   "source": [
    "---\n",
    "### 1.4. Instalar librerías necesarias"
   ]
  },
  {
   "cell_type": "code",
   "execution_count": 11,
   "metadata": {
    "id": "UbVRjvHCJ8UF"
   },
   "outputs": [],
   "source": [
    "if IN_COLAB:\n",
    "  %pip install gym==0.17.3\n",
    "  %pip install git+https://github.com/Kojoley/atari-py.git\n",
    "  %pip install keras-rl2==1.0.5\n",
    "  %pip install tensorflow==2.8\n",
    "  %pip install tensorflow==2.12.1\n",
    "else:\n",
    "  %pip install numpy==1.23.5\n",
    "  %pip install gym==0.17.3\n",
    "  %pip install git+https://github.com/Kojoley/atari-py.git\n",
    "  %pip install pyglet==1.5.0\n",
    "  %pip install h5py==3.10.0\n",
    "  %pip install Pillow==9.5.0\n",
    "  %pip install keras-rl2==1.0.5\n",
    "  %pip install Keras==2.12.0\n",
    "  %pip install tensorflow==2.12.1\n",
    "  %pip install torch==2.0.1\n",
    "  %pip install agents==1.4.0"
   ]
  },
  {
   "cell_type": "markdown",
   "metadata": {
    "id": "4hzP_5ZuGb2X"
   },
   "source": [
    "---\n",
    "## **PARTE 2**. Enunciado\n",
    "\n",
    "Consideraciones a tener en cuenta:\n",
    "\n",
    "- El entorno sobre el que trabajaremos será _SpaceInvaders-v0_ y el algoritmo que usaremos será _DQN_.\n",
    "\n",
    "- Para nuestro ejercicio, el requisito mínimo será alcanzado cuando el agente consiga una **media de recompensa por encima de 20 puntos en modo test**. Por ello, esta media de la recompensa se calculará a partir del código de test en la última celda del notebook.\n",
    "\n",
    "Este proyecto práctico consta de tres partes:\n",
    "\n",
    "1.   Implementar la red neuronal que se usará en la solución\n",
    "2.   Implementar las distintas piezas de la solución DQN\n",
    "3.   Justificar la respuesta en relación a los resultados obtenidos\n",
    "\n",
    "**Rúbrica**: Se valorará la originalidad en la solución aportada, así como la capacidad de discutir los resultados de forma detallada. El requisito mínimo servirá para aprobar la actividad, bajo premisa de que la discusión del resultado sera apropiada.\n",
    "\n",
    "IMPORTANTE:\n",
    "\n",
    "* Si no se consigue una puntuación óptima, responder sobre la mejor puntuación obtenida.\n",
    "* Para entrenamientos largos, recordad que podéis usar checkpoints de vuestros modelos para retomar los entrenamientos. En este caso, recordad cambiar los parámetros adecuadamente (sobre todo los relacionados con el proceso de exploración).\n",
    "* Se deberá entregar unicamente el notebook y los pesos del mejor modelo en un fichero .zip, de forma organizada.\n",
    "* Cada alumno deberá de subir la solución de forma individual."
   ]
  },
  {
   "cell_type": "markdown",
   "metadata": {
    "id": "6_b3mzw8IzJP"
   },
   "source": [
    "---\n",
    "## **PARTE 3**. Desarrollo y preguntas"
   ]
  },
  {
   "cell_type": "markdown",
   "metadata": {
    "id": "duPmUNOVGb2a"
   },
   "source": [
    "#### Importar librerías"
   ]
  },
  {
   "cell_type": "code",
   "execution_count": 3,
   "metadata": {
    "id": "j3eRhgI-Gb2a"
   },
   "outputs": [
    {
     "name": "stderr",
     "output_type": "stream",
     "text": [
      "2025-07-01 20:03:34.134694: I tensorflow/tsl/cuda/cudart_stub.cc:28] Could not find cuda drivers on your machine, GPU will not be used.\n",
      "2025-07-01 20:03:34.452170: I tensorflow/tsl/cuda/cudart_stub.cc:28] Could not find cuda drivers on your machine, GPU will not be used.\n",
      "2025-07-01 20:03:34.453822: I tensorflow/core/platform/cpu_feature_guard.cc:182] This TensorFlow binary is optimized to use available CPU instructions in performance-critical operations.\n",
      "To enable the following instructions: AVX2 FMA, in other operations, rebuild TensorFlow with the appropriate compiler flags.\n",
      "2025-07-01 20:03:35.888458: W tensorflow/compiler/tf2tensorrt/utils/py_utils.cc:38] TF-TRT Warning: Could not find TensorRT\n"
     ]
    }
   ],
   "source": [
    "from __future__ import division\n",
    "\n",
    "from PIL import Image\n",
    "import numpy as np\n",
    "import gym\n",
    "\n",
    "from tensorflow.keras.models import Sequential\n",
    "from tensorflow.keras.layers import Dense, Activation, Flatten, Convolution2D, Permute\n",
    "#from tensorflow.keras.optimizers import Adam\n",
    "from tensorflow.keras.optimizers.legacy import Adam\n",
    "\n",
    "import tensorflow.keras.backend as K\n",
    "\n",
    "from rl.agents.dqn import DQNAgent\n",
    "from rl.policy import LinearAnnealedPolicy, BoltzmannQPolicy, EpsGreedyQPolicy\n",
    "from rl.memory import SequentialMemory\n",
    "from rl.core import Processor\n",
    "from rl.callbacks import FileLogger, ModelIntervalCheckpoint\n",
    "import tensorflow as tf"
   ]
  },
  {
   "cell_type": "markdown",
   "metadata": {
    "id": "f4jgQjzoGb2a"
   },
   "source": [
    "#### Configuración base"
   ]
  },
  {
   "cell_type": "code",
   "execution_count": 4,
   "metadata": {
    "id": "jwOE6I_KGb2a"
   },
   "outputs": [],
   "source": [
    "INPUT_SHAPE = (84, 84)\n",
    "WINDOW_LENGTH = 4\n",
    "\n",
    "env_name = 'SpaceInvaders-v0'\n",
    "env = gym.make(env_name)\n",
    "\n",
    "np.random.seed(123)\n",
    "env.seed(123)\n",
    "nb_actions = env.action_space.n"
   ]
  },
  {
   "cell_type": "code",
   "execution_count": 5,
   "metadata": {
    "id": "9jGEZUcpGb2a"
   },
   "outputs": [],
   "source": [
    "\"\"\"class AtariProcessor(Processor):\n",
    "    def process_observation(self, observation):\n",
    "        assert observation.ndim == 3  # (height, width, channel)\n",
    "        img = Image.fromarray(observation)\n",
    "        img = img.resize(INPUT_SHAPE).convert('L')\n",
    "        processed_observation = np.array(img)\n",
    "        assert processed_observation.shape == INPUT_SHAPE\n",
    "        return processed_observation.astype('uint8')\n",
    "\n",
    "    def process_state_batch(self, batch):\n",
    "        processed_batch = batch.astype('float32') / 255.\n",
    "        return processed_batch\n",
    "\n",
    "    def process_reward(self, reward):\n",
    "        return np.clip(reward, -1., 1.)\n",
    "\"\"\"\n",
    "class AtariProcessor(Processor):\n",
    "    def process_observation(self, observation):\n",
    "        assert observation.ndim == 3  # (height, width, channel)\n",
    "        cropped = observation[34:, :, :]\n",
    "        \n",
    "        img = Image.fromarray(cropped)\n",
    "        img = img.resize(INPUT_SHAPE).convert('L')\n",
    "        processed_observation = np.array(img)\n",
    "        \n",
    "        assert processed_observation.shape == INPUT_SHAPE\n",
    "        return processed_observation.astype('uint8')\n",
    "\n",
    "    def process_state_batch(self, batch):\n",
    "        processed_batch = batch.astype('float32') / 255.\n",
    "        return processed_batch\n",
    "\n",
    "    def process_reward(self, reward):\n",
    "        return np.clip(reward, -1., 1.)\n"
   ]
  },
  {
   "cell_type": "markdown",
   "metadata": {
    "id": "7yitXTADGb2b"
   },
   "source": [
    "1. Implementación de la red neuronal"
   ]
  },
  {
   "cell_type": "code",
   "execution_count": 6,
   "metadata": {
    "id": "O4GKrfWSGb2b"
   },
   "outputs": [
    {
     "name": "stdout",
     "output_type": "stream",
     "text": [
      "Numero de acciones disponibles:6\n",
      "Formato de las observaciones:\n",
      "channels_last\n",
      "Model: \"sequential\"\n",
      "_________________________________________________________________\n",
      " Layer (type)                Output Shape              Param #   \n",
      "=================================================================\n",
      " permute (Permute)           (None, 84, 84, 4)         0         \n",
      "                                                                 \n",
      " conv2d (Conv2D)             (None, 20, 20, 32)        8224      \n",
      "                                                                 \n",
      " activation (Activation)     (None, 20, 20, 32)        0         \n",
      "                                                                 \n",
      " conv2d_1 (Conv2D)           (None, 9, 9, 64)          32832     \n",
      "                                                                 \n",
      " activation_1 (Activation)   (None, 9, 9, 64)          0         \n",
      "                                                                 \n",
      " conv2d_2 (Conv2D)           (None, 7, 7, 64)          36928     \n",
      "                                                                 \n",
      " activation_2 (Activation)   (None, 7, 7, 64)          0         \n",
      "                                                                 \n",
      " flatten (Flatten)           (None, 3136)              0         \n",
      "                                                                 \n",
      " dense (Dense)               (None, 512)               1606144   \n",
      "                                                                 \n",
      " activation_3 (Activation)   (None, 512)               0         \n",
      "                                                                 \n",
      " dense_1 (Dense)             (None, 6)                 3078      \n",
      "                                                                 \n",
      " activation_4 (Activation)   (None, 6)                 0         \n",
      "                                                                 \n",
      "=================================================================\n",
      "Total params: 1,687,206\n",
      "Trainable params: 1,687,206\n",
      "Non-trainable params: 0\n",
      "_________________________________________________________________\n",
      "None\n"
     ]
    }
   ],
   "source": [
    "print(\"Numero de acciones disponibles:\" + str(nb_actions))\n",
    "print(\"Formato de las observaciones:\")\n",
    "#env.observation_space\n",
    "## Next, we build a very simple model.\n",
    "#model = Sequential()\n",
    "#model.add(Flatten(input_shape=(1,) + env.observation_space.shape))\n",
    "#model.add(Dense(16))\n",
    "#model.add(Activation('relu'))\n",
    "#model.add(Dense(16))\n",
    "#model.add(Activation('relu'))\n",
    "#model.add(Dense(16))\n",
    "#model.add(Activation('relu'))\n",
    "#model.add(Dense(nb_actions))\n",
    "#model.add(Activation('linear'))\n",
    "#print(model.summary())\n",
    "\n",
    "\n",
    "# Next, we build our model. We use the same model that was described by Mnih et al. (2015).\n",
    "input_shape = (WINDOW_LENGTH,) + INPUT_SHAPE\n",
    "model = Sequential()\n",
    "print(K.image_data_format())\n",
    "if K.image_data_format() == 'channels_last':\n",
    "    # (width, height, channels)\n",
    "    model.add(Permute((2, 3, 1), input_shape=input_shape))\n",
    "elif K.image_data_format() == 'channels_first':\n",
    "    # (channels, width, height)\n",
    "    model.add(Permute((1, 2, 3), input_shape=input_shape))\n",
    "else:\n",
    "    raise RuntimeError('Unknown image_dim_ordering.')\n",
    "\n",
    "model.add(Convolution2D(32, (8, 8), strides=(4, 4)))\n",
    "model.add(Activation('relu'))\n",
    "model.add(Convolution2D(64, (4, 4), strides=(2, 2)))\n",
    "model.add(Activation('relu'))\n",
    "model.add(Convolution2D(64, (3, 3), strides=(1, 1)))\n",
    "model.add(Activation('relu'))\n",
    "model.add(Flatten())\n",
    "model.add(Dense(512))\n",
    "model.add(Activation('relu'))\n",
    "model.add(Dense(nb_actions))\n",
    "model.add(Activation('linear'))\n",
    "print(model.summary())\n"
   ]
  },
  {
   "cell_type": "code",
   "execution_count": 13,
   "metadata": {},
   "outputs": [
    {
     "data": {
      "text/plain": [
       "\"# Let's define the memory for storing the experience\\nmemory = SequentialMemory(limit=50000, window_length=1)\\n\\n# Define the policy that our agent will follow\\npolicy = BoltzmannQPolicy()\\n\\n# Define the agent\\ndqn = DQNAgent(model=model, nb_actions=nb_actions, memory=memory,\\n               nb_steps_warmup=10,\\n               target_model_update=1e-2, policy=policy)\\n\\nadam_obj = Adam(learning_rate=1e-3)\\ndqn.compile(adam_obj, metrics=['mae'])\\n\\n# Train the agent\\ndqn.fit(env, nb_steps=50000, visualize=False, verbose=2)\\n\\n# After training is done, we save the final weights.\\ndqn.save_weights('dqn_{}_weights.h5f'.format(ENV_NAME), overwrite=True)\\n# Finally, evaluate our algorithm for 5 episodes.\\ndqn.load_weights('dqn_{}_weights.h5f'.format(ENV_NAME))\\ndqn.test(env, nb_episodes=10, visualize=False)\\n\""
      ]
     },
     "execution_count": 13,
     "metadata": {},
     "output_type": "execute_result"
    }
   ],
   "source": [
    "\"\"\"# Let's define the memory for storing the experience\n",
    "memory = SequentialMemory(limit=50000, window_length=1)\n",
    "\n",
    "# Define the policy that our agent will follow\n",
    "policy = BoltzmannQPolicy()\n",
    "\n",
    "# Define the agent\n",
    "dqn = DQNAgent(model=model, nb_actions=nb_actions, memory=memory,\n",
    "               nb_steps_warmup=10,\n",
    "               target_model_update=1e-2, policy=policy)\n",
    "\n",
    "adam_obj = Adam(learning_rate=1e-3)\n",
    "dqn.compile(adam_obj, metrics=['mae'])\n",
    "\n",
    "# Train the agent\n",
    "dqn.fit(env, nb_steps=50000, visualize=False, verbose=2)\n",
    "\n",
    "# After training is done, we save the final weights.\n",
    "dqn.save_weights('dqn_{}_weights.h5f'.format(ENV_NAME), overwrite=True)\n",
    "# Finally, evaluate our algorithm for 5 episodes.\n",
    "dqn.load_weights('dqn_{}_weights.h5f'.format(ENV_NAME))\n",
    "dqn.test(env, nb_episodes=10, visualize=False)\n",
    "\"\"\""
   ]
  },
  {
   "cell_type": "code",
   "execution_count": 31,
   "metadata": {},
   "outputs": [
    {
     "name": "stderr",
     "output_type": "stream",
     "text": [
      "2025-07-01 23:48:06.514790: W tensorflow/c/c_api.cc:300] Operation '{name:'dense_8/kernel/Assign' id:4894 op device:{requested: '', assigned: ''} def:{{{node dense_8/kernel/Assign}} = AssignVariableOp[_has_manual_control_dependencies=true, dtype=DT_FLOAT, validate_shape=false](dense_8/kernel, dense_8/kernel/Initializer/stateless_random_uniform)}}' was changed by setting attribute after it was run by a session. This mutation will have no effect, and will trigger an error in the future. Either don't modify nodes after running them or create a new session.\n"
     ]
    }
   ],
   "source": [
    "memory = SequentialMemory(limit=60000, window_length=WINDOW_LENGTH)\n",
    "processor = AtariProcessor()\n",
    "\n",
    "policy = LinearAnnealedPolicy(EpsGreedyQPolicy(), attr='eps',\n",
    "                              value_max=1., value_min=.1, value_test=.05,\n",
    "                              nb_steps=60000)\n",
    "#dqn = DQNAgent(model=model, nb_actions=nb_actions, policy=policy,\n",
    "#               memory=memory, processor=processor,\n",
    "#               nb_steps_warmup=50000, gamma=.99,\n",
    "#               target_model_update=10000,\n",
    "#               train_interval=4)\n",
    "#dqn.compile(Adam(learning_rate=.00025), metrics=['mae'])\n",
    "\n",
    "# Define the agent\n",
    "dqn = DQNAgent(model=model, nb_actions=nb_actions, memory=memory,\n",
    "               nb_steps_warmup=5000, gamma=.995,\n",
    "               train_interval=4, processor=processor,\n",
    "               target_model_update=1e-2, policy=policy)\n",
    "\n",
    "adam_obj = Adam(learning_rate=1e-3)\n",
    "dqn.compile(adam_obj, metrics=['mae'])\n",
    "\n",
    "# Training part\n",
    "weights_filename = 'dqn_{}_weights.h5f'.format(env_name)\n",
    "checkpoint_weights_filename = 'dqn_' + env_name + '_weights_{step}.h5f'\n",
    "log_filename = 'dqn_{}_log.json'.format(env_name)\n",
    "callbacks = [ModelIntervalCheckpoint(checkpoint_weights_filename, interval=15000)]\n",
    "callbacks += [FileLogger(log_filename, interval=2000)]"
   ]
  },
  {
   "cell_type": "markdown",
   "metadata": {
    "id": "OB9-_5HPGb2b"
   },
   "source": [
    "2. Implementación de la solución DQN"
   ]
  },
  {
   "cell_type": "code",
   "execution_count": 32,
   "metadata": {
    "id": "foSlxWH1Gb2b"
   },
   "outputs": [
    {
     "name": "stdout",
     "output_type": "stream",
     "text": [
      "Training for 60000 steps ...\n",
      "Interval 1 (0 steps performed)\n"
     ]
    },
    {
     "name": "stderr",
     "output_type": "stream",
     "text": [
      "2025-07-01 23:48:20.873495: W tensorflow/c/c_api.cc:300] Operation '{name:'activation_4/activation_4/Identity' id:126 op device:{requested: '', assigned: ''} def:{{{node activation_4/activation_4/Identity}} = Identity[T=DT_FLOAT, _has_manual_control_dependencies=true](dense_1/BiasAdd)}}' was changed by setting attribute after it was run by a session. This mutation will have no effect, and will trigger an error in the future. Either don't modify nodes after running them or create a new session.\n",
      "2025-07-01 23:48:21.013039: W tensorflow/c/c_api.cc:300] Operation '{name:'count_24/Assign' id:5101 op device:{requested: '', assigned: ''} def:{{{node count_24/Assign}} = AssignVariableOp[_has_manual_control_dependencies=true, dtype=DT_FLOAT, validate_shape=false](count_24, count_24/Initializer/zeros)}}' was changed by setting attribute after it was run by a session. This mutation will have no effect, and will trigger an error in the future. Either don't modify nodes after running them or create a new session.\n"
     ]
    },
    {
     "name": "stdout",
     "output_type": "stream",
     "text": [
      "2000/2000 [==============================] - 11s 5ms/step - reward: 0.0145\n",
      "3 episodes - episode_reward: 9.000 [7.000, 11.000] - ale.lives: 2.255\n",
      "\n",
      "Interval 2 (2000 steps performed)\n",
      "2000/2000 [==============================] - 11s 5ms/step - reward: 0.0100\n",
      "4 episodes - episode_reward: 5.500 [5.000, 7.000] - ale.lives: 2.139\n",
      "\n",
      "Interval 3 (4000 steps performed)\n",
      "1001/2000 [==============>...............] - ETA: 5s - reward: 0.0080"
     ]
    },
    {
     "name": "stderr",
     "output_type": "stream",
     "text": [
      "2025-07-01 23:48:48.666709: W tensorflow/c/c_api.cc:300] Operation '{name:'activation_4_7/activation_4/Identity' id:4929 op device:{requested: '', assigned: ''} def:{{{node activation_4_7/activation_4/Identity}} = Identity[T=DT_FLOAT, _has_manual_control_dependencies=true](dense_1_7/BiasAdd)}}' was changed by setting attribute after it was run by a session. This mutation will have no effect, and will trigger an error in the future. Either don't modify nodes after running them or create a new session.\n",
      "2025-07-01 23:48:49.020974: W tensorflow/c/c_api.cc:300] Operation '{name:'loss_27/AddN' id:5227 op device:{requested: '', assigned: ''} def:{{{node loss_27/AddN}} = AddN[N=2, T=DT_FLOAT, _has_manual_control_dependencies=true](loss_27/mul, loss_27/mul_1)}}' was changed by setting attribute after it was run by a session. This mutation will have no effect, and will trigger an error in the future. Either don't modify nodes after running them or create a new session.\n",
      "2025-07-01 23:48:49.164268: W tensorflow/c/c_api.cc:300] Operation '{name:'training_10/Adam/dense_1/kernel/m/Assign' id:5450 op device:{requested: '', assigned: ''} def:{{{node training_10/Adam/dense_1/kernel/m/Assign}} = AssignVariableOp[_has_manual_control_dependencies=true, dtype=DT_FLOAT, validate_shape=false](training_10/Adam/dense_1/kernel/m, training_10/Adam/dense_1/kernel/m/Initializer/zeros)}}' was changed by setting attribute after it was run by a session. This mutation will have no effect, and will trigger an error in the future. Either don't modify nodes after running them or create a new session.\n"
     ]
    },
    {
     "name": "stdout",
     "output_type": "stream",
     "text": [
      "2000/2000 [==============================] - 45s 22ms/step - reward: 0.0085\n",
      "3 episodes - episode_reward: 5.000 [3.000, 7.000] - loss: 0.048 - mae: 4.747 - mean_q: 5.731 - mean_eps: 0.917 - ale.lives: 2.275\n",
      "\n",
      "Interval 4 (6000 steps performed)\n",
      "2000/2000 [==============================] - 77s 38ms/step - reward: 0.0115\n",
      "3 episodes - episode_reward: 6.333 [3.000, 10.000] - loss: 0.051 - mae: 4.738 - mean_q: 5.725 - mean_eps: 0.895 - ale.lives: 1.931\n",
      "\n",
      "Interval 5 (8000 steps performed)\n",
      "2000/2000 [==============================] - 79s 39ms/step - reward: 0.0160\n",
      "3 episodes - episode_reward: 12.000 [7.000, 21.000] - loss: 0.035 - mae: 4.752 - mean_q: 5.746 - mean_eps: 0.865 - ale.lives: 1.798\n",
      "\n",
      "Interval 6 (10000 steps performed)\n",
      "2000/2000 [==============================] - 80s 40ms/step - reward: 0.0120\n",
      "2 episodes - episode_reward: 11.000 [5.000, 17.000] - loss: 0.040 - mae: 4.806 - mean_q: 5.816 - mean_eps: 0.835 - ale.lives: 1.897\n",
      "\n",
      "Interval 7 (12000 steps performed)\n",
      "2000/2000 [==============================] - 80s 40ms/step - reward: 0.0130\n",
      "4 episodes - episode_reward: 7.250 [5.000, 10.000] - loss: 0.036 - mae: 4.917 - mean_q: 5.948 - mean_eps: 0.805 - ale.lives: 1.965\n",
      "\n",
      "Interval 8 (14000 steps performed)\n",
      "2000/2000 [==============================] - 80s 40ms/step - reward: 0.0195\n",
      "2 episodes - episode_reward: 18.500 [14.000, 23.000] - loss: 0.039 - mae: 5.010 - mean_q: 6.060 - mean_eps: 0.775 - ale.lives: 2.200\n",
      "\n",
      "Interval 9 (16000 steps performed)\n",
      "2000/2000 [==============================] - 80s 40ms/step - reward: 0.0085\n",
      "4 episodes - episode_reward: 5.000 [3.000, 7.000] - loss: 0.032 - mae: 5.108 - mean_q: 6.179 - mean_eps: 0.745 - ale.lives: 1.974\n",
      "\n",
      "Interval 10 (18000 steps performed)\n",
      "2000/2000 [==============================] - 80s 40ms/step - reward: 0.0170\n",
      "3 episodes - episode_reward: 11.333 [6.000, 21.000] - loss: 0.036 - mae: 5.217 - mean_q: 6.311 - mean_eps: 0.715 - ale.lives: 2.501\n",
      "\n",
      "Interval 11 (20000 steps performed)\n",
      "2000/2000 [==============================] - 80s 40ms/step - reward: 0.0125\n",
      "3 episodes - episode_reward: 7.667 [5.000, 11.000] - loss: 0.028 - mae: 5.320 - mean_q: 6.433 - mean_eps: 0.685 - ale.lives: 2.126\n",
      "\n",
      "Interval 12 (22000 steps performed)\n",
      "2000/2000 [==============================] - 81s 40ms/step - reward: 0.0120\n",
      "4 episodes - episode_reward: 6.500 [4.000, 8.000] - loss: 0.041 - mae: 5.398 - mean_q: 6.527 - mean_eps: 0.655 - ale.lives: 2.279\n",
      "\n",
      "Interval 13 (24000 steps performed)\n",
      "2000/2000 [==============================] - 81s 40ms/step - reward: 0.0120\n",
      "3 episodes - episode_reward: 5.333 [3.000, 8.000] - loss: 0.040 - mae: 5.468 - mean_q: 6.616 - mean_eps: 0.625 - ale.lives: 2.167\n",
      "\n",
      "Interval 14 (26000 steps performed)\n",
      "2000/2000 [==============================] - 81s 40ms/step - reward: 0.0140\n",
      "3 episodes - episode_reward: 8.667 [5.000, 13.000] - loss: 0.045 - mae: 5.552 - mean_q: 6.715 - mean_eps: 0.595 - ale.lives: 1.774\n",
      "\n",
      "Interval 15 (28000 steps performed)\n",
      "2000/2000 [==============================] - 81s 41ms/step - reward: 0.0155\n",
      "4 episodes - episode_reward: 10.000 [7.000, 15.000] - loss: 0.045 - mae: 5.626 - mean_q: 6.801 - mean_eps: 0.565 - ale.lives: 2.098\n",
      "\n",
      "Interval 16 (30000 steps performed)\n",
      "2000/2000 [==============================] - 81s 40ms/step - reward: 0.0245\n",
      "2 episodes - episode_reward: 25.000 [24.000, 26.000] - loss: 0.055 - mae: 5.688 - mean_q: 6.878 - mean_eps: 0.535 - ale.lives: 1.808\n",
      "\n",
      "Interval 17 (32000 steps performed)\n",
      "2000/2000 [==============================] - 81s 40ms/step - reward: 0.0120\n",
      "4 episodes - episode_reward: 5.750 [4.000, 8.000] - loss: 0.049 - mae: 5.773 - mean_q: 6.982 - mean_eps: 0.505 - ale.lives: 2.001\n",
      "\n",
      "Interval 18 (34000 steps performed)\n",
      "2000/2000 [==============================] - 81s 40ms/step - reward: 0.0130\n",
      "3 episodes - episode_reward: 8.667 [6.000, 12.000] - loss: 0.057 - mae: 5.849 - mean_q: 7.075 - mean_eps: 0.475 - ale.lives: 2.146\n",
      "\n",
      "Interval 19 (36000 steps performed)\n",
      "2000/2000 [==============================] - 81s 41ms/step - reward: 0.0130\n",
      "3 episodes - episode_reward: 8.667 [5.000, 11.000] - loss: 0.054 - mae: 5.945 - mean_q: 7.196 - mean_eps: 0.445 - ale.lives: 1.994\n",
      "\n",
      "Interval 20 (38000 steps performed)\n",
      "2000/2000 [==============================] - 81s 40ms/step - reward: 0.0130\n",
      "3 episodes - episode_reward: 4.667 [4.000, 6.000] - loss: 0.049 - mae: 6.055 - mean_q: 7.320 - mean_eps: 0.415 - ale.lives: 1.964\n",
      "\n",
      "Interval 21 (40000 steps performed)\n",
      "2000/2000 [==============================] - 81s 41ms/step - reward: 0.0145\n",
      "3 episodes - episode_reward: 11.000 [6.000, 18.000] - loss: 0.058 - mae: 6.139 - mean_q: 7.424 - mean_eps: 0.385 - ale.lives: 2.014\n",
      "\n",
      "Interval 22 (42000 steps performed)\n",
      "2000/2000 [==============================] - 81s 40ms/step - reward: 0.0145\n",
      "2 episodes - episode_reward: 12.500 [9.000, 16.000] - loss: 0.060 - mae: 6.243 - mean_q: 7.550 - mean_eps: 0.355 - ale.lives: 2.040\n",
      "\n",
      "Interval 23 (44000 steps performed)\n",
      "2000/2000 [==============================] - 81s 41ms/step - reward: 0.0185\n",
      "2 episodes - episode_reward: 13.500 [9.000, 18.000] - loss: 0.068 - mae: 6.323 - mean_q: 7.650 - mean_eps: 0.325 - ale.lives: 1.944\n",
      "\n",
      "Interval 24 (46000 steps performed)\n",
      "2000/2000 [==============================] - 82s 41ms/step - reward: 0.0185\n",
      "2 episodes - episode_reward: 20.000 [14.000, 26.000] - loss: 0.055 - mae: 6.440 - mean_q: 7.789 - mean_eps: 0.295 - ale.lives: 1.971\n",
      "\n",
      "Interval 25 (48000 steps performed)\n",
      "2000/2000 [==============================] - 82s 41ms/step - reward: 0.0135\n",
      "3 episodes - episode_reward: 12.667 [4.000, 20.000] - loss: 0.063 - mae: 6.512 - mean_q: 7.873 - mean_eps: 0.265 - ale.lives: 1.976\n",
      "\n",
      "Interval 26 (50000 steps performed)\n",
      "2000/2000 [==============================] - 81s 41ms/step - reward: 0.0190\n",
      "2 episodes - episode_reward: 21.000 [16.000, 26.000] - loss: 0.081 - mae: 6.619 - mean_q: 8.000 - mean_eps: 0.235 - ale.lives: 1.873\n",
      "\n",
      "Interval 27 (52000 steps performed)\n",
      "2000/2000 [==============================] - 82s 41ms/step - reward: 0.0100\n",
      "3 episodes - episode_reward: 6.667 [4.000, 9.000] - loss: 0.059 - mae: 6.681 - mean_q: 8.070 - mean_eps: 0.205 - ale.lives: 1.909\n",
      "\n",
      "Interval 28 (54000 steps performed)\n",
      "2000/2000 [==============================] - 81s 41ms/step - reward: 0.0185\n",
      "3 episodes - episode_reward: 12.000 [6.000, 23.000] - loss: 0.074 - mae: 6.793 - mean_q: 8.209 - mean_eps: 0.175 - ale.lives: 2.455\n",
      "\n",
      "Interval 29 (56000 steps performed)\n",
      "2000/2000 [==============================] - 81s 41ms/step - reward: 0.0105\n",
      "4 episodes - episode_reward: 5.500 [1.000, 10.000] - loss: 0.072 - mae: 6.830 - mean_q: 8.253 - mean_eps: 0.145 - ale.lives: 1.867\n",
      "\n",
      "Interval 30 (58000 steps performed)\n",
      "2000/2000 [==============================] - 82s 41ms/step - reward: 0.0205\n",
      "done, took 2246.262 seconds\n"
     ]
    }
   ],
   "source": [
    "dqn.fit(env, callbacks=callbacks, nb_steps=60000, log_interval=2000, visualize=False)\n",
    "\n",
    "dqn.save_weights(weights_filename, overwrite=True)"
   ]
  },
  {
   "cell_type": "code",
   "execution_count": 33,
   "metadata": {
    "id": "OHYryKd1Gb2b"
   },
   "outputs": [
    {
     "name": "stdout",
     "output_type": "stream",
     "text": [
      "Testing for 10 episodes ...\n",
      "Episode 1: reward: 14.000, steps: 819\n",
      "Episode 2: reward: 12.000, steps: 815\n",
      "Episode 3: reward: 15.000, steps: 800\n",
      "Episode 4: reward: 21.000, steps: 1086\n",
      "Episode 5: reward: 15.000, steps: 994\n",
      "Episode 6: reward: 14.000, steps: 704\n",
      "Episode 7: reward: 15.000, steps: 1102\n",
      "Episode 8: reward: 8.000, steps: 638\n",
      "Episode 9: reward: 18.000, steps: 1172\n",
      "Episode 10: reward: 11.000, steps: 682\n",
      "Media de la recompensa obtenida en 10 episodios: 14.3\n",
      "Desviación estandar de la recompensa obtenida en 10 episodios: 3.4073450074801643\n"
     ]
    }
   ],
   "source": [
    "# Testing part to calculate the mean reward\n",
    "weights_filename = 'dqn_{}_weights.h5f'.format(env_name)\n",
    "dqn.load_weights(weights_filename)\n",
    "history = dqn.test(env, nb_episodes=10, visualize=False)\n",
    "# Obtener media y desviación estandar de la recompensa de los episodios\n",
    "recompensas = history.history.get('episode_reward', [])\n",
    "print(f\"Media de la recompensa obtenida en 10 episodios: {np.mean(np.array(recompensas))}\")\n",
    "print(f\"Desviación estandar de la recompensa obtenida en 10 episodios: {np.std(np.array(recompensas))}\")"
   ]
  },
  {
   "cell_type": "markdown",
   "metadata": {
    "id": "-NAlu8b1Gb2b"
   },
   "source": [
    "3. Justificación de los parámetros seleccionados y de los resultados obtenidos"
   ]
  },
  {
   "cell_type": "markdown",
   "metadata": {
    "id": "ANFQiicXK3sO"
   },
   "source": [
    "---"
   ]
  }
 ],
 "metadata": {
  "colab": {
   "provenance": []
  },
  "kernelspec": {
   "display_name": "Python 3 (ipykernel)",
   "language": "python",
   "name": "python3"
  },
  "language_info": {
   "codemirror_mode": {
    "name": "ipython",
    "version": 3
   },
   "file_extension": ".py",
   "mimetype": "text/x-python",
   "name": "python",
   "nbconvert_exporter": "python",
   "pygments_lexer": "ipython3",
   "version": "3.8.20"
  }
 },
 "nbformat": 4,
 "nbformat_minor": 4
}
