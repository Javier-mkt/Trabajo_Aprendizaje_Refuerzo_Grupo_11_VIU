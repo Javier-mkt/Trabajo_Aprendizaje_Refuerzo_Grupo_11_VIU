{
 "cells": [
  {
   "cell_type": "code",
   "execution_count": 3,
   "id": "25377292",
   "metadata": {},
   "outputs": [],
   "source": [
    "import csv\n",
    "import re\n",
    "import os\n",
    "\n",
    "pattern = re.compile(\n",
    "    r\"\\s*(?P<step>\\d+)\\s*/\\s*(?P<total_steps>\\d+)\\s*:\\s*episode:\\s*(?P<episode>\\d+)\\s*,\\s*duration:\\s*(?P<duration>[\\d.]+)s\\s*,\\s*episode steps:\\s*(?P<episode_steps>\\d+)\\s*,\\s*\"\n",
    "    r\"steps per second:\\s*(?P<steps_per_second>\\d+)\\s*,\\s*episode reward:\\s*(?P<episode_reward>[\\d.]+)\\s*,\\s*mean reward:\\s*(?P<mean_reward>[\\d.]+)\\s*\\[.*?\\]\\s*,\\s*\"\n",
    "    r\"mean action:\\s*(?P<mean_action>[\\d.]+)\\s*\\[.*?\\]\\s*,\\s*loss:\\s*(?P<loss>[\\d.]+)\\s*,\\s*mae:\\s*(?P<mae>[\\d.]+)\\s*,\\s*mean_q:\\s*(?P<mean_q>[\\d.]+)\\s*,\\s*\"\n",
    "    r\"mean_eps:\\s*(?P<mean_eps>[\\d.]+)\"\n",
    ")\n",
    "\n",
    "fields = [\n",
    "    'step', 'total_steps', 'episode', 'duration', 'episode_steps',\n",
    "    'steps_per_second', 'episode_reward', 'mean_reward', 'mean_action',\n",
    "    'loss', 'mae', 'mean_q', 'mean_eps'\n",
    "]\n",
    "\n",
    "ruta = \"dqn_version_6_train_data.txt\"\n",
    "ruta_salida = \"dqn_version_6_train_data.csv\"\n",
    "\n",
    "with open(ruta, \"r\") as infile, open(ruta_salida, \"w\", newline='') as outfile:\n",
    "    writer = csv.DictWriter(outfile, fieldnames=fields)\n",
    "    writer.writeheader()\n",
    "    \n",
    "    for i, line in enumerate(infile):\n",
    "        match = pattern.search(line)\n",
    "        if match:\n",
    "            writer.writerow(match.groupdict())"
   ]
  }
 ],
 "metadata": {
  "kernelspec": {
   "display_name": "miar_rl",
   "language": "python",
   "name": "python3"
  },
  "language_info": {
   "codemirror_mode": {
    "name": "ipython",
    "version": 3
   },
   "file_extension": ".py",
   "mimetype": "text/x-python",
   "name": "python",
   "nbconvert_exporter": "python",
   "pygments_lexer": "ipython3",
   "version": "3.8.20"
  }
 },
 "nbformat": 4,
 "nbformat_minor": 5
}
