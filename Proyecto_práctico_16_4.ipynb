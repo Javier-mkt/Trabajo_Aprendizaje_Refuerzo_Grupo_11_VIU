{
 "cells": [
  {
   "cell_type": "markdown",
   "metadata": {
    "id": "jUehXgCyIRdq"
   },
   "source": [
    "# Actividad - Proyecto práctico\n",
    "\n",
    "\n",
    "> La actividad se desarrollará en grupos pre-definidos de 2-3 alumnos. Se debe indicar los nombres en orden alfabético (de apellidos). Recordad que esta actividad se corresponde con un 30% de la nota final de la asignatura. Se debe entregar entregar el trabajo en la presente notebook.\n",
    "*   Alumno 1: Gil Garcera, Javier \n",
    "*   Alumno 2: Palomares Mateo, Abel \n",
    "*   Alumno 3: Serrano López, Francisco Rubén \n",
    "*   Alumno 4: Vegas Romero, David \n",
    "\n",
    "\n",
    "\n",
    "\n",
    "\n"
   ]
  },
  {
   "cell_type": "markdown",
   "metadata": {
    "id": "JwpYlnjWJhS9"
   },
   "source": [
    "---\n",
    "## **PARTE 1** - Instalación y requisitos previos\n",
    "\n",
    "> Las prácticas han sido preparadas para poder realizarse en el entorno de trabajo de Google Colab. Sin embargo, esta plataforma presenta ciertas incompatibilidades a la hora de visualizar la renderización en gym. Por ello, para obtener estas visualizaciones, se deberá trasladar el entorno de trabajo a local. Por ello, el presente dosier presenta instrucciones para poder trabajar en ambos entornos. Siga los siguientes pasos para un correcto funcionamiento:\n",
    "1.   **LOCAL:** Preparar el enviroment, siguiendo las intrucciones detalladas en la sección *1.1.Preparar enviroment*.\n",
    "2.  **AMBOS:** Modificar las variables \"mount\" y \"drive_mount\" a la carpeta de trabajo en drive en el caso de estar en Colab, y ejecturar la celda *1.2.Localizar entorno de trabajo*.\n",
    "3. **COLAB:** se deberá ejecutar las celdas correspondientes al montaje de la carpeta de trabajo en Drive. Esta corresponde a la sección *1.3.Montar carpeta de datos local*.\n",
    "4.  **AMBOS:** Instalar las librerías necesarias, siguiendo la sección *1.4.Instalar librerías necesarias*.\n"
   ]
  },
  {
   "cell_type": "markdown",
   "metadata": {
    "id": "RU2BPrK2JkP0"
   },
   "source": [
    "---\n",
    "### 1.1. Preparar enviroment (solo local)\n",
    "\n",
    "\n",
    "\n",
    "> Para preparar el entorno de trabajo en local, se han seguido los siguientes pasos:\n",
    "1. En Windows, puede ser necesario instalar las C++ Build Tools. Para ello, siga los siguientes pasos: https://towardsdatascience.com/how-to-install-openai-gym-in-a-windows-environment-338969e24d30.\n",
    "2. Instalar Anaconda\n",
    "3. Siguiendo el código que se presenta comentado en la próxima celda: Crear un enviroment, cambiar la ruta de trabajo, e instalar librerías básicas.\n",
    "\n",
    "\n",
    "```\n",
    "conda create --name miar_rl python=3.8\n",
    "conda activate miar_rl\n",
    "cd \"PATH_TO_FOLDER\"\n",
    "conda install git\n",
    "pip install jupyter\n",
    "```\n",
    "\n",
    "\n",
    "4. Abrir la notebook con *jupyter-notebook*.\n",
    "\n",
    "\n",
    "\n",
    "```\n",
    "jupyter-notebook\n",
    "```\n"
   ]
  },
  {
   "cell_type": "markdown",
   "metadata": {
    "id": "w-kixNPiJqTc"
   },
   "source": [
    "---\n",
    "### 1.2. Localizar entorno de trabajo: Google colab o local"
   ]
  },
  {
   "cell_type": "code",
   "execution_count": 4,
   "metadata": {
    "id": "S_YDFwZ-JscI"
   },
   "outputs": [],
   "source": [
    "# ATENCIÓN!! Modificar ruta relativa a la práctica si es distinta (drive_root)\n",
    "mount='/content/gdrive'\n",
    "drive_root = mount + \"/My Drive/08_MIAR/actividades/proyecto practico\"\n",
    "\n",
    "try:\n",
    "  from google.colab import drive\n",
    "  IN_COLAB=True\n",
    "except:\n",
    "  IN_COLAB=False"
   ]
  },
  {
   "cell_type": "markdown",
   "metadata": {
    "id": "8Dp_a1iBJ0tf"
   },
   "source": [
    "---\n",
    "### 1.3. Montar carpeta de datos local (solo Colab)"
   ]
  },
  {
   "cell_type": "code",
   "execution_count": 5,
   "metadata": {
    "id": "I6n7MIefJ21i"
   },
   "outputs": [
    {
     "name": "stdout",
     "output_type": "stream",
     "text": [
      "Archivos en el directorio: \n",
      "['dqn_SpaceInvaders-v0_weights_250000.h5f.index', 'dqn_SpaceInvaders-v0_weights_1000000.h5f.data-00000-of-00001', '.jupyter', 'dqn_SpaceInvaders-v0_weights_1750000.h5f.data-00000-of-00001', 'dqn_SpaceInvaders-v0_log.json', 'alternativa_google_collab.txt', 'dqn_SpaceInvaders-v0_weights_500000.h5f.data-00000-of-00001', 'Proyecto_práctico.ipynb', 'dqn_SpaceInvaders-v0_weights_750000.h5f.data-00000-of-00001', 'dqn_SpaceInvaders-v0_weights_1750000.h5f.index', 'dqn_SpaceInvaders-v0_weights.h5f.index', 'dqn_SpaceInvaders-v0_weights_1500000.h5f.data-00000-of-00001', 'dqn_SpaceInvaders-v0_weights_1250000.h5f.data-00000-of-00001', 'dqn_SpaceInvaders-v0_weights_500000.h5f.index', 'dqn_SpaceInvaders-v0_weights_1000000.h5f.index', 'Proyecto_práctico_local.ipynb', 'dqn_SpaceInvaders-v0_weights_1500000.h5f.index', 'README.md', '.ipynb_checkpoints', '.git', 'dqn_SpaceInvaders-v0_weights.h5f.data-00000-of-00001', 'dqn_SpaceInvaders-v0_weights_1250000.h5f.index', '.gitignore', 'dqn_SpaceInvaders-v0_weights_250000.h5f.data-00000-of-00001', 'dqn_SpaceInvaders-v0_weights_750000.h5f.index', 'checkpoint']\n"
     ]
    }
   ],
   "source": [
    "# Switch to the directory on the Google Drive that you want to use\n",
    "import os\n",
    "os.environ['TF_CPP_MIN_LOG_LEVEL'] = '2'\n",
    "if IN_COLAB:\n",
    "  print(\"We're running Colab\")\n",
    "\n",
    "  if IN_COLAB:\n",
    "    # Mount the Google Drive at mount\n",
    "    print(\"Colab: mounting Google drive on \", mount)\n",
    "\n",
    "    drive.mount(mount)\n",
    "\n",
    "    # Create drive_root if it doesn't exist\n",
    "    create_drive_root = True\n",
    "    if create_drive_root:\n",
    "      print(\"\\nColab: making sure \", drive_root, \" exists.\")\n",
    "      os.makedirs(drive_root, exist_ok=True)\n",
    "\n",
    "    # Change to the directory\n",
    "    print(\"\\nColab: Changing directory to \", drive_root)\n",
    "    %cd $drive_root\n",
    "# Verify we're in the correct working directory\n",
    "%pwd\n",
    "print(\"Archivos en el directorio: \")\n",
    "print(os.listdir())"
   ]
  },
  {
   "cell_type": "markdown",
   "metadata": {
    "id": "i1ZSL5bpJ560"
   },
   "source": [
    "---\n",
    "### 1.4. Instalar librerías necesarias"
   ]
  },
  {
   "cell_type": "code",
   "execution_count": 6,
   "metadata": {
    "id": "UbVRjvHCJ8UF"
   },
   "outputs": [],
   "source": [
    "if IN_COLAB:\n",
    "  %pip install gym==0.17.3\n",
    "  %pip install git+https://github.com/Kojoley/atari-py.git\n",
    "  %pip install keras-rl2==1.0.5\n",
    "  %pip install tensorflow==2.8\n",
    "  %pip install tensorflow==2.12.1\n",
    "elif False:\n",
    "  %pip install numpy==1.23.5\n",
    "  %pip install gym==0.17.3\n",
    "  %pip install git+https://github.com/Kojoley/atari-py.git\n",
    "  %pip install pyglet==1.5.0\n",
    "  %pip install h5py==3.10.0\n",
    "  %pip install Pillow==9.5.0\n",
    "  %pip install keras-rl2==1.0.5\n",
    "  %pip install Keras==2.12.0\n",
    "  %pip install tensorflow==2.12.1\n",
    "  %pip install torch==2.0.1\n",
    "  %pip install agents==1.4.0"
   ]
  },
  {
   "cell_type": "markdown",
   "metadata": {
    "id": "4hzP_5ZuGb2X"
   },
   "source": [
    "---\n",
    "## **PARTE 2**. Enunciado\n",
    "\n",
    "Consideraciones a tener en cuenta:\n",
    "\n",
    "- El entorno sobre el que trabajaremos será _SpaceInvaders-v0_ y el algoritmo que usaremos será _DQN_.\n",
    "\n",
    "- Para nuestro ejercicio, el requisito mínimo será alcanzado cuando el agente consiga una **media de recompensa por encima de 20 puntos en modo test**. Por ello, esta media de la recompensa se calculará a partir del código de test en la última celda del notebook.\n",
    "\n",
    "Este proyecto práctico consta de tres partes:\n",
    "\n",
    "1.   Implementar la red neuronal que se usará en la solución\n",
    "2.   Implementar las distintas piezas de la solución DQN\n",
    "3.   Justificar la respuesta en relación a los resultados obtenidos\n",
    "\n",
    "**Rúbrica**: Se valorará la originalidad en la solución aportada, así como la capacidad de discutir los resultados de forma detallada. El requisito mínimo servirá para aprobar la actividad, bajo premisa de que la discusión del resultado sera apropiada.\n",
    "\n",
    "IMPORTANTE:\n",
    "\n",
    "* Si no se consigue una puntuación óptima, responder sobre la mejor puntuación obtenida.\n",
    "* Para entrenamientos largos, recordad que podéis usar checkpoints de vuestros modelos para retomar los entrenamientos. En este caso, recordad cambiar los parámetros adecuadamente (sobre todo los relacionados con el proceso de exploración).\n",
    "* Se deberá entregar unicamente el notebook y los pesos del mejor modelo en un fichero .zip, de forma organizada.\n",
    "* Cada alumno deberá de subir la solución de forma individual."
   ]
  },
  {
   "cell_type": "markdown",
   "metadata": {
    "id": "6_b3mzw8IzJP"
   },
   "source": [
    "---\n",
    "## **PARTE 3**. Desarrollo y preguntas"
   ]
  },
  {
   "cell_type": "markdown",
   "metadata": {
    "id": "duPmUNOVGb2a"
   },
   "source": [
    "#### Importar librerías"
   ]
  },
  {
   "cell_type": "code",
   "execution_count": 6,
   "metadata": {
    "id": "j3eRhgI-Gb2a"
   },
   "outputs": [
    {
     "name": "stdout",
     "output_type": "stream",
     "text": [
      "PyTorch: 2.0.1+cu117\n",
      "¿GPU disponible? [torch]: True\n",
      "Nombre de GPU: NVIDIA GeForce RTX 4060 Laptop GPU\n",
      "TensorFlow: 2.5.3\n",
      "GPUs detectadas [tf]: [PhysicalDevice(name='/physical_device:GPU:0', device_type='GPU')]\n"
     ]
    }
   ],
   "source": [
    "from __future__ import division\n",
    "\n",
    "from PIL import Image\n",
    "import numpy as np\n",
    "import gym\n",
    "\n",
    "from tensorflow.keras.models import model_from_json\n",
    "from tensorflow.keras.models import Sequential\n",
    "from tensorflow.keras.layers import Dense, Activation, Flatten, Convolution2D, Permute\n",
    "from tensorflow.keras.optimizers import Adam\n",
    "#from tensorflow.keras.optimizers.legacy import Adam\n",
    "\n",
    "import tensorflow.keras.backend as K\n",
    "\n",
    "from rl.agents.dqn import DQNAgent\n",
    "from rl.policy import LinearAnnealedPolicy, BoltzmannQPolicy, EpsGreedyQPolicy\n",
    "from rl.memory import SequentialMemory\n",
    "from rl.core import Processor\n",
    "from rl.callbacks import FileLogger, ModelIntervalCheckpoint\n",
    "import tensorflow as tf\n",
    "\n",
    "print(\"PyTorch:\", torch.__version__)\n",
    "print(\"¿GPU disponible? [torch]:\", torch.cuda.is_available())\n",
    "if torch.cuda.is_available():\n",
    "    print(\"Nombre de GPU:\", torch.cuda.get_device_name(0))\n",
    "\n",
    "print(\"TensorFlow:\", tf.__version__)\n",
    "print(\"GPUs detectadas [tf]:\", tf.config.list_physical_devices('GPU'))"
   ]
  },
  {
   "cell_type": "markdown",
   "metadata": {
    "id": "f4jgQjzoGb2a"
   },
   "source": [
    "#### Configuración base"
   ]
  },
  {
   "cell_type": "code",
   "execution_count": 7,
   "metadata": {
    "id": "jwOE6I_KGb2a"
   },
   "outputs": [],
   "source": [
    "INPUT_SHAPE = (84, 84)\n",
    "WINDOW_LENGTH = 4\n",
    "\n",
    "env_name = 'SpaceInvaders-v0'\n",
    "env = gym.make(env_name)\n",
    "\n",
    "np.random.seed(123)\n",
    "env.seed(123)\n",
    "nb_actions = env.action_space.n"
   ]
  },
  {
   "cell_type": "code",
   "execution_count": 8,
   "metadata": {
    "id": "9jGEZUcpGb2a"
   },
   "outputs": [],
   "source": [
    "class AtariProcessor(Processor):\n",
    "    def process_observation(self, observation):\n",
    "        assert observation.ndim == 3  # (height, width, channel)\n",
    "        img = Image.fromarray(observation)\n",
    "        img = img.resize(INPUT_SHAPE).convert('L')\n",
    "        processed_observation = np.array(img)\n",
    "        assert processed_observation.shape == INPUT_SHAPE\n",
    "        return processed_observation.astype('uint8')\n",
    "\n",
    "    def process_state_batch(self, batch):\n",
    "        processed_batch = batch.astype('float32') / 255.\n",
    "        return processed_batch\n",
    "\n",
    "    def process_reward(self, reward):\n",
    "        return np.clip(reward, -1., 1.)"
   ]
  },
  {
   "cell_type": "markdown",
   "metadata": {
    "id": "7yitXTADGb2b"
   },
   "source": [
    "1. Implementación de la red neuronal"
   ]
  },
  {
   "cell_type": "code",
   "execution_count": 9,
   "metadata": {
    "id": "O4GKrfWSGb2b"
   },
   "outputs": [
    {
     "name": "stdout",
     "output_type": "stream",
     "text": [
      "Numero de acciones disponibles:6\n",
      "Formato de las observaciones:\n",
      "channels_last\n",
      "Model: \"sequential\"\n",
      "_________________________________________________________________\n",
      "Layer (type)                 Output Shape              Param #   \n",
      "=================================================================\n",
      "permute (Permute)            (None, 84, 84, 4)         0         \n",
      "_________________________________________________________________\n",
      "conv2d (Conv2D)              (None, 20, 20, 32)        8224      \n",
      "_________________________________________________________________\n",
      "activation (Activation)      (None, 20, 20, 32)        0         \n",
      "_________________________________________________________________\n",
      "conv2d_1 (Conv2D)            (None, 9, 9, 64)          32832     \n",
      "_________________________________________________________________\n",
      "activation_1 (Activation)    (None, 9, 9, 64)          0         \n",
      "_________________________________________________________________\n",
      "conv2d_2 (Conv2D)            (None, 7, 7, 64)          36928     \n",
      "_________________________________________________________________\n",
      "activation_2 (Activation)    (None, 7, 7, 64)          0         \n",
      "_________________________________________________________________\n",
      "flatten (Flatten)            (None, 3136)              0         \n",
      "_________________________________________________________________\n",
      "dense (Dense)                (None, 512)               1606144   \n",
      "_________________________________________________________________\n",
      "activation_3 (Activation)    (None, 512)               0         \n",
      "_________________________________________________________________\n",
      "dense_1 (Dense)              (None, 6)                 3078      \n",
      "_________________________________________________________________\n",
      "activation_4 (Activation)    (None, 6)                 0         \n",
      "=================================================================\n",
      "Total params: 1,687,206\n",
      "Trainable params: 1,687,206\n",
      "Non-trainable params: 0\n",
      "_________________________________________________________________\n",
      "None\n"
     ]
    }
   ],
   "source": [
    "print(\"Numero de acciones disponibles:\" + str(nb_actions))\n",
    "print(\"Formato de las observaciones:\")\n",
    "#env.observation_space\n",
    "## Next, we build a very simple model.\n",
    "#model = Sequential()\n",
    "#model.add(Flatten(input_shape=(1,) + env.observation_space.shape))\n",
    "#model.add(Dense(16))\n",
    "#model.add(Activation('relu'))\n",
    "#model.add(Dense(16))\n",
    "#model.add(Activation('relu'))\n",
    "#model.add(Dense(16))\n",
    "#model.add(Activation('relu'))\n",
    "#model.add(Dense(nb_actions))\n",
    "#model.add(Activation('linear'))\n",
    "#print(model.summary())\n",
    "\n",
    "\n",
    "# Next, we build our model. We use the same model that was described by Mnih et al. (2015).\n",
    "input_shape = (WINDOW_LENGTH,) + INPUT_SHAPE\n",
    "model = Sequential()\n",
    "print(K.image_data_format())\n",
    "if K.image_data_format() == 'channels_last':\n",
    "    # (width, height, channels)\n",
    "    model.add(Permute((2, 3, 1), input_shape=input_shape))\n",
    "elif K.image_data_format() == 'channels_first':\n",
    "    # (channels, width, height)\n",
    "    model.add(Permute((1, 2, 3), input_shape=input_shape))\n",
    "else:\n",
    "    raise RuntimeError('Unknown image_dim_ordering.')\n",
    "\n",
    "model.add(Convolution2D(32, (8, 8), strides=(4, 4)))\n",
    "model.add(Activation('relu'))\n",
    "model.add(Convolution2D(64, (4, 4), strides=(2, 2)))\n",
    "model.add(Activation('relu'))\n",
    "model.add(Convolution2D(64, (3, 3), strides=(1, 1)))\n",
    "model.add(Activation('relu'))\n",
    "model.add(Flatten())\n",
    "model.add(Dense(512))\n",
    "model.add(Activation('relu'))\n",
    "model.add(Dense(nb_actions))\n",
    "model.add(Activation('linear'))\n",
    "\n",
    "\"\"\"\n",
    "from keras.layers import Lambda, Add, Subtract, Multiply, Reshape\n",
    "\n",
    "# Suponiendo que tu output antes era:\n",
    "features = Dense(512, activation='relu')(flattened)\n",
    "\n",
    "# Dueling DQN\n",
    "value = Dense(1, activation='linear')(features)\n",
    "advantage = Dense(nb_actions, activation='linear')(features)\n",
    "advantage_mean = Lambda(lambda x: K.mean(x, axis=1, keepdims=True))(advantage)\n",
    "q_values = Add()([value, Subtract()([advantage, advantage_mean])])\n",
    "\n",
    "model = Model(inputs=inputs, outputs=q_values)\n",
    "\n",
    "\"\"\"\n",
    "\n",
    "print(model.summary())"
   ]
  },
  {
   "cell_type": "code",
   "execution_count": 13,
   "metadata": {},
   "outputs": [
    {
     "data": {
      "text/plain": [
       "\"# Let's define the memory for storing the experience\\nmemory = SequentialMemory(limit=50000, window_length=1)\\n\\n# Define the policy that our agent will follow\\npolicy = BoltzmannQPolicy()\\n\\n# Define the agent\\ndqn = DQNAgent(model=model, nb_actions=nb_actions, memory=memory,\\n               nb_steps_warmup=10,\\n               target_model_update=1e-2, policy=policy)\\n\\nadam_obj = Adam(learning_rate=1e-3)\\ndqn.compile(adam_obj, metrics=['mae'])\\n\\n# Train the agent\\ndqn.fit(env, nb_steps=50000, visualize=False, verbose=2)\\n\\n# After training is done, we save the final weights.\\ndqn.save_weights('dqn_{}_weights.h5f'.format(ENV_NAME), overwrite=True)\\n# Finally, evaluate our algorithm for 5 episodes.\\ndqn.load_weights('dqn_{}_weights.h5f'.format(ENV_NAME))\\ndqn.test(env, nb_episodes=10, visualize=False)\\n\""
      ]
     },
     "execution_count": 13,
     "metadata": {},
     "output_type": "execute_result"
    }
   ],
   "source": [
    "\"\"\"# Let's define the memory for storing the experience\n",
    "memory = SequentialMemory(limit=50000, window_length=1)\n",
    "\n",
    "# Define the policy that our agent will follow\n",
    "policy = BoltzmannQPolicy()\n",
    "\n",
    "# Define the agent\n",
    "dqn = DQNAgent(model=model, nb_actions=nb_actions, memory=memory,\n",
    "               nb_steps_warmup=10,\n",
    "               target_model_update=1e-2, policy=policy)\n",
    "\n",
    "adam_obj = Adam(learning_rate=1e-3)\n",
    "dqn.compile(adam_obj, metrics=['mae'])\n",
    "\n",
    "# Train the agent\n",
    "dqn.fit(env, nb_steps=50000, visualize=False, verbose=2)\n",
    "\n",
    "# After training is done, we save the final weights.\n",
    "dqn.save_weights('dqn_{}_weights.h5f'.format(ENV_NAME), overwrite=True)\n",
    "# Finally, evaluate our algorithm for 5 episodes.\n",
    "dqn.load_weights('dqn_{}_weights.h5f'.format(ENV_NAME))\n",
    "dqn.test(env, nb_episodes=10, visualize=False)\n",
    "\"\"\""
   ]
  },
  {
   "cell_type": "code",
   "execution_count": 16,
   "metadata": {},
   "outputs": [],
   "source": [
    "memory = SequentialMemory(limit=1000000, window_length=WINDOW_LENGTH)\n",
    "processor = AtariProcessor()\n",
    "\n",
    "#policy = LinearAnnealedPolicy(EpsGreedyQPolicy(), attr='eps',\n",
    "#                              value_max=1., value_min=.1, value_test=.05,\n",
    "#                              nb_steps=1000000)\n",
    "policy = LinearAnnealedPolicy(EpsGreedyQPolicy(), attr='eps',\n",
    "                              value_max=1., value_min=.1, value_test=.05,\n",
    "                              nb_steps=2000000)\n",
    "#dqn = DQNAgent(model=model, nb_actions=nb_actions, policy=policy,\n",
    "#               memory=memory, processor=processor,\n",
    "#               nb_steps_warmup=50000, gamma=.99,\n",
    "#               target_model_update=10000,\n",
    "#               train_interval=4)\n",
    "\n",
    "dqn = DQNAgent(model=model, nb_actions=nb_actions, policy=policy,\n",
    "               memory=memory, processor=processor,\n",
    "               nb_steps_warmup=50000, gamma=0.995,\n",
    "               target_model_update=30000,\n",
    "               train_interval=4)\n",
    "\n",
    "dqn.compile(Adam(learning_rate=.00025), metrics=['mae'])\n",
    "\n",
    "# Training part\n",
    "weights_filename = 'dqn_{}_weights.h5f'.format(env_name)\n",
    "checkpoint_weights_filename = 'dqn_' + env_name + '_weights_{step}.h5f'\n",
    "log_filename = 'dqn_{}_log.json'.format(env_name)\n",
    "callbacks = [ModelIntervalCheckpoint(checkpoint_weights_filename, interval=250000)]\n",
    "callbacks += [FileLogger(log_filename, interval=100)]"
   ]
  },
  {
   "cell_type": "markdown",
   "metadata": {
    "id": "OB9-_5HPGb2b"
   },
   "source": [
    "2. Implementación de la solución DQN"
   ]
  },
  {
   "cell_type": "code",
   "execution_count": 17,
   "metadata": {
    "id": "foSlxWH1Gb2b"
   },
   "outputs": [
    {
     "name": "stdout",
     "output_type": "stream",
     "text": [
      "Training for 1750000 steps ...\n",
      "Interval 1 (0 steps performed)\n",
      "30000/30000 [==============================] - 63s 2ms/step - reward: 0.0140\n",
      "43 episodes - episode_reward: 9.767 [2.000, 26.000] - ale.lives: 2.155\n",
      "\n",
      "Interval 2 (30000 steps performed)\n",
      "30000/30000 [==============================] - 169s 6ms/step - reward: 0.0146\n",
      "42 episodes - episode_reward: 10.167 [2.000, 32.000] - loss: 0.019 - mae: 2.379 - mean_q: 2.874 - mean_eps: 0.975 - ale.lives: 2.080\n",
      "\n",
      "Interval 3 (60000 steps performed)\n",
      "30000/30000 [==============================] - 389s 13ms/step - reward: 0.0137\n",
      "48 episodes - episode_reward: 8.812 [3.000, 18.000] - loss: 0.015 - mae: 2.391 - mean_q: 2.892 - mean_eps: 0.966 - ale.lives: 2.101\n",
      "\n",
      "Interval 4 (90000 steps performed)\n",
      "30000/30000 [==============================] - 395s 13ms/step - reward: 0.0154\n",
      "43 episodes - episode_reward: 10.605 [4.000, 25.000] - loss: 0.015 - mae: 2.436 - mean_q: 2.948 - mean_eps: 0.953 - ale.lives: 2.081\n",
      "\n",
      "Interval 5 (120000 steps performed)\n",
      "30000/30000 [==============================] - 400s 13ms/step - reward: 0.0151\n",
      "42 episodes - episode_reward: 10.810 [3.000, 29.000] - loss: 0.015 - mae: 2.464 - mean_q: 2.983 - mean_eps: 0.939 - ale.lives: 2.132\n",
      "\n",
      "Interval 6 (150000 steps performed)\n",
      "30000/30000 [==============================] - 406s 14ms/step - reward: 0.0137\n",
      "47 episodes - episode_reward: 8.638 [2.000, 20.000] - loss: 0.014 - mae: 2.468 - mean_q: 2.989 - mean_eps: 0.926 - ale.lives: 2.157\n",
      "\n",
      "Interval 7 (180000 steps performed)\n",
      "30000/30000 [==============================] - 410s 14ms/step - reward: 0.0143\n",
      "47 episodes - episode_reward: 9.362 [4.000, 24.000] - loss: 0.015 - mae: 2.506 - mean_q: 3.035 - mean_eps: 0.912 - ale.lives: 2.076\n",
      "\n",
      "Interval 8 (210000 steps performed)\n",
      "30000/30000 [==============================] - 415s 14ms/step - reward: 0.0151\n",
      "47 episodes - episode_reward: 9.660 [4.000, 22.000] - loss: 0.015 - mae: 2.542 - mean_q: 3.078 - mean_eps: 0.899 - ale.lives: 2.116\n",
      "\n",
      "Interval 9 (240000 steps performed)\n",
      "30000/30000 [==============================] - 419s 14ms/step - reward: 0.0157\n",
      "42 episodes - episode_reward: 11.190 [4.000, 24.000] - loss: 0.016 - mae: 2.558 - mean_q: 3.095 - mean_eps: 0.885 - ale.lives: 2.154\n",
      "\n",
      "Interval 10 (270000 steps performed)\n",
      "30000/30000 [==============================] - 424s 14ms/step - reward: 0.0154\n",
      "43 episodes - episode_reward: 10.605 [3.000, 22.000] - loss: 0.016 - mae: 2.602 - mean_q: 3.148 - mean_eps: 0.872 - ale.lives: 2.138\n",
      "\n",
      "Interval 11 (300000 steps performed)\n",
      "30000/30000 [==============================] - 431s 14ms/step - reward: 0.0152\n",
      "48 episodes - episode_reward: 9.625 [3.000, 19.000] - loss: 0.017 - mae: 2.634 - mean_q: 3.186 - mean_eps: 0.858 - ale.lives: 2.051\n",
      "\n",
      "Interval 12 (330000 steps performed)\n",
      "30000/30000 [==============================] - 432s 14ms/step - reward: 0.0170\n",
      "41 episodes - episode_reward: 12.000 [2.000, 30.000] - loss: 0.018 - mae: 2.675 - mean_q: 3.233 - mean_eps: 0.845 - ale.lives: 2.105\n",
      "\n",
      "Interval 13 (360000 steps performed)\n",
      "30000/30000 [==============================] - 437s 15ms/step - reward: 0.0158\n",
      "41 episodes - episode_reward: 11.878 [2.000, 28.000] - loss: 0.018 - mae: 2.708 - mean_q: 3.272 - mean_eps: 0.831 - ale.lives: 2.061\n",
      "\n",
      "Interval 14 (390000 steps performed)\n",
      "30000/30000 [==============================] - 443s 15ms/step - reward: 0.0164\n",
      "42 episodes - episode_reward: 11.786 [3.000, 25.000] - loss: 0.018 - mae: 2.723 - mean_q: 3.289 - mean_eps: 0.818 - ale.lives: 2.137\n",
      "\n",
      "Interval 15 (420000 steps performed)\n",
      "30000/30000 [==============================] - 450s 15ms/step - reward: 0.0168\n",
      "42 episodes - episode_reward: 11.810 [4.000, 30.000] - loss: 0.018 - mae: 2.754 - mean_q: 3.327 - mean_eps: 0.804 - ale.lives: 2.112\n",
      "\n",
      "Interval 16 (450000 steps performed)\n",
      "30000/30000 [==============================] - 457s 15ms/step - reward: 0.0174\n",
      "40 episodes - episode_reward: 12.825 [7.000, 26.000] - loss: 0.018 - mae: 2.783 - mean_q: 3.362 - mean_eps: 0.791 - ale.lives: 2.049\n",
      "\n",
      "Interval 17 (480000 steps performed)\n",
      "30000/30000 [==============================] - 465s 15ms/step - reward: 0.0169\n",
      "42 episodes - episode_reward: 12.286 [3.000, 24.000] - loss: 0.018 - mae: 2.812 - mean_q: 3.396 - mean_eps: 0.777 - ale.lives: 2.127\n",
      "\n",
      "Interval 18 (510000 steps performed)\n",
      "30000/30000 [==============================] - 473s 16ms/step - reward: 0.0173\n",
      "41 episodes - episode_reward: 12.805 [3.000, 29.000] - loss: 0.019 - mae: 2.851 - mean_q: 3.443 - mean_eps: 0.764 - ale.lives: 2.043\n",
      "\n",
      "Interval 19 (540000 steps performed)\n",
      "30000/30000 [==============================] - 479s 16ms/step - reward: 0.0179\n",
      "40 episodes - episode_reward: 13.425 [5.000, 26.000] - loss: 0.019 - mae: 2.872 - mean_q: 3.467 - mean_eps: 0.750 - ale.lives: 2.116\n",
      "\n",
      "Interval 20 (570000 steps performed)\n",
      "30000/30000 [==============================] - 488s 16ms/step - reward: 0.0182\n",
      "40 episodes - episode_reward: 13.425 [5.000, 35.000] - loss: 0.019 - mae: 2.908 - mean_q: 3.509 - mean_eps: 0.737 - ale.lives: 2.105\n",
      "\n",
      "Interval 21 (600000 steps performed)\n",
      "30000/30000 [==============================] - 491s 16ms/step - reward: 0.0170\n",
      "45 episodes - episode_reward: 11.422 [5.000, 21.000] - loss: 0.020 - mae: 2.932 - mean_q: 3.537 - mean_eps: 0.723 - ale.lives: 2.127\n",
      "\n",
      "Interval 22 (630000 steps performed)\n",
      "30000/30000 [==============================] - 501s 17ms/step - reward: 0.0182\n",
      "41 episodes - episode_reward: 13.463 [6.000, 29.000] - loss: 0.020 - mae: 2.965 - mean_q: 3.576 - mean_eps: 0.710 - ale.lives: 2.116\n",
      "\n",
      "Interval 23 (660000 steps performed)\n",
      "30000/30000 [==============================] - 519s 17ms/step - reward: 0.0176\n",
      "40 episodes - episode_reward: 13.000 [7.000, 33.000] - loss: 0.020 - mae: 2.979 - mean_q: 3.593 - mean_eps: 0.696 - ale.lives: 2.195\n",
      "\n",
      "Interval 24 (690000 steps performed)\n",
      "30000/30000 [==============================] - 528s 18ms/step - reward: 0.0171\n",
      "40 episodes - episode_reward: 12.825 [6.000, 24.000] - loss: 0.021 - mae: 2.999 - mean_q: 3.617 - mean_eps: 0.683 - ale.lives: 2.240\n",
      "\n",
      "Interval 25 (720000 steps performed)\n",
      "30000/30000 [==============================] - 532s 18ms/step - reward: 0.0184\n",
      "40 episodes - episode_reward: 14.025 [5.000, 40.000] - loss: 0.021 - mae: 3.010 - mean_q: 3.629 - mean_eps: 0.669 - ale.lives: 2.113\n",
      "\n",
      "Interval 26 (750000 steps performed)\n",
      "30000/30000 [==============================] - 539s 18ms/step - reward: 0.0185\n",
      "40 episodes - episode_reward: 13.750 [6.000, 27.000] - loss: 0.022 - mae: 3.024 - mean_q: 3.646 - mean_eps: 0.656 - ale.lives: 2.078\n",
      "\n",
      "Interval 27 (780000 steps performed)\n",
      "30000/30000 [==============================] - 548s 18ms/step - reward: 0.0178\n",
      "37 episodes - episode_reward: 14.162 [7.000, 26.000] - loss: 0.021 - mae: 3.043 - mean_q: 3.668 - mean_eps: 0.642 - ale.lives: 2.124\n",
      "\n",
      "Interval 28 (810000 steps performed)\n",
      "30000/30000 [==============================] - 556s 19ms/step - reward: 0.0179\n",
      "40 episodes - episode_reward: 13.750 [3.000, 33.000] - loss: 0.021 - mae: 3.074 - mean_q: 3.705 - mean_eps: 0.629 - ale.lives: 2.126\n",
      "\n",
      "Interval 29 (840000 steps performed)\n",
      "30000/30000 [==============================] - 565s 19ms/step - reward: 0.0191\n",
      "39 episodes - episode_reward: 14.667 [6.000, 24.000] - loss: 0.021 - mae: 3.103 - mean_q: 3.740 - mean_eps: 0.615 - ale.lives: 2.191\n",
      "\n",
      "Interval 30 (870000 steps performed)\n",
      "30000/30000 [==============================] - 573s 19ms/step - reward: 0.0193\n",
      "40 episodes - episode_reward: 14.575 [6.000, 33.000] - loss: 0.021 - mae: 3.153 - mean_q: 3.799 - mean_eps: 0.602 - ale.lives: 2.090\n",
      "\n",
      "Interval 31 (900000 steps performed)\n",
      "30000/30000 [==============================] - 583s 19ms/step - reward: 0.0187\n",
      "40 episodes - episode_reward: 13.850 [3.000, 24.000] - loss: 0.022 - mae: 3.175 - mean_q: 3.826 - mean_eps: 0.588 - ale.lives: 2.186\n",
      "\n",
      "Interval 32 (930000 steps performed)\n",
      "30000/30000 [==============================] - 592s 20ms/step - reward: 0.0185\n",
      "36 episodes - episode_reward: 15.222 [7.000, 33.000] - loss: 0.022 - mae: 3.212 - mean_q: 3.870 - mean_eps: 0.575 - ale.lives: 2.124\n",
      "\n",
      "Interval 33 (960000 steps performed)\n",
      "30000/30000 [==============================] - 602s 20ms/step - reward: 0.0195\n",
      "38 episodes - episode_reward: 15.842 [6.000, 32.000] - loss: 0.022 - mae: 3.234 - mean_q: 3.896 - mean_eps: 0.561 - ale.lives: 2.084\n",
      "\n",
      "Interval 34 (990000 steps performed)\n",
      "30000/30000 [==============================] - 610s 20ms/step - reward: 0.0201\n",
      "34 episodes - episode_reward: 17.353 [6.000, 35.000] - loss: 0.022 - mae: 3.236 - mean_q: 3.899 - mean_eps: 0.548 - ale.lives: 2.193\n",
      "\n",
      "Interval 35 (1020000 steps performed)\n",
      "30000/30000 [==============================] - 611s 20ms/step - reward: 0.0203\n",
      "38 episodes - episode_reward: 16.316 [6.000, 31.000] - loss: 0.021 - mae: 3.250 - mean_q: 3.916 - mean_eps: 0.534 - ale.lives: 2.102\n",
      "\n",
      "Interval 36 (1050000 steps performed)\n",
      "30000/30000 [==============================] - 608s 20ms/step - reward: 0.0202\n",
      "35 episodes - episode_reward: 17.286 [9.000, 30.000] - loss: 0.023 - mae: 3.331 - mean_q: 4.014 - mean_eps: 0.521 - ale.lives: 2.134\n",
      "\n",
      "Interval 37 (1080000 steps performed)\n",
      "30000/30000 [==============================] - 605s 20ms/step - reward: 0.0192\n",
      "38 episodes - episode_reward: 15.000 [4.000, 29.000] - loss: 0.023 - mae: 3.359 - mean_q: 4.047 - mean_eps: 0.507 - ale.lives: 2.127\n",
      "\n",
      "Interval 38 (1110000 steps performed)\n",
      "30000/30000 [==============================] - 604s 20ms/step - reward: 0.0194\n",
      "40 episodes - episode_reward: 14.850 [5.000, 25.000] - loss: 0.024 - mae: 3.367 - mean_q: 4.056 - mean_eps: 0.494 - ale.lives: 2.221\n",
      "\n",
      "Interval 39 (1140000 steps performed)\n",
      "30000/30000 [==============================] - 608s 20ms/step - reward: 0.0188\n",
      "37 episodes - episode_reward: 14.973 [5.000, 26.000] - loss: 0.025 - mae: 3.401 - mean_q: 4.095 - mean_eps: 0.480 - ale.lives: 2.085\n",
      "\n",
      "Interval 40 (1170000 steps performed)\n",
      "30000/30000 [==============================] - 605s 20ms/step - reward: 0.0203\n",
      "35 episodes - episode_reward: 17.429 [5.000, 32.000] - loss: 0.024 - mae: 3.407 - mean_q: 4.102 - mean_eps: 0.467 - ale.lives: 2.147\n",
      "\n",
      "Interval 41 (1200000 steps performed)\n",
      "30000/30000 [==============================] - 603s 20ms/step - reward: 0.0189\n",
      "37 episodes - episode_reward: 15.324 [5.000, 29.000] - loss: 0.024 - mae: 3.426 - mean_q: 4.125 - mean_eps: 0.453 - ale.lives: 2.103\n",
      "\n",
      "Interval 42 (1230000 steps performed)\n",
      "30000/30000 [==============================] - 602s 20ms/step - reward: 0.0192\n",
      "40 episodes - episode_reward: 14.575 [4.000, 25.000] - loss: 0.024 - mae: 3.456 - mean_q: 4.161 - mean_eps: 0.440 - ale.lives: 2.147\n",
      "\n",
      "Interval 43 (1260000 steps performed)\n",
      "30000/30000 [==============================] - 600s 20ms/step - reward: 0.0192\n",
      "39 episodes - episode_reward: 14.744 [5.000, 34.000] - loss: 0.024 - mae: 3.488 - mean_q: 4.199 - mean_eps: 0.426 - ale.lives: 2.170\n",
      "\n",
      "Interval 44 (1290000 steps performed)\n",
      "30000/30000 [==============================] - 599s 20ms/step - reward: 0.0193\n",
      "36 episodes - episode_reward: 15.611 [4.000, 31.000] - loss: 0.023 - mae: 3.515 - mean_q: 4.231 - mean_eps: 0.413 - ale.lives: 2.100\n",
      "\n",
      "Interval 45 (1320000 steps performed)\n",
      "30000/30000 [==============================] - 597s 20ms/step - reward: 0.0186\n",
      "37 episodes - episode_reward: 15.216 [6.000, 31.000] - loss: 0.023 - mae: 3.536 - mean_q: 4.256 - mean_eps: 0.399 - ale.lives: 2.034\n",
      "\n",
      "Interval 46 (1350000 steps performed)\n",
      "30000/30000 [==============================] - 595s 20ms/step - reward: 0.0210\n",
      "36 episodes - episode_reward: 17.500 [5.000, 31.000] - loss: 0.024 - mae: 3.550 - mean_q: 4.272 - mean_eps: 0.386 - ale.lives: 2.077\n",
      "\n",
      "Interval 47 (1380000 steps performed)\n",
      "30000/30000 [==============================] - 586s 20ms/step - reward: 0.0186\n",
      "36 episodes - episode_reward: 15.500 [6.000, 30.000] - loss: 0.024 - mae: 3.585 - mean_q: 4.314 - mean_eps: 0.372 - ale.lives: 2.098\n",
      "\n",
      "Interval 48 (1410000 steps performed)\n",
      "30000/30000 [==============================] - 585s 19ms/step - reward: 0.0181\n",
      "39 episodes - episode_reward: 14.154 [5.000, 26.000] - loss: 0.024 - mae: 3.607 - mean_q: 4.340 - mean_eps: 0.359 - ale.lives: 2.071\n",
      "\n",
      "Interval 49 (1440000 steps performed)\n",
      "30000/30000 [==============================] - 583s 19ms/step - reward: 0.0170\n",
      "40 episodes - episode_reward: 12.725 [4.000, 28.000] - loss: 0.024 - mae: 3.632 - mean_q: 4.370 - mean_eps: 0.345 - ale.lives: 2.163\n",
      "\n",
      "Interval 50 (1470000 steps performed)\n",
      "30000/30000 [==============================] - 581s 19ms/step - reward: 0.0195\n",
      "36 episodes - episode_reward: 15.806 [4.000, 35.000] - loss: 0.025 - mae: 3.678 - mean_q: 4.425 - mean_eps: 0.332 - ale.lives: 2.201\n",
      "\n",
      "Interval 51 (1500000 steps performed)\n",
      "30000/30000 [==============================] - 580s 19ms/step - reward: 0.0194\n",
      "34 episodes - episode_reward: 17.382 [5.000, 56.000] - loss: 0.024 - mae: 3.667 - mean_q: 4.412 - mean_eps: 0.318 - ale.lives: 2.116\n",
      "\n",
      "Interval 52 (1530000 steps performed)\n",
      "30000/30000 [==============================] - 580s 19ms/step - reward: 0.0191\n",
      "37 episodes - episode_reward: 15.405 [5.000, 32.000] - loss: 0.024 - mae: 3.696 - mean_q: 4.447 - mean_eps: 0.305 - ale.lives: 2.147\n",
      "\n",
      "Interval 53 (1560000 steps performed)\n",
      "30000/30000 [==============================] - 581s 19ms/step - reward: 0.0199\n",
      "36 episodes - episode_reward: 16.833 [6.000, 34.000] - loss: 0.024 - mae: 3.740 - mean_q: 4.500 - mean_eps: 0.291 - ale.lives: 2.090\n",
      "\n",
      "Interval 54 (1590000 steps performed)\n",
      "30000/30000 [==============================] - 582s 19ms/step - reward: 0.0200\n",
      "39 episodes - episode_reward: 15.077 [5.000, 25.000] - loss: 0.024 - mae: 3.763 - mean_q: 4.528 - mean_eps: 0.278 - ale.lives: 2.085\n",
      "\n",
      "Interval 55 (1620000 steps performed)\n",
      "30000/30000 [==============================] - 582s 19ms/step - reward: 0.0195\n",
      "38 episodes - episode_reward: 15.500 [5.000, 28.000] - loss: 0.024 - mae: 3.790 - mean_q: 4.559 - mean_eps: 0.264 - ale.lives: 2.067\n",
      "\n",
      "Interval 56 (1650000 steps performed)\n",
      "30000/30000 [==============================] - 581s 19ms/step - reward: 0.0193\n",
      "36 episodes - episode_reward: 16.194 [6.000, 30.000] - loss: 0.024 - mae: 3.806 - mean_q: 4.579 - mean_eps: 0.251 - ale.lives: 2.078\n",
      "\n",
      "Interval 57 (1680000 steps performed)\n",
      "30000/30000 [==============================] - 581s 19ms/step - reward: 0.0197\n",
      "36 episodes - episode_reward: 16.556 [4.000, 31.000] - loss: 0.024 - mae: 3.821 - mean_q: 4.597 - mean_eps: 0.237 - ale.lives: 2.132\n",
      "\n",
      "Interval 58 (1710000 steps performed)\n",
      "30000/30000 [==============================] - 580s 19ms/step - reward: 0.0198\n",
      "35 episodes - episode_reward: 16.400 [2.000, 32.000] - loss: 0.025 - mae: 3.852 - mean_q: 4.633 - mean_eps: 0.224 - ale.lives: 2.005\n",
      "\n",
      "Interval 59 (1740000 steps performed)\n",
      " 9997/30000 [========>.....................] - ETA: 6:27 - reward: 0.0211done, took 30201.885 seconds\n"
     ]
    }
   ],
   "source": [
    "#dqn.fit(env, callbacks=callbacks, nb_steps=1750000, log_interval=10000, visualize=False)\n",
    "dqn.fit(env, callbacks=callbacks, nb_steps=1750000, log_interval=30000, visualize=False)\n",
    "\n",
    "dqn.save_weights(weights_filename, overwrite=True)"
   ]
  },
  {
   "cell_type": "code",
   "execution_count": 18,
   "metadata": {
    "id": "OHYryKd1Gb2b"
   },
   "outputs": [
    {
     "name": "stdout",
     "output_type": "stream",
     "text": [
      "Testing for 10 episodes ...\n",
      "Episode 1: reward: 19.000, steps: 1188\n",
      "Episode 2: reward: 18.000, steps: 1031\n",
      "Episode 3: reward: 20.000, steps: 1026\n",
      "Episode 4: reward: 17.000, steps: 1204\n",
      "Episode 5: reward: 18.000, steps: 764\n",
      "Episode 6: reward: 8.000, steps: 746\n",
      "Episode 7: reward: 20.000, steps: 896\n",
      "Episode 8: reward: 17.000, steps: 919\n",
      "Episode 9: reward: 10.000, steps: 510\n",
      "Episode 10: reward: 17.000, steps: 1231\n",
      "Media de la recompensa obtenida en 10 episodios: 16.4\n",
      "Desviación estandar de la recompensa obtenida en 10 episodios: 3.8781438859330635\n"
     ]
    }
   ],
   "source": [
    "# Testing part to calculate the mean reward\n",
    "weights_filename = 'dqn_{}_weights.h5f'.format(env_name)\n",
    "dqn.load_weights(weights_filename)\n",
    "history = dqn.test(env, nb_episodes=10, visualize=False)\n",
    "recompensas = history.history.get('episode_reward', [])\n",
    "print(f\"Media de la recompensa obtenida en 10 episodios: {np.mean(np.array(recompensas))}\")\n",
    "print(f\"Desviación estandar de la recompensa obtenida en 10 episodios: {np.std(np.array(recompensas))}\")"
   ]
  },
  {
   "cell_type": "markdown",
   "metadata": {
    "id": "-NAlu8b1Gb2b"
   },
   "source": [
    "3. Justificación de los parámetros seleccionados y de los resultados obtenidos"
   ]
  },
  {
   "cell_type": "markdown",
   "metadata": {
    "id": "ANFQiicXK3sO"
   },
   "source": [
    "---"
   ]
  }
 ],
 "metadata": {
  "colab": {
   "provenance": []
  },
  "kernelspec": {
   "display_name": "Python 3 (ipykernel)",
   "language": "python",
   "name": "python3"
  },
  "language_info": {
   "codemirror_mode": {
    "name": "ipython",
    "version": 3
   },
   "file_extension": ".py",
   "mimetype": "text/x-python",
   "name": "python",
   "nbconvert_exporter": "python",
   "pygments_lexer": "ipython3",
   "version": "3.8.20"
  }
 },
 "nbformat": 4,
 "nbformat_minor": 4
}
