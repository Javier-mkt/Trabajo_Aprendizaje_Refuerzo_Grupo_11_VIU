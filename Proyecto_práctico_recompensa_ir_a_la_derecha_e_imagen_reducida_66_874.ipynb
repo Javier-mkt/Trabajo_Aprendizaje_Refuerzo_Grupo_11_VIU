{
 "cells": [
  {
   "cell_type": "markdown",
   "metadata": {
    "id": "jUehXgCyIRdq"
   },
   "source": [
    "# Actividad - Proyecto práctico\n",
    "\n",
    "\n",
    "> La actividad se desarrollará en grupos pre-definidos de 2-3 alumnos. Se debe indicar los nombres en orden alfabético (de apellidos). Recordad que esta actividad se corresponde con un 30% de la nota final de la asignatura. Se debe entregar entregar el trabajo en la presente notebook.\n",
    "*   Alumno 1: Gil Garcera, Javier \n",
    "*   Alumno 2: Palomares Mateo, Abel \n",
    "*   Alumno 3: Serrano López, Francisco Rubén \n",
    "*   Alumno 4: Vegas Romero, David \n",
    "\n",
    "\n",
    "\n",
    "\n",
    "\n"
   ]
  },
  {
   "cell_type": "markdown",
   "metadata": {
    "id": "JwpYlnjWJhS9"
   },
   "source": [
    "---\n",
    "## **PARTE 1** - Instalación y requisitos previos\n",
    "\n",
    "> Las prácticas han sido preparadas para poder realizarse en el entorno de trabajo de Google Colab. Sin embargo, esta plataforma presenta ciertas incompatibilidades a la hora de visualizar la renderización en gym. Por ello, para obtener estas visualizaciones, se deberá trasladar el entorno de trabajo a local. Por ello, el presente dosier presenta instrucciones para poder trabajar en ambos entornos. Siga los siguientes pasos para un correcto funcionamiento:\n",
    "1.   **LOCAL:** Preparar el enviroment, siguiendo las intrucciones detalladas en la sección *1.1.Preparar enviroment*.\n",
    "2.  **AMBOS:** Modificar las variables \"mount\" y \"drive_mount\" a la carpeta de trabajo en drive en el caso de estar en Colab, y ejecturar la celda *1.2.Localizar entorno de trabajo*.\n",
    "3. **COLAB:** se deberá ejecutar las celdas correspondientes al montaje de la carpeta de trabajo en Drive. Esta corresponde a la sección *1.3.Montar carpeta de datos local*.\n",
    "4.  **AMBOS:** Instalar las librerías necesarias, siguiendo la sección *1.4.Instalar librerías necesarias*.\n"
   ]
  },
  {
   "cell_type": "markdown",
   "metadata": {
    "id": "RU2BPrK2JkP0"
   },
   "source": [
    "---\n",
    "### 1.1. Preparar enviroment (solo local)\n",
    "\n",
    "\n",
    "\n",
    "> Para preparar el entorno de trabajo en local, se han seguido los siguientes pasos:\n",
    "1. En Windows, puede ser necesario instalar las C++ Build Tools. Para ello, siga los siguientes pasos: https://towardsdatascience.com/how-to-install-openai-gym-in-a-windows-environment-338969e24d30.\n",
    "2. Instalar Anaconda\n",
    "3. Siguiendo el código que se presenta comentado en la próxima celda: Crear un enviroment, cambiar la ruta de trabajo, e instalar librerías básicas.\n",
    "\n",
    "\n",
    "```\n",
    "conda create --name miar_rl python=3.8\n",
    "conda activate miar_rl\n",
    "cd \"PATH_TO_FOLDER\"\n",
    "conda install git\n",
    "pip install jupyter\n",
    "```\n",
    "\n",
    "\n",
    "4. Abrir la notebook con *jupyter-notebook*.\n",
    "\n",
    "\n",
    "\n",
    "```\n",
    "jupyter-notebook\n",
    "```\n"
   ]
  },
  {
   "cell_type": "markdown",
   "metadata": {
    "id": "w-kixNPiJqTc"
   },
   "source": [
    "---\n",
    "### 1.2. Localizar entorno de trabajo: Google colab o local"
   ]
  },
  {
   "cell_type": "code",
   "execution_count": 1,
   "metadata": {
    "id": "S_YDFwZ-JscI"
   },
   "outputs": [],
   "source": [
    "# ATENCIÓN!! Modificar ruta relativa a la práctica si es distinta (drive_root)\n",
    "mount='/content/gdrive'\n",
    "drive_root = mount + \"/My Drive/08_MIAR/actividades/proyecto practico\"\n",
    "\n",
    "try:\n",
    "  from google.colab import drive\n",
    "  IN_COLAB=True\n",
    "except:\n",
    "  IN_COLAB=False"
   ]
  },
  {
   "cell_type": "markdown",
   "metadata": {
    "id": "8Dp_a1iBJ0tf"
   },
   "source": [
    "---\n",
    "### 1.3. Montar carpeta de datos local (solo Colab)"
   ]
  },
  {
   "cell_type": "code",
   "execution_count": 2,
   "metadata": {
    "id": "I6n7MIefJ21i"
   },
   "outputs": [
    {
     "name": "stdout",
     "output_type": "stream",
     "text": [
      "Archivos en el directorio: \n",
      "['dqn_SpaceInvaders-v0_weights_1150000.h5f.index', 'dqn_SpaceInvaders-v0_weights_900000.h5f.index', 'dqn_SpaceInvaders-v0_weights_1575000.h5f.data-00000-of-00001', 'dqn_SpaceInvaders-v0_weights_475000.h5f.data-00000-of-00001', 'dqn_SpaceInvaders-v0_weights_1625000.h5f.index', 'dqn_SpaceInvaders-v0_weights_1325000.h5f.index', 'dqn_SpaceInvaders-v0_weights_250000.h5f.index', 'dqn_SpaceInvaders-v0_weights_10000.h5f.index', 'dqn_SpaceInvaders-v0_weights_1000000.h5f.data-00000-of-00001', 'dqn_SpaceInvaders-v0_weights_1325000.h5f.data-00000-of-00001', 'Proyecto_práctico_16_4.ipynb', 'dqn_SpaceInvaders-v0_weights_1475000.h5f.data-00000-of-00001', 'dqn_SpaceInvaders-v0_weights_8000.h5f.index', 'dqn_SpaceInvaders-v0_weights_825000.h5f.index', 'dqn_SpaceInvaders-v0_weights_1650000.h5f.index', 'dqn_SpaceInvaders-v0_weights_25000.h5f.index', 'dqn_SpaceInvaders-v0_weights_2000.h5f.data-00000-of-00001', 'dqn_SpaceInvaders-v0_weights_1925000.h5f.data-00000-of-00001', 'dqn_SpaceInvaders-v0_weights_1275000.h5f.data-00000-of-00001', 'dqn_SpaceInvaders-v0_weights_1050000.h5f.index', 'dqn_SpaceInvaders-v0_weights_1875000.h5f.index', 'dqn_SpaceInvaders-v0_weights_550000.h5f.index', 'dqn_SpaceInvaders-v0_weights_1825000.h5f.data-00000-of-00001', 'dqn_SpaceInvaders-v0_weights_1425000.h5f.index', 'dqn_SpaceInvaders-v0_weights_325000.h5f.index', 'dqn_SpaceInvaders-v0_weights_150000.h5f.data-00000-of-00001', 'dqn_SpaceInvaders-v0_weights_1775000.h5f.index', 'dqn_SpaceInvaders-v0_weights_275000.h5f.index', 'dqn_SpaceInvaders-v0_weights_1125000.h5f.data-00000-of-00001', 'dqn_SpaceInvaders-v0_weights_625000.h5f.index', 'dqn_SpaceInvaders-v0_weights_600000.h5f.index', 'dqn_SpaceInvaders-v0_weights_575000.h5f.index', 'dqn_SpaceInvaders-v0_weights_1125000.h5f.index', 'dqn_SpaceInvaders-v0_weights_800000.h5f.data-00000-of-00001', 'dqn_SpaceInvaders-v0_weights_6000.h5f.data-00000-of-00001', 'dqn_SpaceInvaders-v0_weights_175000.h5f.index', 'dqn_SpaceInvaders-v0_weights_1450000.h5f.data-00000-of-00001', 'Proyecto_práctico_local.py', 'dqn_SpaceInvaders-v0_weights_1525000.h5f.data-00000-of-00001', 'dqn_SpaceInvaders-v0_weights_900000.h5f.data-00000-of-00001', 'dqn_SpaceInvaders-v0_weights_1425000.h5f.data-00000-of-00001', 'dqn_SpaceInvaders-v0_weights_1050000.h5f.data-00000-of-00001', 'dqn_SpaceInvaders-v0_weights_300000.h5f.index', 'dqn_SpaceInvaders-v0_weights_1375000.h5f.data-00000-of-00001', 'dqn_SpaceInvaders-v0_weights_1000.h5f.index', 'dqn_SpaceInvaders-v0_weights_7000.h5f.data-00000-of-00001', '.jupyter', 'dqn_SpaceInvaders-v0_weights_1675000.h5f.data-00000-of-00001', 'dqn_SpaceInvaders-v0_weights_725000.h5f.index', 'dqn_SpaceInvaders-v0_weights_8000.h5f.data-00000-of-00001', 'dqn_SpaceInvaders-v0_weights_1000.h5f.data-00000-of-00001', 'dqn_SpaceInvaders-v0_weights_400000.h5f.data-00000-of-00001', 'dqn_SpaceInvaders-v0_weights_4000.h5f.index', 'dqn_SpaceInvaders-v0_weights_6000.h5f.index', 'dqn_SpaceInvaders-v0_weights_425000.h5f.data-00000-of-00001', 'dqn_SpaceInvaders-v0_weights_700000.h5f.data-00000-of-00001', 'dqn_SpaceInvaders-v0_weights_1750000.h5f.data-00000-of-00001', 'dqn_SpaceInvaders-v0_log.json', 'dqn_SpaceInvaders-v0_weights_9000.h5f.index', 'alternativa_google_collab.txt', 'dqn_SpaceInvaders-v0_weights_500000.h5f.data-00000-of-00001', 'dqn_SpaceInvaders-v0_weights_725000.h5f.data-00000-of-00001', 'Proyecto_práctico.ipynb', 'dqn_SpaceInvaders-v0_weights_1225000.h5f.data-00000-of-00001', 'dqn_SpaceInvaders-v0_weights_1350000.h5f.index', 'dqn_SpaceInvaders-v0_weights_1075000.h5f.index', 'dqn_SpaceInvaders-v0_weights_3000.h5f.data-00000-of-00001', 'dqn_SpaceInvaders-v0_weights_750000.h5f.data-00000-of-00001', 'dqn_SpaceInvaders-v0_weights_1200000.h5f.data-00000-of-00001', 'dqn_SpaceInvaders-v0_weights_1350000.h5f.data-00000-of-00001', 'dqn_SpaceInvaders-v0_weights_1175000.h5f.index', 'dqn_SpaceInvaders-v0_weights_175000.h5f.data-00000-of-00001', 'dqn_SpaceInvaders-v0_weights_1400000.h5f.data-00000-of-00001', 'dqn_SpaceInvaders-v0_weights_1650000.h5f.data-00000-of-00001', 'dqn_SpaceInvaders-v0_weights_450000.h5f.index', 'dqn_SpaceInvaders-v0_weights_675000.h5f.index', 'dqn_SpaceInvaders-v0_weights_925000.h5f.data-00000-of-00001', 'dqn_SpaceInvaders-v0_weights_2000000.h5f.data-00000-of-00001', 'dqn_SpaceInvaders-v0_weights_1025000.h5f.data-00000-of-00001', 'dqn_SpaceInvaders-v0_weights_1625000.h5f.data-00000-of-00001', 'dqn_SpaceInvaders-v0_weights_1825000.h5f.index', 'dqn_SpaceInvaders-v0_weights_525000.h5f.data-00000-of-00001', 'dqn_SpaceInvaders-v0_weights_950000.h5f.index', 'dqn_SpaceInvaders-v0_weights_1750000.h5f.index', 'dqn_SpaceInvaders-v0_weights_1950000.h5f.data-00000-of-00001', 'dqn_SpaceInvaders-v0_weights_1775000.h5f.data-00000-of-00001', 'dqn_SpaceInvaders-v0_weights_200000.h5f.data-00000-of-00001', 'dqn_SpaceInvaders-v0_weights_125000.h5f.index', 'dqn_SpaceInvaders-v0_weights_1025000.h5f.index', 'dqn_SpaceInvaders-v0_weights_1175000.h5f.data-00000-of-00001', 'dqn_SpaceInvaders-v0_weights_375000.h5f.data-00000-of-00001', 'dqn_SpaceInvaders-v0_weights_1550000.h5f.index', 'dqn_SpaceInvaders-v0_weights_75000.h5f.index', 'dqn_SpaceInvaders-v0_weights.h5f.index', 'dqn_SpaceInvaders-v0_weights_1550000.h5f.data-00000-of-00001', 'dqn_SpaceInvaders-v0_weights_1500000.h5f.data-00000-of-00001', 'dqn_SpaceInvaders-v0_weights_2000000.h5f.index', 'dqn_SpaceInvaders-v0_weights_225000.h5f.data-00000-of-00001', 'dqn_SpaceInvaders-v0_weights_1250000.h5f.data-00000-of-00001', 'dqn_SpaceInvaders-v0_weights_1150000.h5f.data-00000-of-00001', 'dqn_SpaceInvaders-v0_weights_800000.h5f.index', 'dqn_SpaceInvaders-v0_weights_825000.h5f.data-00000-of-00001', 'Proyecto_práctico_16_3.ipynb', 'dqn_SpaceInvaders-v0_weights_350000.h5f.data-00000-of-00001', 'dqn_SpaceInvaders-v0_weights_975000.h5f.index', 'dqn_SpaceInvaders-v0_weights_100000.h5f.index', 'dqn_SpaceInvaders-v0_weights_1900000.h5f.data-00000-of-00001', 'dqn_SpaceInvaders-v0_weights_1075000.h5f.data-00000-of-00001', 'dqn_SpaceInvaders-v0_weights_1375000.h5f.index', 'dqn_SpaceInvaders-v0_weights_950000.h5f.data-00000-of-00001', 'dqn_SpaceInvaders-v0_weights_350000.h5f.index', 'dqn_SpaceInvaders-v0_weights_600000.h5f.data-00000-of-00001', 'dqn_SpaceInvaders-v0_weights_50000.h5f.index', 'dqn_SpaceInvaders-v0_weights_1275000.h5f.index', 'dqn_SpaceInvaders-v0_weights_500000.h5f.index', 'dqn_SpaceInvaders-v0_weights_1800000.h5f.data-00000-of-00001', 'dqn_SpaceInvaders-v0_weights_100000.h5f.data-00000-of-00001', 'pesos_16_4', 'dqn_SpaceInvaders-v0_weights_1000000.h5f.index', 'dqn_SpaceInvaders-v0_weights_300000.h5f.data-00000-of-00001', 'dqn_SpaceInvaders-v0_weights_375000.h5f.index', 'dqn_SpaceInvaders-v0_weights_475000.h5f.index', 'dqn_SpaceInvaders-v0_weights_10000.h5f.data-00000-of-00001', 'dqn_SpaceInvaders-v0_weights_20000.h5f.index', 'dqn_SpaceInvaders-v0_weights_50000.h5f.data-00000-of-00001', 'dqn_SpaceInvaders-v0_weights_5000.h5f.data-00000-of-00001', 'dqn_SpaceInvaders-v0_weights_975000.h5f.data-00000-of-00001', 'dqn_SpaceInvaders-v0_weights_675000.h5f.data-00000-of-00001', 'dqn_SpaceInvaders-v0_weights_450000.h5f.data-00000-of-00001', 'dqn_SpaceInvaders-v0_weights_1900000.h5f.index', 'dqn_SpaceInvaders-v0_weights_1475000.h5f.index', 'dqn_SpaceInvaders-v0_weights_1725000.h5f.index', 'dqn_SpaceInvaders-v0_weights_1700000.h5f.index', 'dqn_SpaceInvaders-v0_weights_3000.h5f.index', 'dqn_SpaceInvaders-v0_weights_1300000.h5f.index', 'dqn_SpaceInvaders-v0_weights_700000.h5f.index', 'dqn_SpaceInvaders-v0_weights_275000.h5f.data-00000-of-00001', 'dqn_SpaceInvaders-v0_weights_1950000.h5f.index', 'dqn_SpaceInvaders-v0_weights_650000.h5f.index', 'dqn_SpaceInvaders-v0_weights_1525000.h5f.index', 'dqn_SpaceInvaders-v0_weights_1600000.h5f.index', 'dqn_SpaceInvaders-v0_weights_2000.h5f.index', 'dqn_SpaceInvaders-v0_weights_325000.h5f.data-00000-of-00001', 'dqn_SpaceInvaders-v0_weights_575000.h5f.data-00000-of-00001', 'dqn_SpaceInvaders-v0_weights_875000.h5f.index', 'dqn_SpaceInvaders-v0_weights_5000.h5f.index', 'dqn_SpaceInvaders-v0_weights_25000.h5f.data-00000-of-00001', 'Proyecto_práctico_local.ipynb', 'dqn_SpaceInvaders-v0_weights_1225000.h5f.index', 'dqn_SpaceInvaders-v0_weights_1800000.h5f.index', 'dqn_SpaceInvaders-v0_weights_40000.h5f.data-00000-of-00001', 'dqn_SpaceInvaders-v0_weights_1850000.h5f.index', 'dqn_SpaceInvaders-v0_weights_40000.h5f.index', 'dqn_SpaceInvaders-v0_weights_850000.h5f.data-00000-of-00001', 'dqn_SpaceInvaders-v0_weights_75000.h5f.data-00000-of-00001', 'dqn_SpaceInvaders-v0_weights_625000.h5f.data-00000-of-00001', 'dqn_SpaceInvaders-v0_weights_1500000.h5f.index', 'dqn_SpaceInvaders-v0_weights_400000.h5f.index', 'dqn_SpaceInvaders-v0_weights_20000.h5f.data-00000-of-00001', 'README.md', 'dqn_SpaceInvaders-v0_weights_1575000.h5f.index', 'dqn_SpaceInvaders-v0_weights_1300000.h5f.data-00000-of-00001', 'dqn_SpaceInvaders-v0_weights_225000.h5f.index', 'Proyecto_práctico_local_error.ipynb', 'dqn_SpaceInvaders-v0_weights_650000.h5f.data-00000-of-00001', '.ipynb_checkpoints', 'dqn_SpaceInvaders-v0_weights_550000.h5f.data-00000-of-00001', 'dqn_SpaceInvaders-v0_weights_1400000.h5f.index', '.git', 'dqn_SpaceInvaders-v0_weights_125000.h5f.data-00000-of-00001', 'dqn_SpaceInvaders-v0_weights_775000.h5f.data-00000-of-00001', 'dqn_SpaceInvaders-v0_weights_1675000.h5f.index', 'dqn_SpaceInvaders-v0_weights.h5f.data-00000-of-00001', 'dqn_SpaceInvaders-v0_weights_775000.h5f.index', 'dqn_SpaceInvaders-v0_weights_1975000.h5f.index', 'dqn_SpaceInvaders-v0_weights_1725000.h5f.data-00000-of-00001', 'dqn_SpaceInvaders-v0_weights_1875000.h5f.data-00000-of-00001', 'dqn_SpaceInvaders-v0_weights_7000.h5f.index', 'dqn_SpaceInvaders-v0_weights_1250000.h5f.index', 'dqn_SpaceInvaders-v0_weights_875000.h5f.data-00000-of-00001', 'dqn_SpaceInvaders-v0_weights_9000.h5f.data-00000-of-00001', 'dqn_SpaceInvaders-v0_weights_425000.h5f.index', '.gitignore', 'dqn_SpaceInvaders-v0_weights_250000.h5f.data-00000-of-00001', 'dqn_SpaceInvaders-v0_weights_1975000.h5f.data-00000-of-00001', 'dqn_SpaceInvaders-v0_weights_750000.h5f.index', 'dqn_SpaceInvaders-v0_weights_1100000.h5f.data-00000-of-00001', 'dqn_SpaceInvaders-v0_weights_925000.h5f.index', 'checkpoint', 'dqn_SpaceInvaders-v0_weights_1850000.h5f.data-00000-of-00001', 'dqn_SpaceInvaders-v0_weights_525000.h5f.index', 'dqn_SpaceInvaders-v0_weights_1450000.h5f.index', 'dqn_SpaceInvaders-v0_weights_150000.h5f.index', 'dqn_SpaceInvaders-v0_weights_4000.h5f.data-00000-of-00001', 'dqn_SpaceInvaders-v0_weights_200000.h5f.index', 'dqn_SpaceInvaders-v0_weights_1100000.h5f.index', 'dqn_SpaceInvaders-v0_weights_1700000.h5f.data-00000-of-00001', 'dqn_SpaceInvaders-v0_weights_1925000.h5f.index', 'dqn_SpaceInvaders-v0_weights_1200000.h5f.index', 'dqn_SpaceInvaders-v0_weights_850000.h5f.index', 'dqn_SpaceInvaders-v0_weights_1600000.h5f.data-00000-of-00001']\n"
     ]
    }
   ],
   "source": [
    "# Switch to the directory on the Google Drive that you want to use\n",
    "import os\n",
    "os.environ['TF_CPP_MIN_LOG_LEVEL'] = '2'\n",
    "if IN_COLAB:\n",
    "  print(\"We're running Colab\")\n",
    "\n",
    "  if IN_COLAB:\n",
    "    # Mount the Google Drive at mount\n",
    "    print(\"Colab: mounting Google drive on \", mount)\n",
    "\n",
    "    drive.mount(mount)\n",
    "\n",
    "    # Create drive_root if it doesn't exist\n",
    "    create_drive_root = True\n",
    "    if create_drive_root:\n",
    "      print(\"\\nColab: making sure \", drive_root, \" exists.\")\n",
    "      os.makedirs(drive_root, exist_ok=True)\n",
    "\n",
    "    # Change to the directory\n",
    "    print(\"\\nColab: Changing directory to \", drive_root)\n",
    "    %cd $drive_root\n",
    "# Verify we're in the correct working directory\n",
    "%pwd\n",
    "print(\"Archivos en el directorio: \")\n",
    "print(os.listdir())"
   ]
  },
  {
   "cell_type": "markdown",
   "metadata": {
    "id": "i1ZSL5bpJ560"
   },
   "source": [
    "---\n",
    "### 1.4. Instalar librerías necesarias"
   ]
  },
  {
   "cell_type": "code",
   "execution_count": 3,
   "metadata": {
    "id": "UbVRjvHCJ8UF"
   },
   "outputs": [],
   "source": [
    "if IN_COLAB:\n",
    "  %pip install gym==0.17.3\n",
    "  %pip install git+https://github.com/Kojoley/atari-py.git\n",
    "  %pip install keras-rl2==1.0.5\n",
    "  %pip install tensorflow==2.8\n",
    "  %pip install tensorflow==2.12.1\n",
    "elif False:\n",
    "  %pip install numpy==1.23.5\n",
    "  %pip install gym==0.17.3\n",
    "  %pip install git+https://github.com/Kojoley/atari-py.git\n",
    "  %pip install pyglet==1.5.0\n",
    "  %pip install h5py==3.10.0\n",
    "  %pip install Pillow==9.5.0\n",
    "  %pip install keras-rl2==1.0.5\n",
    "  %pip install Keras==2.12.0\n",
    "  %pip install tensorflow==2.12.1\n",
    "  %pip install torch==2.0.1\n",
    "  %pip install agents==1.4.0"
   ]
  },
  {
   "cell_type": "markdown",
   "metadata": {
    "id": "4hzP_5ZuGb2X"
   },
   "source": [
    "---\n",
    "## **PARTE 2**. Enunciado\n",
    "\n",
    "Consideraciones a tener en cuenta:\n",
    "\n",
    "- El entorno sobre el que trabajaremos será _SpaceInvaders-v0_ y el algoritmo que usaremos será _DQN_.\n",
    "\n",
    "- Para nuestro ejercicio, el requisito mínimo será alcanzado cuando el agente consiga una **media de recompensa por encima de 20 puntos en modo test**. Por ello, esta media de la recompensa se calculará a partir del código de test en la última celda del notebook.\n",
    "\n",
    "Este proyecto práctico consta de tres partes:\n",
    "\n",
    "1.   Implementar la red neuronal que se usará en la solución\n",
    "2.   Implementar las distintas piezas de la solución DQN\n",
    "3.   Justificar la respuesta en relación a los resultados obtenidos\n",
    "\n",
    "**Rúbrica**: Se valorará la originalidad en la solución aportada, así como la capacidad de discutir los resultados de forma detallada. El requisito mínimo servirá para aprobar la actividad, bajo premisa de que la discusión del resultado sera apropiada.\n",
    "\n",
    "IMPORTANTE:\n",
    "\n",
    "* Si no se consigue una puntuación óptima, responder sobre la mejor puntuación obtenida.\n",
    "* Para entrenamientos largos, recordad que podéis usar checkpoints de vuestros modelos para retomar los entrenamientos. En este caso, recordad cambiar los parámetros adecuadamente (sobre todo los relacionados con el proceso de exploración).\n",
    "* Se deberá entregar unicamente el notebook y los pesos del mejor modelo en un fichero .zip, de forma organizada.\n",
    "* Cada alumno deberá de subir la solución de forma individual."
   ]
  },
  {
   "cell_type": "markdown",
   "metadata": {
    "id": "6_b3mzw8IzJP"
   },
   "source": [
    "---\n",
    "## **PARTE 3**. Desarrollo y preguntas"
   ]
  },
  {
   "cell_type": "markdown",
   "metadata": {
    "id": "duPmUNOVGb2a"
   },
   "source": [
    "#### Importar librerías"
   ]
  },
  {
   "cell_type": "code",
   "execution_count": 3,
   "metadata": {
    "id": "j3eRhgI-Gb2a"
   },
   "outputs": [
    {
     "name": "stderr",
     "output_type": "stream",
     "text": [
      "2025-07-02 19:24:32.056610: E tensorflow/stream_executor/cuda/cuda_blas.cc:2981] Unable to register cuBLAS factory: Attempting to register factory for plugin cuBLAS when one has already been registered\n"
     ]
    }
   ],
   "source": [
    "from __future__ import division\n",
    "\n",
    "from PIL import Image\n",
    "import numpy as np\n",
    "import gym\n",
    "\n",
    "from tensorflow.keras.models import model_from_json\n",
    "from tensorflow.keras.models import Sequential\n",
    "from tensorflow.keras.layers import Dense, Activation, Flatten, Convolution2D, Permute\n",
    "from tensorflow.keras.optimizers import Adam\n",
    "#from tensorflow.keras.optimizers.legacy import Adam\n",
    "\n",
    "import tensorflow.keras.backend as K\n",
    "\n",
    "from rl.agents.dqn import DQNAgent\n",
    "from rl.policy import LinearAnnealedPolicy, BoltzmannQPolicy, EpsGreedyQPolicy\n",
    "from rl.memory import SequentialMemory\n",
    "from rl.core import Processor\n",
    "from rl.callbacks import FileLogger, ModelIntervalCheckpoint\n",
    "import tensorflow as tf"
   ]
  },
  {
   "cell_type": "markdown",
   "metadata": {
    "id": "f4jgQjzoGb2a"
   },
   "source": [
    "#### Configuración base"
   ]
  },
  {
   "cell_type": "code",
   "execution_count": 28,
   "metadata": {
    "id": "jwOE6I_KGb2a"
   },
   "outputs": [],
   "source": [
    "INPUT_SHAPE = (84, 84)\n",
    "WINDOW_LENGTH = 4\n",
    "\n",
    "class RewardShapingWrapper(gym.RewardWrapper):\n",
    "    def __init__(self, env):\n",
    "        super(RewardShapingWrapper, self).__init__(env)\n",
    "        self.last_action = None\n",
    "\n",
    "    def step(self, action):\n",
    "        obs, reward, done, info = self.env.step(action)\n",
    "\n",
    "        # Penalizar NOOP (acción 0) o incentivar movimiento\n",
    "        if action == 0:  # NOOP\n",
    "            reward -= 0.01\n",
    "        elif action == 1:  # LEFT\n",
    "            reward += 0.01\n",
    "        elif action == 2:  # RIGHT\n",
    "            reward += 0.02\n",
    "        elif action == 3:  # LEFTFIRE\n",
    "            reward += 0.1\n",
    "        elif action == 4:  # RIGHTFIRE\n",
    "            reward += 0.2\n",
    "\n",
    "        return obs, reward, done, info\n",
    "\n",
    "env_name = 'SpaceInvaders-v0'\n",
    "env = gym.make(env_name)\n",
    "env = RewardShapingWrapper(env)\n",
    "\n",
    "np.random.seed(123)\n",
    "env.seed(123)\n",
    "nb_actions = env.action_space.n"
   ]
  },
  {
   "cell_type": "code",
   "execution_count": 29,
   "metadata": {
    "id": "9jGEZUcpGb2a"
   },
   "outputs": [],
   "source": [
    "\"\"\"class AtariProcessor(Processor):\n",
    "    def process_observation(self, observation):\n",
    "        assert observation.ndim == 3  # (height, width, channel)\n",
    "        img = Image.fromarray(observation)\n",
    "        img = img.resize(INPUT_SHAPE).convert('L')\n",
    "        processed_observation = np.array(img)\n",
    "        assert processed_observation.shape == INPUT_SHAPE\n",
    "        return processed_observation.astype('uint8')\n",
    "\n",
    "    def process_state_batch(self, batch):\n",
    "        processed_batch = batch.astype('float32') / 255.\n",
    "        return processed_batch\n",
    "\n",
    "    def process_reward(self, reward):\n",
    "        return np.clip(reward, -1., 1.)\n",
    "\n",
    "class AtariProcessor(Processor):\n",
    "    def process_observation(self, observation):\n",
    "        assert observation.ndim == 3  # (height, width, channel)\n",
    "\n",
    "        # Recorta la parte superior (por ejemplo, los primeros 30-34 píxeles)\n",
    "        cropped = observation[34:, :, :]  # Recorta arriba, conserva canales\n",
    "\n",
    "        img = Image.fromarray(cropped)\n",
    "        img = img.resize(INPUT_SHAPE).convert('L')  # Resize y escala de grises\n",
    "        processed_observation = np.array(img)\n",
    "\n",
    "        assert processed_observation.shape == INPUT_SHAPE\n",
    "        return processed_observation.astype('uint8')\n",
    "\n",
    "    def process_state_batch(self, batch):\n",
    "        processed_batch = batch.astype('float32') / 255.\n",
    "        return processed_batch\n",
    "\n",
    "    def process_reward(self, reward):\n",
    "        return np.clip(reward, -1., 1.)\n",
    "\"\"\"\n",
    "class AtariProcessor(Processor):\n",
    "    def process_observation(self, observation):\n",
    "        assert observation.ndim == 3  # (H, W, C) = (210, 160, 3)\n",
    "\n",
    "        # Convertir a escala de grises con promedio (más rápido que PIL)\n",
    "        grayscale = np.mean(observation, axis=2).astype(np.uint8)  # (210, 160)\n",
    "\n",
    "        # Recortar (remueve parte superior y tal vez inferior)\n",
    "#        cropped = grayscale[34:194, :]  # Queda (160, 160)\n",
    "        cropped = grayscale[30:190, 10:150]\n",
    "\n",
    "        #cropped = grayscale[84:210-20, :]\n",
    "\n",
    "        # Redimensionar a 84x84\n",
    "        img = Image.fromarray(cropped)\n",
    "        img = img.resize((84, 84), resample=Image.BILINEAR)\n",
    "        \n",
    "        processed_observation = np.array(img)\n",
    "        assert processed_observation.shape == (84, 84)\n",
    "\n",
    "        return processed_observation.astype('uint8')\n",
    "\n",
    "    def process_state_batch(self, batch):\n",
    "        # Normalización para Keras\n",
    "        return batch.astype('float32') / 255.\n",
    "\n",
    "    def process_reward(self, reward):\n",
    "        return np.clip(reward, -1., 1.)"
   ]
  },
  {
   "cell_type": "markdown",
   "metadata": {
    "id": "7yitXTADGb2b"
   },
   "source": [
    "1. Implementación de la red neuronal"
   ]
  },
  {
   "cell_type": "code",
   "execution_count": 30,
   "metadata": {
    "id": "O4GKrfWSGb2b"
   },
   "outputs": [
    {
     "name": "stdout",
     "output_type": "stream",
     "text": [
      "Numero de acciones disponibles:6\n",
      "Formato de las observaciones:\n",
      "channels_last\n",
      "Model: \"sequential_4\"\n",
      "_________________________________________________________________\n",
      " Layer (type)                Output Shape              Param #   \n",
      "=================================================================\n",
      " permute_4 (Permute)         (None, 84, 84, 4)         0         \n",
      "                                                                 \n",
      " conv2d_12 (Conv2D)          (None, 20, 20, 32)        8224      \n",
      "                                                                 \n",
      " activation_20 (Activation)  (None, 20, 20, 32)        0         \n",
      "                                                                 \n",
      " conv2d_13 (Conv2D)          (None, 9, 9, 64)          32832     \n",
      "                                                                 \n",
      " activation_21 (Activation)  (None, 9, 9, 64)          0         \n",
      "                                                                 \n",
      " conv2d_14 (Conv2D)          (None, 7, 7, 64)          36928     \n",
      "                                                                 \n",
      " activation_22 (Activation)  (None, 7, 7, 64)          0         \n",
      "                                                                 \n",
      " flatten_4 (Flatten)         (None, 3136)              0         \n",
      "                                                                 \n",
      " dense_8 (Dense)             (None, 512)               1606144   \n",
      "                                                                 \n",
      " activation_23 (Activation)  (None, 512)               0         \n",
      "                                                                 \n",
      " dense_9 (Dense)             (None, 6)                 3078      \n",
      "                                                                 \n",
      " activation_24 (Activation)  (None, 6)                 0         \n",
      "                                                                 \n",
      "=================================================================\n",
      "Total params: 1,687,206\n",
      "Trainable params: 1,687,206\n",
      "Non-trainable params: 0\n",
      "_________________________________________________________________\n",
      "None\n"
     ]
    }
   ],
   "source": [
    "print(\"Numero de acciones disponibles:\" + str(nb_actions))\n",
    "print(\"Formato de las observaciones:\")\n",
    "#env.observation_space\n",
    "## Next, we build a very simple model.\n",
    "#model = Sequential()\n",
    "#model.add(Flatten(input_shape=(1,) + env.observation_space.shape))\n",
    "#model.add(Dense(16))\n",
    "#model.add(Activation('relu'))\n",
    "#model.add(Dense(16))\n",
    "#model.add(Activation('relu'))\n",
    "#model.add(Dense(16))\n",
    "#model.add(Activation('relu'))\n",
    "#model.add(Dense(nb_actions))\n",
    "#model.add(Activation('linear'))\n",
    "#print(model.summary())\n",
    "\n",
    "\n",
    "# Next, we build our model. We use the same model that was described by Mnih et al. (2015).\n",
    "input_shape = (WINDOW_LENGTH,) + INPUT_SHAPE\n",
    "model = Sequential()\n",
    "print(K.image_data_format())\n",
    "if K.image_data_format() == 'channels_last':\n",
    "    # (width, height, channels)\n",
    "    model.add(Permute((2, 3, 1), input_shape=input_shape))\n",
    "elif K.image_data_format() == 'channels_first':\n",
    "    # (channels, width, height)\n",
    "    model.add(Permute((1, 2, 3), input_shape=input_shape))\n",
    "else:\n",
    "    raise RuntimeError('Unknown image_dim_ordering.')\n",
    "\n",
    "model.add(Convolution2D(32, (8, 8), strides=(4, 4)))\n",
    "model.add(Activation('relu'))\n",
    "model.add(Convolution2D(64, (4, 4), strides=(2, 2)))\n",
    "model.add(Activation('relu'))\n",
    "model.add(Convolution2D(64, (3, 3), strides=(1, 1)))\n",
    "model.add(Activation('relu'))\n",
    "model.add(Flatten())\n",
    "model.add(Dense(512))\n",
    "model.add(Activation('relu'))\n",
    "model.add(Dense(nb_actions))\n",
    "model.add(Activation('linear'))\n",
    "\n",
    "\"\"\"\n",
    "from keras.layers import Lambda, Add, Subtract, Multiply, Reshape\n",
    "\n",
    "# Suponiendo que tu output antes era:\n",
    "features = Dense(512, activation='relu')(flattened)\n",
    "\n",
    "# Dueling DQN\n",
    "value = Dense(1, activation='linear')(features)\n",
    "advantage = Dense(nb_actions, activation='linear')(features)\n",
    "advantage_mean = Lambda(lambda x: K.mean(x, axis=1, keepdims=True))(advantage)\n",
    "q_values = Add()([value, Subtract()([advantage, advantage_mean])])\n",
    "\n",
    "model = Model(inputs=inputs, outputs=q_values)\n",
    "\n",
    "\"\"\"\n",
    "\n",
    "print(model.summary())"
   ]
  },
  {
   "cell_type": "code",
   "execution_count": 13,
   "metadata": {},
   "outputs": [
    {
     "data": {
      "text/plain": [
       "\"# Let's define the memory for storing the experience\\nmemory = SequentialMemory(limit=50000, window_length=1)\\n\\n# Define the policy that our agent will follow\\npolicy = BoltzmannQPolicy()\\n\\n# Define the agent\\ndqn = DQNAgent(model=model, nb_actions=nb_actions, memory=memory,\\n               nb_steps_warmup=10,\\n               target_model_update=1e-2, policy=policy)\\n\\nadam_obj = Adam(learning_rate=1e-3)\\ndqn.compile(adam_obj, metrics=['mae'])\\n\\n# Train the agent\\ndqn.fit(env, nb_steps=50000, visualize=False, verbose=2)\\n\\n# After training is done, we save the final weights.\\ndqn.save_weights('dqn_{}_weights.h5f'.format(ENV_NAME), overwrite=True)\\n# Finally, evaluate our algorithm for 5 episodes.\\ndqn.load_weights('dqn_{}_weights.h5f'.format(ENV_NAME))\\ndqn.test(env, nb_episodes=10, visualize=False)\\n\""
      ]
     },
     "execution_count": 13,
     "metadata": {},
     "output_type": "execute_result"
    }
   ],
   "source": [
    "\"\"\"# Let's define the memory for storing the experience\n",
    "memory = SequentialMemory(limit=50000, window_length=1)\n",
    "\n",
    "# Define the policy that our agent will follow\n",
    "policy = BoltzmannQPolicy()\n",
    "\n",
    "# Define the agent\n",
    "dqn = DQNAgent(model=model, nb_actions=nb_actions, memory=memory,\n",
    "               nb_steps_warmup=10,\n",
    "               target_model_update=1e-2, policy=policy)\n",
    "\n",
    "adam_obj = Adam(learning_rate=1e-3)\n",
    "dqn.compile(adam_obj, metrics=['mae'])\n",
    "\n",
    "# Train the agent\n",
    "dqn.fit(env, nb_steps=50000, visualize=False, verbose=2)\n",
    "\n",
    "# After training is done, we save the final weights.\n",
    "dqn.save_weights('dqn_{}_weights.h5f'.format(ENV_NAME), overwrite=True)\n",
    "# Finally, evaluate our algorithm for 5 episodes.\n",
    "dqn.load_weights('dqn_{}_weights.h5f'.format(ENV_NAME))\n",
    "dqn.test(env, nb_episodes=10, visualize=False)\n",
    "\"\"\""
   ]
  },
  {
   "cell_type": "code",
   "execution_count": 35,
   "metadata": {},
   "outputs": [],
   "source": [
    "memory = SequentialMemory(limit=1000000, window_length=WINDOW_LENGTH)\n",
    "processor = AtariProcessor()\n",
    "\n",
    "policy = LinearAnnealedPolicy(EpsGreedyQPolicy(), attr='eps',\n",
    "                              value_max=1., value_min=.1, value_test=.05,\n",
    "                              nb_steps=20000)\n",
    "#dqn = DQNAgent(model=model, nb_actions=nb_actions, policy=policy,\n",
    "#               memory=memory, processor=processor,\n",
    "#               nb_steps_warmup=50000, gamma=.99,\n",
    "#               target_model_update=10000,\n",
    "#               train_interval=4)\n",
    "\n",
    "dqn = DQNAgent(model=model, nb_actions=nb_actions, policy=policy,\n",
    "               memory=memory, processor=processor,\n",
    "               nb_steps_warmup=500, gamma=0.995,\n",
    "               target_model_update=50,\n",
    "               train_interval=4)\n",
    "\n",
    "#dqn.compile(Adam(learning_rate=.00025), metrics=['mae', 'mse'])\n",
    "dqn.compile(Adam(learning_rate=1e-5), metrics=['mse'])\n",
    "\n",
    "# Training part\n",
    "weights_filename = 'dqn_{}_weights.h5f'.format(env_name)\n",
    "checkpoint_weights_filename = 'dqn_' + env_name + '_weights_{step}.h5f'\n",
    "log_filename = 'dqn_{}_log.json'.format(env_name)\n",
    "callbacks = [ModelIntervalCheckpoint(checkpoint_weights_filename, interval=250)]\n",
    "callbacks += [FileLogger(log_filename, interval=20)]"
   ]
  },
  {
   "cell_type": "markdown",
   "metadata": {
    "id": "OB9-_5HPGb2b"
   },
   "source": [
    "2. Implementación de la solución DQN"
   ]
  },
  {
   "cell_type": "code",
   "execution_count": null,
   "metadata": {
    "id": "foSlxWH1Gb2b"
   },
   "outputs": [
    {
     "name": "stdout",
     "output_type": "stream",
     "text": [
      "Training for 20000 steps ...\n",
      "Interval 1 (0 steps performed)\n",
      "200/200 [==============================] - 1s 4ms/step - reward: 0.0584\n",
      "Interval 2 (200 steps performed)\n",
      "200/200 [==============================] - 1s 4ms/step - reward: 0.0573\n",
      "Interval 3 (400 steps performed)\n",
      "200/200 [==============================] - 3s 14ms/step - reward: 0.0727\n",
      "Interval 4 (600 steps performed)\n",
      "200/200 [==============================] - 3s 16ms/step - reward: 0.0726\n",
      "Interval 5 (800 steps performed)\n",
      "200/200 [==============================] - 3s 16ms/step - reward: 0.0681\n",
      "1 episodes - episode_reward: 53.000 [53.000, 53.000] - loss: 0.017 - mse: 0.088 - mean_q: 0.407 - mean_eps: 0.960 - ale.lives: 2.855\n",
      "\n",
      "Interval 6 (1000 steps performed)\n",
      "200/200 [==============================] - 3s 16ms/step - reward: 0.0627\n",
      "Interval 7 (1200 steps performed)\n",
      "200/200 [==============================] - 3s 16ms/step - reward: 0.0739\n",
      "Interval 8 (1400 steps performed)\n",
      "200/200 [==============================] - 3s 16ms/step - reward: 0.0736\n",
      "1 episodes - episode_reward: 48.670 [48.670, 48.670] - loss: 0.015 - mse: 9.888 - mean_q: 3.582 - mean_eps: 0.933 - ale.lives: 1.845\n",
      "\n",
      "Interval 9 (1600 steps performed)\n",
      "200/200 [==============================] - 3s 16ms/step - reward: 0.0897\n",
      "Interval 10 (1800 steps performed)\n",
      "200/200 [==============================] - 3s 16ms/step - reward: 0.1069\n",
      "Interval 11 (2000 steps performed)\n",
      "200/200 [==============================] - 3s 16ms/step - reward: 0.0854\n",
      "Interval 12 (2200 steps performed)\n",
      "200/200 [==============================] - 3s 16ms/step - reward: 0.1010\n",
      "Interval 13 (2400 steps performed)\n",
      "200/200 [==============================] - 3s 16ms/step - reward: 0.0625\n",
      "Interval 14 (2600 steps performed)\n",
      "200/200 [==============================] - 3s 16ms/step - reward: 0.0807\n",
      "1 episodes - episode_reward: 100.060 [100.060, 100.060] - loss: 0.030 - mse: 69.667 - mean_q: 9.191 - mean_eps: 0.879 - ale.lives: 2.305\n",
      "\n",
      "Interval 15 (2800 steps performed)\n",
      "200/200 [==============================] - 3s 16ms/step - reward: 0.0942\n",
      "Interval 16 (3000 steps performed)\n",
      "200/200 [==============================] - 3s 16ms/step - reward: 0.0805\n",
      "Interval 17 (3200 steps performed)\n",
      "200/200 [==============================] - 3s 16ms/step - reward: 0.0769\n",
      "1 episodes - episode_reward: 48.510 [48.510, 48.510] - loss: 0.056 - mse: 115.236 - mean_q: 11.805 - mean_eps: 0.852 - ale.lives: 2.665\n",
      "\n",
      "Interval 18 (3400 steps performed)\n",
      "200/200 [==============================] - 3s 16ms/step - reward: 0.0839\n",
      "Interval 19 (3600 steps performed)\n",
      "200/200 [==============================] - 3s 16ms/step - reward: 0.0727\n",
      "1 episodes - episode_reward: 43.600 [43.600, 43.600] - loss: 0.069 - mse: 149.246 - mean_q: 13.438 - mean_eps: 0.834 - ale.lives: 1.410\n",
      "\n",
      "Interval 20 (3800 steps performed)\n",
      "200/200 [==============================] - 3s 16ms/step - reward: 0.1022\n",
      "Interval 21 (4000 steps performed)\n",
      "200/200 [==============================] - 3s 16ms/step - reward: 0.0828\n",
      "1 episodes - episode_reward: 37.350 [37.350, 37.350] - loss: 0.100 - mse: 180.706 - mean_q: 14.782 - mean_eps: 0.816 - ale.lives: 1.505\n",
      "\n",
      "Interval 22 (4200 steps performed)\n",
      "200/200 [==============================] - 3s 16ms/step - reward: 0.1049\n",
      "Interval 23 (4400 steps performed)\n",
      "200/200 [==============================] - 3s 16ms/step - reward: 0.0971\n",
      "Interval 24 (4600 steps performed)\n",
      "200/200 [==============================] - 3s 16ms/step - reward: 0.1111\n",
      "Interval 25 (4800 steps performed)\n",
      "200/200 [==============================] - 3s 16ms/step - reward: 0.0965\n",
      "Interval 26 (5000 steps performed)\n",
      "200/200 [==============================] - 3s 16ms/step - reward: 0.1108\n",
      "Interval 27 (5200 steps performed)\n",
      "200/200 [==============================] - 3s 16ms/step - reward: 0.1006\n",
      "1 episodes - episode_reward: 108.200 [108.200, 108.200] - loss: 0.150 - mse: 278.379 - mean_q: 18.256 - mean_eps: 0.762 - ale.lives: 2.655\n",
      "\n",
      "Interval 28 (5400 steps performed)\n",
      "101/200 [==============>...............] - ETA: 1s - reward: 0.0836"
     ]
    }
   ],
   "source": [
    "#dqn.fit(env, callbacks=callbacks, nb_steps=1750000, log_interval=10000, visualize=False)\n",
    "#dqn.fit(env, callbacks=callbacks, nb_steps=2000000, log_interval=2000, visualize=True)\n",
    "dqn.fit(env, callbacks=callbacks, nb_steps=20000, log_interval=200, visualize=True)\n",
    "\n",
    "dqn.save_weights(weights_filename, overwrite=True)"
   ]
  },
  {
   "cell_type": "code",
   "execution_count": 34,
   "metadata": {
    "id": "OHYryKd1Gb2b"
   },
   "outputs": [
    {
     "name": "stdout",
     "output_type": "stream",
     "text": [
      "Testing for 10 episodes ...\n",
      "Episode 1: reward: 27.410, steps: 848\n",
      "Episode 2: reward: 61.120, steps: 1455\n",
      "Episode 3: reward: 26.590, steps: 848\n",
      "Episode 4: reward: 42.170, steps: 1104\n",
      "Episode 5: reward: 25.590, steps: 865\n",
      "Episode 6: reward: 26.770, steps: 836\n",
      "Episode 7: reward: 26.390, steps: 862\n",
      "Episode 8: reward: 41.520, steps: 1029\n",
      "Episode 9: reward: 24.660, steps: 843\n",
      "Episode 10: reward: 25.970, steps: 839\n",
      "Media de la recompensa obtenida en 10 episodios: 32.819000000000095\n",
      "Desviación estandar de la recompensa obtenida en 10 episodios: 11.295184327845273\n"
     ]
    }
   ],
   "source": [
    "# Testing part to calculate the mean reward\n",
    "weights_filename = 'dqn_{}_weights.h5f'.format(env_name)\n",
    "dqn.load_weights(weights_filename)\n",
    "history = dqn.test(env, nb_episodes=10, visualize=False)\n",
    "recompensas = history.history.get('episode_reward', [])\n",
    "print(f\"Media de la recompensa obtenida en 10 episodios: {np.mean(np.array(recompensas))}\")\n",
    "print(f\"Desviación estandar de la recompensa obtenida en 10 episodios: {np.std(np.array(recompensas))}\")"
   ]
  },
  {
   "cell_type": "markdown",
   "metadata": {
    "id": "-NAlu8b1Gb2b"
   },
   "source": [
    "3. Justificación de los parámetros seleccionados y de los resultados obtenidos"
   ]
  },
  {
   "cell_type": "markdown",
   "metadata": {
    "id": "ANFQiicXK3sO"
   },
   "source": [
    "---"
   ]
  }
 ],
 "metadata": {
  "colab": {
   "provenance": []
  },
  "kernelspec": {
   "display_name": "Python 3 (ipykernel)",
   "language": "python",
   "name": "python3"
  },
  "language_info": {
   "codemirror_mode": {
    "name": "ipython",
    "version": 3
   },
   "file_extension": ".py",
   "mimetype": "text/x-python",
   "name": "python",
   "nbconvert_exporter": "python",
   "pygments_lexer": "ipython3",
   "version": "3.8.20"
  }
 },
 "nbformat": 4,
 "nbformat_minor": 4
}
